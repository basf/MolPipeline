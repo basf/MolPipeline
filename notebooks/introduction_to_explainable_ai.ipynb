{
 "cells": [
  {
   "cell_type": "markdown",
   "id": "52d2059f-af91-44cb-8606-3797d89a0b76",
   "metadata": {},
   "source": [
    "# Introduction to explainable AI (XAI)\n",
    "\n",
    "MolPipeline supports explainability methods for machine learning models, also called explainable AI (XAI). Explainability methods provide explanations for predictions, which can help to interprete why a model made a prediction. This can be helpful to user for decision making and for developers to improve machine learning models.   \n",
    "\n",
    "This notebook gives an introduction to XAI methods in MolPipeline. We borrow a real-world drug design data set from [Harren et al. 2022](https://pubs.acs.org/doi/10.1021/acs.jcim.1c01263), a great study on interpreting structure–activity relationships (SARs) in lead optimization with XAI from Sanofi and the University Hamburg.\n",
    "\n",
    "The XAI method implemented in MolPipeline and presented here was introduced by [Feldmann et al. 2022](https://doi.org/10.3390/biom12040557) and uses Shapley Values from [SHAP](https://github.com/shap/shap) to explain important atoms and substructures with a heatmap on the 2D depcition of the molecular structure. For the implementation see MolPipelines `explainability` module.\n",
    "\n",
    "Harren et al und unseres sind aehnliche Ansaetze -> beides shap, beides FP"
   ]
  },
  {
   "cell_type": "code",
   "execution_count": 1,
   "id": "24d07cc6-81e1-48d1-b30f-6a1e1f37bf4d",
   "metadata": {},
   "outputs": [],
   "source": [
    "from pathlib import Path\n",
    "\n",
    "from rdkit import Chem\n",
    "from sklearn.ensemble import RandomForestClassifier, RandomForestRegressor\n",
    "import pandas as pd\n",
    "\n",
    "from molpipeline import Pipeline\n",
    "from molpipeline.any2mol import AutoToMol\n",
    "from molpipeline.mol2any import MolToMorganFP\n",
    "from molpipeline.explainability import (\n",
    "    SHAPTreeExplainer,\n",
    "    structure_heatmap_shap,\n",
    "    structure_heatmap,\n",
    ")"
   ]
  },
  {
   "cell_type": "code",
   "execution_count": 2,
   "id": "b10eefeb-f30f-4e49-a9a7-2b0af5e78199",
   "metadata": {},
   "outputs": [],
   "source": [
    "RANDOM_STATE = 123456"
   ]
  },
  {
   "cell_type": "markdown",
   "id": "0c89a57a-2467-4ab0-941f-1a15ce3921dd",
   "metadata": {},
   "source": [
    "## Reading the protein-ligand binding data set"
   ]
  },
  {
   "cell_type": "markdown",
   "id": "a640f22c-9568-47a9-9f1d-4601015a5902",
   "metadata": {},
   "source": [
    "The data set contains bioactivity measurements describing the binding of small molecules (the ligands) and the protein target.\n",
    "\n",
    "The bioactivity is provided as pIC50 values against the aspartic protease renin for molecular series of indole-3-carboxamides and azaindoles. The structure−activity relationship (SAR) is relatively well understood for these molecules. For example, for the indole-3-carboxamides, a PDB structure of the protein-ligand complex is available [3oot](https://www.rcsb.org/structure/3OOT) illustrating the interactions of the highly potent ligand \"5k\" (IC50=2 nM). See the paper of [Harren et al.](https://pubs.acs.org/doi/10.1021/acs.jcim.1c01263) for useful details and references."
   ]
  },
  {
   "cell_type": "markdown",
   "id": "6d726f57-40ff-44dd-a360-76953f42e0c8",
   "metadata": {},
   "source": [
    "Let's read in the molecular data."
   ]
  },
  {
   "cell_type": "code",
   "execution_count": 3,
   "id": "7c7588c6-1c9c-4831-96a8-98223ee7c75a",
   "metadata": {},
   "outputs": [
    {
     "data": {
      "text/html": [
       "<div>\n",
       "<style scoped>\n",
       "    .dataframe tbody tr th:only-of-type {\n",
       "        vertical-align: middle;\n",
       "    }\n",
       "\n",
       "    .dataframe tbody tr th {\n",
       "        vertical-align: top;\n",
       "    }\n",
       "\n",
       "    .dataframe thead th {\n",
       "        text-align: right;\n",
       "    }\n",
       "</style>\n",
       "<table border=\"1\" class=\"dataframe\">\n",
       "  <thead>\n",
       "    <tr style=\"text-align: right;\">\n",
       "      <th></th>\n",
       "      <th>pubchem_cid</th>\n",
       "      <th>pubchem_inchi</th>\n",
       "      <th>pubchem_smiles</th>\n",
       "      <th>name</th>\n",
       "      <th>origin</th>\n",
       "      <th>pIC50</th>\n",
       "    </tr>\n",
       "  </thead>\n",
       "  <tbody>\n",
       "    <tr>\n",
       "      <th>0</th>\n",
       "      <td>54753101.0</td>\n",
       "      <td>InChI=1S/C26H25FN4O2/c1-17-10-11-20(27)18(2)24...</td>\n",
       "      <td>CC1=C(C(=C(C=C1)F)C)OC2=C(C3=C(N2C4=CC=CC=C4)C...</td>\n",
       "      <td>b2a3m</td>\n",
       "      <td>BMCL2011A</td>\n",
       "      <td>8.8861</td>\n",
       "    </tr>\n",
       "    <tr>\n",
       "      <th>1</th>\n",
       "      <td>52949598.0</td>\n",
       "      <td>InChI=1S/C26H24FN3O3/c1-17-7-8-18(27)15-23(17)...</td>\n",
       "      <td>CC1=C(C=C(C=C1)F)OC2=C(C3=C(N2C4=CC=CC=C4)C=CC...</td>\n",
       "      <td>b1i5c</td>\n",
       "      <td>BMCL2010</td>\n",
       "      <td>8.6990</td>\n",
       "    </tr>\n",
       "    <tr>\n",
       "      <th>2</th>\n",
       "      <td>44195154.0</td>\n",
       "      <td>InChI=1S/C28H28FN3O2/c1-18-20(7-6-10-22(18)29)...</td>\n",
       "      <td>CC1=C(C=CC=C1F)CC2=C(C3=C(N2C4=CC=CC=C4)C=CC(=...</td>\n",
       "      <td>b1i5k</td>\n",
       "      <td>BMCL2010</td>\n",
       "      <td>8.6990</td>\n",
       "    </tr>\n",
       "    <tr>\n",
       "      <th>3</th>\n",
       "      <td>44194118.0</td>\n",
       "      <td>InChI=1S/C26H25FN4O2/c1-17-8-9-21(27)18(2)24(1...</td>\n",
       "      <td>CC1=C(C(=C(C=C1)F)C)OC2=C(C3=C(N2C4=CC=CC=C4)C...</td>\n",
       "      <td>b2a6d</td>\n",
       "      <td>BMCL2011A</td>\n",
       "      <td>8.6990</td>\n",
       "    </tr>\n",
       "    <tr>\n",
       "      <th>4</th>\n",
       "      <td>53346499.0</td>\n",
       "      <td>InChI=1S/C32H29FN4O2/c1-22-12-13-24(33)21-28(2...</td>\n",
       "      <td>CC1=C(C=C(C=C1)F)OC2=C(C3=C(N2C4=CC=CC=C4)C(=N...</td>\n",
       "      <td>b2a7d</td>\n",
       "      <td>BMCL2011A</td>\n",
       "      <td>8.5229</td>\n",
       "    </tr>\n",
       "    <tr>\n",
       "      <th>...</th>\n",
       "      <td>...</td>\n",
       "      <td>...</td>\n",
       "      <td>...</td>\n",
       "      <td>...</td>\n",
       "      <td>...</td>\n",
       "      <td>...</td>\n",
       "    </tr>\n",
       "    <tr>\n",
       "      <th>133</th>\n",
       "      <td>52947015.0</td>\n",
       "      <td>InChI=1S/C26H25N3O2/c1-19-18-28(17-16-27-19)25...</td>\n",
       "      <td>CC1CN(CCN1)C(=O)C2=C(N(C3=CC=CC=C32)C4=CC=CC=C...</td>\n",
       "      <td>b1i3a</td>\n",
       "      <td>BMCL2010</td>\n",
       "      <td>5.1898</td>\n",
       "    </tr>\n",
       "    <tr>\n",
       "      <th>134</th>\n",
       "      <td>56675445.0</td>\n",
       "      <td>InChI=1S/C26H25FN4O3/c1-17-8-9-18(27)16-21(17)...</td>\n",
       "      <td>CC1=C(C=C(C=C1)F)OC2=C(C3=C(N2C4=CC=CC=C4)C=CC...</td>\n",
       "      <td>b2a5a</td>\n",
       "      <td>BMCL2011A</td>\n",
       "      <td>5.1785</td>\n",
       "    </tr>\n",
       "    <tr>\n",
       "      <th>135</th>\n",
       "      <td>52944458.0</td>\n",
       "      <td>InChI=1S/C27H27N3O2/c1-27(2)19-29(18-17-28-27)...</td>\n",
       "      <td>CC1(CN(CCN1)C(=O)C2=C(N(C3=CC=CC=C32)C4=CC=CC=...</td>\n",
       "      <td>b1i3b</td>\n",
       "      <td>BMCL2010</td>\n",
       "      <td>5.1367</td>\n",
       "    </tr>\n",
       "    <tr>\n",
       "      <th>136</th>\n",
       "      <td>52948980.0</td>\n",
       "      <td>InChI=1S/C26H22F3N3O2/c27-26(28,29)18-7-6-10-2...</td>\n",
       "      <td>C1CN(CCN1)C(=O)C2=C(N(C3=CC=CC=C32)C4=CC=CC=C4...</td>\n",
       "      <td>b1i2c</td>\n",
       "      <td>BMCL2010</td>\n",
       "      <td>5.0458</td>\n",
       "    </tr>\n",
       "    <tr>\n",
       "      <th>137</th>\n",
       "      <td>52944486.0</td>\n",
       "      <td>InChI=1S/C26H25FN4O2/c1-17-18(5-4-7-21(17)27)1...</td>\n",
       "      <td>CC1=C(C=CC=C1F)CC2=C(C3=CC=CC=C3N2C4=CNC(=O)C=...</td>\n",
       "      <td>b1i4h</td>\n",
       "      <td>BMCL2010</td>\n",
       "      <td>5.0292</td>\n",
       "    </tr>\n",
       "  </tbody>\n",
       "</table>\n",
       "<p>138 rows × 6 columns</p>\n",
       "</div>"
      ],
      "text/plain": [
       "     pubchem_cid                                      pubchem_inchi  \\\n",
       "0     54753101.0  InChI=1S/C26H25FN4O2/c1-17-10-11-20(27)18(2)24...   \n",
       "1     52949598.0  InChI=1S/C26H24FN3O3/c1-17-7-8-18(27)15-23(17)...   \n",
       "2     44195154.0  InChI=1S/C28H28FN3O2/c1-18-20(7-6-10-22(18)29)...   \n",
       "3     44194118.0  InChI=1S/C26H25FN4O2/c1-17-8-9-21(27)18(2)24(1...   \n",
       "4     53346499.0  InChI=1S/C32H29FN4O2/c1-22-12-13-24(33)21-28(2...   \n",
       "..           ...                                                ...   \n",
       "133   52947015.0  InChI=1S/C26H25N3O2/c1-19-18-28(17-16-27-19)25...   \n",
       "134   56675445.0  InChI=1S/C26H25FN4O3/c1-17-8-9-18(27)16-21(17)...   \n",
       "135   52944458.0  InChI=1S/C27H27N3O2/c1-27(2)19-29(18-17-28-27)...   \n",
       "136   52948980.0  InChI=1S/C26H22F3N3O2/c27-26(28,29)18-7-6-10-2...   \n",
       "137   52944486.0  InChI=1S/C26H25FN4O2/c1-17-18(5-4-7-21(17)27)1...   \n",
       "\n",
       "                                        pubchem_smiles   name     origin  \\\n",
       "0    CC1=C(C(=C(C=C1)F)C)OC2=C(C3=C(N2C4=CC=CC=C4)C...  b2a3m  BMCL2011A   \n",
       "1    CC1=C(C=C(C=C1)F)OC2=C(C3=C(N2C4=CC=CC=C4)C=CC...  b1i5c   BMCL2010   \n",
       "2    CC1=C(C=CC=C1F)CC2=C(C3=C(N2C4=CC=CC=C4)C=CC(=...  b1i5k   BMCL2010   \n",
       "3    CC1=C(C(=C(C=C1)F)C)OC2=C(C3=C(N2C4=CC=CC=C4)C...  b2a6d  BMCL2011A   \n",
       "4    CC1=C(C=C(C=C1)F)OC2=C(C3=C(N2C4=CC=CC=C4)C(=N...  b2a7d  BMCL2011A   \n",
       "..                                                 ...    ...        ...   \n",
       "133  CC1CN(CCN1)C(=O)C2=C(N(C3=CC=CC=C32)C4=CC=CC=C...  b1i3a   BMCL2010   \n",
       "134  CC1=C(C=C(C=C1)F)OC2=C(C3=C(N2C4=CC=CC=C4)C=CC...  b2a5a  BMCL2011A   \n",
       "135  CC1(CN(CCN1)C(=O)C2=C(N(C3=CC=CC=C32)C4=CC=CC=...  b1i3b   BMCL2010   \n",
       "136  C1CN(CCN1)C(=O)C2=C(N(C3=CC=CC=C32)C4=CC=CC=C4...  b1i2c   BMCL2010   \n",
       "137  CC1=C(C=CC=C1F)CC2=C(C3=CC=CC=C3N2C4=CNC(=O)C=...  b1i4h   BMCL2010   \n",
       "\n",
       "      pIC50  \n",
       "0    8.8861  \n",
       "1    8.6990  \n",
       "2    8.6990  \n",
       "3    8.6990  \n",
       "4    8.5229  \n",
       "..      ...  \n",
       "133  5.1898  \n",
       "134  5.1785  \n",
       "135  5.1367  \n",
       "136  5.0458  \n",
       "137  5.0292  \n",
       "\n",
       "[138 rows x 6 columns]"
      ]
     },
     "execution_count": 3,
     "metadata": {},
     "output_type": "execute_result"
    }
   ],
   "source": [
    "data_path = \"/home/siegjo/projects/sideprojects/harren_2022_data_chembl_pubchem_api_extract/renin_harren.csv\"\n",
    "df = pd.read_csv(data_path)\n",
    "df"
   ]
  },
  {
   "cell_type": "markdown",
   "id": "0f7353cb-3818-420e-bc5a-e7f43f351ab1",
   "metadata": {},
   "source": [
    "A small note on the data sets:  \n",
    "We use a version of the Renin data set from PubChem because of licensing and automatic downloading from the journal website is prevented. This version contains only 138 instead of the original 142 compounds, since the missing molecules were not available in PubChem. This difference should be negligible for the purpose of this notebook. "
   ]
  },
  {
   "cell_type": "markdown",
   "id": "7ae0441a-660c-4362-83b7-e9e88a17e72d",
   "metadata": {},
   "source": [
    "We construct RDKit molecule data structures from the SMILES and add relevant infos as properties to the molecules for convenience.\n"
   ]
  },
  {
   "cell_type": "code",
   "execution_count": 4,
   "id": "1786f5a1-bec6-475a-ba1a-9f798d4b753b",
   "metadata": {},
   "outputs": [
    {
     "data": {
      "image/png": "[encoded data removed]",
      "text/html": [
       "<table><tr><td colspan=\"2\" style=\"text-align: center;\"><image src=\"data:image/png;base64,iVBORw0KGgoAAAANSUhEUgAAAcIAAACWCAIAAADCEh9HAAAABmJLR0QA/wD/AP+gvaeTAAAgAElEQVR4nO3dd1iTV/sH8DshYcmSKYICsVXBDfUVBSouxBoURarS4not/oo2zoq1vUSrVfragbbQorUVEbTiQMBJVdyioChLyxZkj7AkCUnO74/HInUDTxJ5uD8Xf5iY3OfGq9e351nnsAghgBBCqKPYqm4AIYS6NoxRhBDqFIxRhBDqFIxRhBDqFIxRhBDqFIxRhBDqFIxR1AUcPgx1dU/+vGcPtLTAd9+BRAIAcPMm5OSosDWEMEZRVxAd/TRGf/sNJBLYtg22bwcAuHgRMjNV2BpCGKOoi6ivB6EQhMInL52c4MYNyMt78vLePaipUVVrqLvjqLoBhN7I//4HOjoAAGLx03dWrQInJ5DJ4L33oKUF9PXBxubpD48HPJ7I2ho0NTVV2DliPIxR1DVs2QJ9+wIAjB795B1bWxg4EE6ehP/+F+zsID8f6uogNRVSU59+y8mp5OrVfj179uT9m7W1dZ8+fTQ0NFTwmyDGwRhFXdiGDTBoEOjpPYnO6mrIy4P8/Kc/enpF6urqtbW1KSkpKSkpbb9rbm6ekJAwaNAg1bSOGISFS5Ogt9+DB2BtDdTcccMGWLgQ6upg+HAAgOxsMDAAE5OXflculxcXF+e3kZeXl5ycLBaLfXx8IiMjlfQ7IObCGEVdSXw8TJsGZmbw99+gq9vxOsePH/f09OzVq1dhYaG6ujp9DaLuCK/Uoy7j4UNYsAAIgVWrOpWhADB9+vShQ4eWlZUdO3aMpu5Q94UxiroGsRi8vKC6Gvh8WLOGhoKffvopAISGhtJQC3VveFCPugZ/f/jlF7CygpQUMDKioWBjY6OlpWVdXd29e/eGDBlCQ0XUXeFsFHUBBw/CL7+AhgYcOUJPhgKAjo6Or68vAPz666/0VETdFc5G0dsuKytvwgSj0lL9sDDw86O3ctagQYN69Ojx6NEjPT09Okuj7gRno+it1tjYOGuWh7r6ewJBDr0ZCgC2traurq6NjY0RERE0l0bdCcYoeqv5+/tnZmbq6mpu3WquoPoAEBISgodlqMPwoB69vUJCQpYtW6ajo3Pz5k1bW1tFDCGVSm1sbIqLiy9cuODq6qqIIRDj4WwUvaVu3bq1evVqAPjll18UlKEAwOFwFi9eTI2ioCEQ4+FsFL2NamtrHRwc8vPzBQLBjh07FDpWaWmplZUVIaSgoMDCwkKhYyFGwtkoehvNmDEjPz9/1KhR26nFmRXJ3Nzc09NTKpX+9ttvih4LMRLORtFbRygU9uzZU01N7d69e3Z2dkoYMTExcdy4cebm5oWFhVwuVwkjIibB2Sh66xgYGJiamspksnv37ilnRFdX1yFDhpSWlh4/flw5IyImwRhFb6Ovv/4alHvZZ8mSJYCP2KMOwYN69DZ6/PixpaVlbW3t3bt3hw4dqoQRGxoaLC0t6+vr09LSBg8erIQREWPgbBS9jbS1tT/++GNQ4gPvurq61IjUXVYIvTmMUdQRaWlpzc3NCh3C39+fxWJFRETUte6trGDU3am3b99WznCIMTBGUbu1tLR4eHjY2Njk5OQobpSBAweOGzdOaQ+8NzQ0/PTTTwDg4uKihOEQk2CMonaLjIwsLCw0NDTk8XgKHYh64D00NFQJZ/D/+9///v3330OGDNm/f7+ix0IMgzGK2kcul3/33XcAsH79ejZbsf/9TJ8+3dLSMisrKzExUaEDBQcHR0dH6+rqHjp0SFtbW6FjIebBGEXtc/To0YyMDBsbmzlz5ih6LA6H88knn4CC70NKSkoKCAhgsVh//PHHwIEDFTcQYiqMUdQ+3377LQB8/vnnHA5HCcP5+fmpq6vHxMQ8evRIEfVramrmzJkjkUhWrVrl5eWliCEQ42GMonY4c+ZMcnKymZnZggULlDNir169ZsyYIZVKd+/eTXtxuRzWr79SUlLi5OS0bds22uujbgJjFLUDlTWrVq3S0tJS2qDUhaZdu3a1tLTQW3nLFggLm/af/1w8ePAgPkqPOgyfYkJvKikpydHRUV9fv7CwUF9fX5lDDx06NC0t7dChQ97e3nTVPH8e3NyAEDh1Ctzc6KqKuiOcjaI3tWXLFgAQCARKzlBQwJ7yxcUwZw7IZLBxI2Yo6iycjaI3cu/eveHDh2tpaRUUFJiYmCh59MbGRgsLi/r6elr2lJdKYdw4uHIFJkyAM2dATY2WHlH3hbNR9EaCgoIIIUuWLFF+hkKbPeXDwsI6X23tWrhyBfr0gYMHMUMRDXA2il4vLy9vwIABLBYrJyenb9++KumB2lNeR0cnNze3M1Geng7DhgGHAxcvgqMjjQ2i7ksZt/6hri4oKEgqlS5evFhVGQoAtra2AwcOzMrKsre3nzRpEo/Hs/mHuflr9l6urQU2G6gzuoaGcOQIVFRghiLa4GwUvUZZWZmNjU1LS0tmZmb//v1V2EloaOjKlSslEskz72tqavJ4PGfnU+rqfXk8sLF58qOn9+QDmzbBmTNw5Qqw2fD++3DpkrI7R8yGs1H0Gtu3bxeJRLNnz1ZthgKAv7//2LFjS0pK8v+Rl5eXn59fVVWVmZkpk5k8ePCvzxsbg40NDB4MVlbQpw/s2gX/938qah0xGs5G0avU1NRYWVk1NjampKTY29urup0Xa2hoyM/PLyy0zcnh5udDfj7k5UF+PlALog4ZAl5e4OwMmzfDn3+CtzfORhHNcDaKXmXnzp2NjY1Tp059azMUAHR1dYcOfcFWI2VlkJcHLS2QmAhqarB1K6xfr4r+ENNhjCIAAJFIVFVVVVVVVVFRUfWP8vJyavHNdevWqbrBjujVC3r1AgCgltkbMwb++ANqalTaE2IijFHmq6ioKCwslEgkzwdl68vGxsYXfrdXr15yubx3795K7pleDg5A/QbbtsHOnSCXg4IXSkXdC8Yow/3888+rV69+/ur2MzQ0NIyNjY2NjU1MTExMTIz/ER0dnZiY6Ovre+nSJbUue6s6n//kDwkJEB0NI0bAjBkqbQgxC15iYjJCiKWlZUlJia6u7pAhQ14YlNRLXV3dF1aoqakZPnx4UVFRUFBQQECAkvun3U8/gUAAEydCQoKqW0EMgjHKZHFxcdOmTevdu/eDBw90dHTa9d2Kigo/P7/Ro0fb29tPnjxZXV09KSlp2LBhCmpVORoawMICGhshMxNwnXtEFzxFxGTUSvVr1669evXqrVu32vXdO3fuxMbGBgYGmpmZffrpp2Kx2MfHRyQSKaZTJdHVBR8fIAR+/VXVrSAmIYihLly4AABGRka1tbU2NjYAcOHChXZVoNZLtrOzq66upu69DwgIUEyzypOeTgCIvj5pbFR1K4gpMEYZy83NDQA2b95M7fM+YMAAmUzWrgpNTU2t6ZmcnMzlctlsdmJiooIaVhpnZwJAwsJU3QdiCoxRZrp9+zaLxdLV1a2urh48eDAA/PHHHx2o0zY9v/zySwCwsbGpr6+nu1+liooiAGTYMFX3gZgCz40y05YtWwgh/v7+ly5dSk9P79Onj4+PTwfqODg4rF27Vi6XL1y4cPXq1SNHjszPz1+zZg3tDSuTlxeYmYFE0pSUlK3qXhAjqDrHEf2ysrLYbLampmZJScno0aMBYOfOnR2u1tLSMnLkSADw8/PLzMykNrOLi4ujsWHl++abPQDg4+Oj6kYQE+ANTwy0YMGC8PBwf3//mTNnTpw40dTUND8/X1tbu8MFs7KyHBwcmpub4+LiHjx4sGbNGlNT07S0NFNTUxrbVqaioiIej8dmsx8+fGhmZqbqdlAXp+ocRzR7+PChurq6mppaTk7OhAkTAGDr1q2dL/vdd98BgKmpaWlp6bhx4wDA09Oz82VVyNPTEwC++eYbVTeCujyMUaZZtmwZAPj6+iYlJQGAnp5ebW1t58vKZLLW9CwqKjIwMACAiIiIjldsaSH795NNm0h8fOfb64CzZ88CQN++faVSqUoaQIyBMcoo5eXlWlpaLBYrLS1t+vTpALB+/Xq6irdNz99//x0AqD3rO1hu7lyyaxfJzCTr1pGvv6aryTcnl8sHDBgAAPv27VP+6IhJMEYZhVrRbsaMGZmZmdRVptLSUhrrt01PLy8vAJgwYYJcLn/9N2UyUl5OMjLIxYvkyBFSVETc3J7+lYpuPvrxxx+pU1vUNiQTJ0708/MLCgo6dOhQcnJyV7+vCykNXmJijvr6eisrK6FQeO3atdDQ0P3793/22Wc7d+6kd5RZs2YdOXJkwoQJUVFRQ4cOLS8v/+6777y9vSsqKiorK6nF96qrq8vLy6dpaXncuQNVVVBVBdXV0Pa/tIQEiIyEP/548nLUKLhyBbhcelt9LaFQaG5u/rInXH8YPXrl/fvA4z3707cvcHBpNPQUxihzfPPNN1999dXEiRN37drVv39/FouVnZ1tZWVF7ygVFRVDhgypqKiIjo7mcDgzZszQ1dVtaGh4/pNbR436IinpyQsWC4yNn/5s3QqLF8OVKwAAzc3w/vvQzkf+aSESiQwMDKRS6c8//0zdEtt2l6ef+vRxO3fuBV/jcmHbNvD1hQ0boKEBtLRg40awtFR6++htgf9TZYjHjx9TE88vvvhi+/btUql0wYIFtGcoAJiamu7evfvhw4deXl75+flqampyudzS0tLU1NTU1JRafM/IyMjU1HSQuTkYGDzJTSOjZ5dKdnODpUvBxQWOHIHPP6e9zzexfPlysVgMAOvWrXvnnXd4PB6Pxxs+fPjMmTN5PJ6VlRXU10Ne3rM/hYVgaAgLF8KmTfDee5CZCR99BBcvquRXQG8FVZ9VQPT44YcfAOA///lPWVmZlpYWm81OT09X9KBLliwBgEWLFnXw+2lpJCaG5OcTQkhsLFHuFfOoqCgAUFNTe9ly1BWOjoTHIxMnEj8/EhREDh0iycmktpaIRKS2lowZ87SWuzspL1dm8+itggf1TCCTybS1tSUSycGDB/X09ObMmTNp0qTDhw8rdNCysjIejycWi9PS0uzs7DpV67PP4OefYcsW+PJLmrp7jfT0dEdHx6ampj179sybN6+oqIjaq7mth1pa6gUFL/iyoSHcvAmLFj2dgU6fDiEheFzfbeFBPROw2Wy5XE79ecqUKYWFhS/bW4lG33//fXNzs7e3d2czFAA8PSEkBDZuBDc3GDmSju5epbGx8cMPP2xqavroo48WLVoEADY2NtRagv8iFsOjR88e0WdnQ0MDWFuDTAYVFWBqCvX1UFoKFhaKbhu9vVQ9HUb0+PjjjwGgd+/e1dXVShiuurqa2nckOTmZnooCAQEgtrbk8WN6Cr4c9W81ZMiQpqamjny/spIQQlJSyJQpxNeXuLuTK1fo7RB1LRijDCGTycaOHQsAc+fOVcJwGzduBIApU6bQVrG5mQwaRADI6tW01XyRHTt2AICOjk5WVhYN5SQSGoqgLg5jlDny8vKoGeKBAwcUOlBjY6OxsTEAXLp0ic66KSmEyyVsNmnnKv1vLikpSV1dHQCio6MVNATqhnC9UeawsbGhFhD59NNPi4qKFDdQWFhYVVWVo6Oji4sLnXXt7WH9epDLYeFCqK+nszIAANTU1MyePVsikaxcuXLWrFm010fdFl6pZxoPD4/4+PhJkyadOXOGxWLRXl8sFvfr1+/Ro0cnTpz44IMPaK4ulbaMHfsNl1vy7ru7du+msbBcLufz+adOnRo1atSlS5eoOSlC9FD1dBjRrLy8nFoGNDQ0VBH1w8LCAGDYsGFv9Ch9+z3IyqJWho6JiaGx7Ndffw0AhoaGBQUFNJZFiOC5UUY6duwYAGhraz948IDeylKp9N133wWAgwcP0lu5LeoqkImJSVlZGS0Fz58/r6amxmazT58+TUtBhNrCGGUm6p6e0aNH07uYJvXkT79+/RS6RqdcLnd3dweAadOmdb5aaWmpubk5AGzcuLHz1RB6HsYoMwmFwr59+wKtq7vL5fIRI0YAwO7du+mq+TLFxcU9e/aEjm5o2qqlpYW6DjZ+/HhcnhkpCMYoY/31118sFovD4dy6dYuWgnFxcQBgaWkpFotpKfhq+/btAwA9Pb3OnM1cvXo11XNFRQWNvSHUFl6pZzKBQPDTTz/Z2dklJydT121eraGhoXXZ0Orq6qqqqoqKChcXFz6fDwDOzs5Xr1798ccfV6xYofjeAQBmzpx57NgxLS0tTU1NTU1N6lfQ1dXlcDhsNltfXx8ANDQ0qN36qPdZLBa1RL+GhkZBQUFERASHw0lMTBwzZoxyekbdED5Tz2T/+9//zp8/n5GRsWHDhu3btwNAfX396dOnKysrqZSkgrL1JbVq3DMkEgmfz09MTLx69aqRkdHixYuV1r+np2dMTExzc3Nzc3PHKpiYmCxatAgzFCkUxiiTaWpq7tu3z9HR8Ycffpg6daqrq2tpaens2bNf9nkdHR0TExNq2VAjIyNjY2MTExNqp/utW7cCwPLly3V0dJTWf3x8PCFk8+bNS5cubW5uppapr6+vl8lkMpmsvr4eAEQiERWy1Ptyubyuro56/9ixY3fv3lVmw6h7woN65tu4ceOmTZusra3v3r0rl8s/+eQTU1NTKiWpoGx9yeVyq9qoqKig/nDp0qXU1FRNTc2SkhLqyo8SNDQ0mJmZicXiwsJCS0vLYcOGtbS0UMfvOjo6XC4XAKhmuFwulZXa2toaGhoAYGlpuWzZstjY2OnTp48ePfratWvK6Rl1TxijzCeVSp2cnG7evDl37twVK1a8MChb91B6RZ3p06fHxMQore3w8PAFCxaMGzfu/PnzAKCpqfnCcw4vZGNjk5eX19zcbGxsLBKJSkpKzMzMFNks6tbwoJ75OBzO3r17hw8ffvr06QMHDrzik2w227iN1k1B5HK5kZHRvHnzlNYzAFD3qPr4+FAvs7KyWk+SNjQ0UHcvCYVCAJBIJE1NTQDQ1NQkkUgAgMPhAICWlparq+vJkydPnz49f/58ZTaPuhWcjXYLlZWVffv2lclkgwYNMjc3b7tjkomJSetLY2NjRTyG3wEVFRUWFhZsNru0tNTQ0LDDdUJDQ5cuXTpr1qzo6Gga20OoLZyNdgs7duwQiUTTpk07fvy4qnt5IwcPHpRKpZ6enp3JUADw8PBYtmzZ6dOnxWIxddoUIdrhQnnMV19fHxISAgABAQGq7uVNpaTIjYxMWo/oO6xPnz5Dhw5tbGy8fPkyLY0h9DyMUeYLDQ0VCoXjx4/vKrdP5uZCRMQKQkr4fM/OV6OeHYiPj+98KYReCGOU4UQiUev+9aru5U1FRQEh4OHB0dLidr7a1KlTAYB6khUhRcAYZbg9e/aUlpaOGDFiwoQJ7f2uSCQ6derU4sWLNTU133nnnUuXLimiw+f9+ScAQKcP6J8YNWqUmZlZXl5eVlYWPRUR+jeMUSaTyeU7QkIA4KuvvnrzS/ClpaW//fabp6ensbHxBx98sGfPHrFYnJubO3v2bCUk0e3bkJEBpqYwfjw9Bdls9pQpUwCP65HCYIwy2enaWl5k5JLduz09X3+SMSMj49tvv3V2dra0tPzkk0+OHz/e1NRkZ2cXEBCwf/9+Z2fnsrIyZ2fnmzdvKrRn6sbWOXOAQ99dJNRx/YkTJ2iriFAbeN8oYxGAOZmZuc3Nm6ytpxoZvfAzzc3NV69ejYuLO3r0aHFxMfWmlpaWk5MTn8/38vKSy+UnTpxYtGgRAMyZMycmJkZfX//EiRNOTk6K6FkuBysrKC6G69fB0ZG2stRWplKptLy83Ogl/xQIdZwKF+lDCnWuttYhOfmDe/dants0qaysLDw83Nvbu+2yHWZmZr6+vocOHaqrq0tOTg4MDHRwcKBOBVB7b0gkkg8//BAAtLW1z5w5o4ieL1wgAKRfP0L7Pk8TJ04EgMjISJrrIkQI3n7PWBFlZQAwv1cvzj9nRY8cOXL69Olbt27dvXuXeofNZo8ePZrP50+dOtXGxubs2bMnTpxYunRpZWUl9QE9PT03NzdqZU8ulxsVFaWrq7tnzx4PD48DBw7MnDmT3p6NjWH+fLC1BdqfpeLz+X/99deJEyc6fy8qQs9SdY4jhbhRV+eQnDwpNVUkk1HvHDhwgM1+cipcW1ubz+eHhYWVlJTk5eWFhYXx+fy2D/nY2Nj4+fnFxsaKRKJnKsvl8pUrVwKAmpra3r176WrYzY0UFxNCSGwsOXeOrqpP5ebmAkDPnj1bWlror466N5yNMtMfZWUA4GNmpvFPdEZHR8vlcmNj4wMHDjg5OWVmZsbFxXl4eKSkpFAfUFNTc3Bw4PP5Hh4eDg4OL6vMYrF++OEHMzOzdevWLVy4sK6uTiAQdL7hnBxYswYOHIDiYtDX73y9Z/F4PFtb26ysrGvXrr3//vv0D4C6MYxRBspoakpuaOihpuZlYtL65qNHjwAgKipq3LhxVlZW1EsAMDQ0nDx5soeHh7u7+5uvJRoQEMBisdatW7dixQqJRLJmzZpO9mxtDb17w8mTnSzzKnw+PysrKz4+HmMU0QtjlIHU2ewx+voDtbV11dSodx4/fnznzh0Oh+Po6KimpjZixAgNDQ1q4jl27FhqCeT2Wrt2rb6+vr+//+eff15VVRUUFNSur8vlcOcO/PUXxMVBSAgAQGAgfPABeHkpZDYKACYmJiwWKzIy0traetGiRZqamgoZBnVDqj6rgGgjkcvX5OR8kZv7RW5uSkODrM1f/fXXXwAwcuRI6uXjx4/pGjQqKopK4aVLl8pkstd+vr6eHD5MFiwgpqYE4MnPN9+Q8eMJIeTAAfLOOyQykty4QZ47K9txjY2NS5YsafsAQq9evb799tu6ujraxkDdGMYoczTLZJ/+/fcL/yowMBAAVq1apYhxY2NjqZmdr6/vyy7g5ObmhoUdnDSJqKs/TU8ejwgE5OxZIhY/iVFCyIQJ5NtvSY8exN6e5OXR0N7169f79+8PAFwud8OGDTExMaNGjaLCVFdXVyAQlJSU0DAM6sYwRpmjWSabm5l5WSi8LBQ+c6/o+PHjAeDYsWMKGvr8+fPULaizZ8+WSCTUm1KptPX+UwBQU1MzNKxUUyMODiQwkCQnv7TanTuExyMAxNCQxMd3vCuJRBIYGKimpgYAgwcPvnPnDiEkNTW1vLz88uXL1MpPAKChoeHn5/fw4cOOj4S6N4xR5miWybwzMuKqquKqqsRtYlQikfTo0YPFYpWXlytu9KSkJGqJZTc3t7179/r4+LRdcblnz55z5849fDi/uvqNqtXVkVmzCABhsYhAQP5J5nZIT0+3t7cHADabLRAIWu/csre319DQ8PX1zc7OTklJ8fb2pg72uVyur69vVlZWu0dC3R7GKHO87KD+xo0bAGBra6voBpKTk42MjNref8rj8QQCQUJCglgsbm81uZwEBxMulwCQsWPJmx95y+Xy4OBgqg0bG5uLFy+2/pVQKPT09KTun+VyufPnz8/MzExLS/P19aW2b2Kz2Xw+/+bNm+3tFnVnGKPM8bIY3b59OwD4+fkpbuj79+9XVVURQjZu3AgAFhYWwcHBOTk5na988SLp3ZsAkN69yZUr6a/9fEFBgaurKxXivr6+DQ0Nz38mOzvbz8+PujJG5eaNGzfy8/MFAoGWlhb1XScnp9jY2M73j7oDjFFGEb/oWvm0adMAICIiQnHjvv/++ywW69y5cx9//DEAhISE0Fi8ooK4uZGxY2+oqakFBga+4n6A8PBwXV1dADAzM3ttCBYUFDyfm+Xl5YGBgfr/3HJFvSmn/Ql/xCwYowxH7Y0MAAUFBQoaQiQSaWpqstns6upqKysrALh37x69Q0il5MsvA6mTmNOmTaupqXnmA+Xl5dOnT6eyz9vbm5oav4mKiorAwEADAwPquyNGjDh06FBlZWVgYGDrud1+/fpt3bqV3t8IMQnGKMOlp6cDgKWlpeKGoHaLGzp0aFFREXU16U1uIO2A+Ph4Ktr69u1748aN1vePHDlibGwMAPr6+mFhYR2oXF9fHxwcbG5uTuXm4MGDw8PDhUJhcHCwpaUldex/7do1+n4VxCi4bDPDURmn0McfqSFcXFyoXUacnJxa10Ch19SpU1NTUx0dHR8+fDh27NgdO3bU19cvWbLEy8urqqpq0qRJ6enpfn5+Haisq6u7fPny7Ozs4ODgPn36pKenz58/38HBwcLC4v79+yYmJnK5vHVZLISegTHKcK0Zp4QhlDBWnz59EhMT/f39xWLxihUr+vTps2vXLm1t7ZCQkDNnzlAzxw7r0aPH8uXLc3Nzw8PDBw4cmJubKxQKe/To4e7uDgCtZ1ERegbGKMMpOtpkMtm1a9cAwMnJiZqNKjRGAUBDQyMkJCQyMlJbW1tHR2fw4MG3b9/29/d/882mXo3L5c6bNy8jI+Pw4cPz5s0DABMTEwCoqqqipT5iHoxRJisoKCgqKjI0NLS1tVXQEPfu3aurq+vXr5+2tvb9+/e1tLRescgejXx8fNzd3UtKStatWzdgwAChUFhXV0djfTab7eXlpa6uDgDUiVeMUfQyGKNM1joVVdDJSvj3Eb1cLnd0dKSiRwmoK0I1NTVffPFFz549Q0NDFTQQFaOtOwIg9AyMUSZre0QvEokeP36suCGUcGL0Ga2TREXPFvGgHr0axiiTHT58GADee++9lpaWDz/80N3dvb6+nt4hrl69CiqK0dZ0U3SM4mwUvRrGKJNJJBIAiIuLKy0tvXPnzuXLlydOnFhdXU1X/ezs7NLSUjMzMwsLi9TUVA6H07oGnRK0phuVp4qLOZyNolfDGGWyWbNmsVis77///vfff79y5cq7775769YtFxeX1h1EOql1Bnr9+nWJRDJixAjqWUzlwNkoektgjDLZ3r179+/fz+FwNm3atH379osXLw4ZMiQrK8vFxSUvL6/z9VV4YhT+iVElzEYNDQ05HI5QKJRKpQoaAnVpGKMM5+Pjc/ToUU1NzZCQkICAgHPnzo0aNSo/P9/Z2TkjI6OTxVUbo1I771wAAAbASURBVEq7xMRisQwNDQkhNJ4PQYyi6qdRkTK0XZ2+pqaGWgzf1NQ0NTW1wzVLSkoAQE9Pr7m5WQnLQj9PIpGwWCwOhyOXy6ldTGjcY+oZdnZ2AJCWlqag+qhLw9lotzBu3LhTp07p6+v/+eefvr6+hw4dcnd3r6iocHV1vX79esdqUjPQMWPG3L17t6mpaeDAgaamprR2/RpcLldfX18qlQqFQrznCakQxmh34ezsfP78eRMTkxMnTnh5ee3fv3/WrFlCoXDSpEnUvqHt5eXldefOnc2bNyvnGdAXUvKto3iVCb0Qxmg3Ym9vf/HiRQsLi4sXL06ZMiUkJGThwoVNTU18Pj8mJqa91dTU1IYPH25nZxcWFgYAI0eOVEDLr6G0q0z4PCh6BYzR7sXW1vbKlSv9+vW7devW+PHjN2/evHz5crFY7O3tHRER8eZ1qquro6Oj582bZ25unpuby2KxBg0apLi2XwZno+htwFF1A0jZrK2tL1++7Obmlp6ePmHChISEBAMDg02bNi1cuFAsFi9evPgV37179+6JEyfi4uJu3rwpl8upN42NjVeuXDl69GiltP8vOBtFbwOM0e7I3Nz83LlzkydPTk1NdXFxSUhIUFdX//LLL3/88UdfX9+2W3sCgEgkunLlSlxcXExMzMOHD6k3NTU1nZ2d+Xz+jBkz+vbtq4pfAkDxs9GcnBwWi9WvXz+MUfQKGKPdlKmp6YULF6ZOnXrt2jUXF5ezZ8+am5u7ubm1ZmhlZeWpU6fi4+NPnz7d0NBAvWliYuLu7u7h4eHu7q7MB5ZepjXdeDwe0B1z+/btW7p06YABA65fv07NdisqKmisjxgDY7T7MjAwOHv27MyZM8+ePevq6nry5EkLC4uMjIz4+Pi4uDhq6yHqk3Z2dh4eHnw+38nJia7VkWnReixPPctP10F9SUnJ4sWLT506BQADBw4UiUTnzp3T19e/cePGunXr1q5d27rbHUIAePt9t9fc3EztwMxms9tOMHv06OHp6bl79+6SkhJV9/hScXFxADB16tS7d+/6+Pjs3Lmz8zWjo6OpvVQNDAwiIiKys7PHjBkDAK3//9DV1V2zZs3b/M+ClAxjFBGpVDp8+HAqI6ysrPz8/GJjY5ubm1Xd1+slJCRQPdNSTSgUtu6IN3ny5OLi4vDwcOrpr169esXHx1++fJnP51N5qq6u7uvr++DBA1qGRl0axigihJCWlpaEhIQjR46oupH2uXnzJpV6o0aNio2N7UyphIQEakc8LS2t4ODg0tJSDw8Pqri3t3d1dXXrJ1NSUmbNmkVtKMDhcPasWEHwIdHuDWMUdW0LFy5s3bbE2dn55MmTcrm8XRUeP34cEBBAxaKjo+Pff/8dHR1NXbyijutf+K3c3FyBQKCpqVllb09YLMLnE9zIvrvCGEVdXl1dXVBQEHVCEwCGDh0aHh7e0tLyJt9NSkoaMGAAAHC53MDAwOrq6tbjejc3t+Li4ld//VFhIREIiLY2ASAAZPx4cvYsHb8T6kowRhFDNDY2BgcHt25Vz+PxgoODX3GGt6WlJSgoiMvlAsCgQYNu3779zHF9O2a1lZUkMJD07PkkTIcPJ+HhRColIhE5fZocPkwqKwkh5OFDkpPz5Cs3b5LGxk7+yugtgTGKGEUsFoeHh1MTTAAwMzMLCgpqfC6wMjMzqY2gWSyWQCCora1te1zfwQtHdXVk2zZiZkYASI8e5NEjMmEC+fVXcugQef99cv8+iYwkrfcSfPTR00hFXRzGKGIgmUwWGxtLBSUAGBsbUwfsrR84evQoAFhbWycmJj5zXC+VSjs19uPH5OefSVAQiYoiW7c+efPSJfJ//4cxylQYo4jJEhISqLs+AUBHR0cgELSe7vztt99qamraHtenpKTQOfbWrSQ6+smfy8uJuzuJjCQODmTuXDJ3LrG2xhhlDFzhCTHZxIkTr169St3v2dTUtHPnTh6PN2/evOzsbEdHx0mTJq1bt04qlQoEgpSUFHt7ezrHtrSEwsInf87PB+qk7fz5EBUFUVHg5ETnWEilWOSfB/4QYrbk5ORt27bFxMTI5XLqFnpCCI/HCw8Pd3Z2pn+8piaYPBkCAsDYGDZsgO3bITMTqqvhs88AAD7+GDZtgn796B8XKR3GKOpecnNzv//++19//ZUQMnbs2Li4OAWusSIUwuHDIBKBuzu88w7k5IBIBIMHAwCcOwcjR4KenqKGRkqEMYq6owcPHrBYrP79+6u6EcQEGKMIIdQpeIkJIYQ6BWMUIYQ6BWMUIYQ6BWMUIYQ6BWMUIYQ65f8BUhOxddes4UoAAANCelRYdHJka2l0UEtMIHJka2l0IDIwMjQuMDMuNQAAeJzFkltIFFEYgM+cnZ2932+uu+ooZYYku5mVhe2YRQgWYuBLxI7a0qjtxVXLHgozksgSscIX7YIXuthLUr2EO48+iA9CGJQlvQVhBUkahs38q2hmD3UeHDjzf3PO/51z/jnn8+iTd0h6zFKjUPLJlNpWqbVSDOLlfgXD5UhRQa9GQY4KaoOOZdAgVlbVCBLwnzP8HlXJqPj7hP8I66ZRIwBKKik5srIxFVpeGErFeCWqkpFa36+TfhOFBYwVvIIWMK3klYwUVAirWbWG1WgFrNXxOj2vN/AGI2s0Cdhk5s0WAVusvNUmYL1dwHYH73AK2OninSms1s26U3Ow28N6vMibhtLSUXoGymARQ/EGDe/SCdhm5FkPOqiUdsBQjJKW/qfJbLHajIzd4XTp9Iw3LT2D9Sg1Wp3e4OqjVs8SZeb2LyTquhs4+eMBky0OTKcCx+3vEwtDPQGZyxIp4n173qjME7EWsTR4C/ju2R5xfr4Bchxv20Q63wbul8kuMXhpMgHzdFwY3bM4BDkznamBqxc7i2Te0ctw42M08H4qi/sxPQL522YHA2fqzaLMrH2qaCJ3GPqXuh8lPs59AN6eNZX49uYY5BTcPCJSxXXAM0PtoulwDnAuc07MGLsN+TraI2oWi4BDJc8Cs94Y5Jyv9HPUw+vA5b5WrvtVNTD1vIUzb1EAj1x7zFUo24GffuW43P5eqOW7pYtDry8D/7R7ub65bKi9ra6SM+9qBB6/4ef0nwaBs14MBKbSh4FP+sQDd5auADMdjYH8E/nAAQxnYr0n9yOT9A4Ga6LhWHNT6FR5PBprZPDysamkFmkOF8ejYUg73hSKh6I1Qih8KBoJrRmlaIk3SKHkGyCPRarCISTfnGp/bUENI0E0Xnu6NoLUEh48WlK20+f3yeOx0pICH2TuzdtdWGjb91JaBm+4y5XbJU8RLCktr6iK1K/lZBX/6WoJXCuBqyFwHQSumsBVELheAjeVwLURuDoCV0/gmgncFALXRODSBC4mcKlNWpekXiWByxC4FgJXReC6CVw7geshcF0ErpHANRC4zk1aF+q1OX8BwCVRLVB1aE0AAAMCelRYdE1PTCByZGtpdCAyMDI0LjAzLjUAAHicfVZbbttADPz3KfYCEfhc7n4mcVoURWygTXuH/Pf+6HDVrBRgUckiLGlMDocP+FLy+HH9/v6nzEOul0sp9J9P7738ViK6vJb8Up5evn67lee3x6ePJ8/3X7e3n0W1aOA3OD9jH9/urx9PuDyXB966k3QpukWYVy600TiOn0oCZfNu7LXIZtwj2gKou8cwacyFN24WTRdA2z1qqzVqeaCNA+9XsT2RurXGrXkipfVofYGsibQtVAV3tHVzIV8AYwdS61ozHYGuS4+tfEmgi4f1TKyaeazy6eU+uFlUEiSuBKAsgIwS4XElDRuOaveIFTCrIxuTShuOVIxXmrMMoCureJI0cuFl7CwPI92quIP84tV9GdzKDY+ZnHgkrubUlkjfSw7RKyhn8QNMaAWtO7Q2ioyvm6hwrCrEsVeduWkd0Apd1+m3vZpC0YIzq4pu5qXX/q+XvIdLUkHX4bPqeNob1ARSSpYWPc2yUkB4qGqM/Hu6D+dAXy2Qe6UiqJMmZ+1el1JJVgodSt56S59uGKlVTpKTlONRmXoyJusUy+iOHvUNetbGGR0Dxb6MXodPYkuZ0DCiIav5gB530MT+4K4AEnbTGtjQT1BTWyA2SoRmsuWm6SO0wqVz5oW3vhq4XHVDS+iCJYFknKqtgIzQyKHVpj3zR5usgTImU8O19pLyYB0uQ+sAdmc1MAZHsWUyL7frp327b+Cn++16bOA85dizhkuPbWp5HTszTz8WI25KPbaf4YpjxzHetmOTQc3Sj3XFeZ23kqVhPq0fS8OTHCc7GJ78OAnC8KSIvcHDTJacNGF4EuVkCsOTK6bd0vCki6G2NDwZY7QsjZxHdESXyVmSM4wcgg5FBfN0mixLI5OzJOd8MjljUjhzl8kZEyHDTM6SAueTyVlSYxiZnCVlhtFz13IZTXlqT06jkzP6MG/RZqeGMxT0QGQfpMqH31Q5EzkwqbLQqRKajOHqYJz9ee7GvP/4L4Hvl7/gy5hcv9kuKAAAAYV6VFh0U01JTEVTIHJka2l0IDIwMjQuMDMuNQAAeJwtkTmO3FAMRK/isBv4+uC+QHAkwOHMIZT7BHN4F9VW0FA/kcVi8br5fn3fcr+u1+/v95de19d16fvWG/x937f+lQPf5xH8f/3BD//6eR2820l66c40j3Uesr2NY8k27iwQ3mlSvHhz2UNoi2WQACmZ5zppB2maLtoU7Zm6TtlMKjVIxRgKp25iS0efiE6NbYznBiAleppMC0MEgpU2LYoSh8MiIp+KHD/LYccJliFWUQagWRljRtM1ehlKsNaQdlaDapGYjYgrqywsZ+TyWKsK5oUAyJpqvGFer0O3myGjEwOCotYxusX/vVAP0PbQ8YLsWKYpnTMfdx2qoyse/thjcsLSGK7m6J+MVSV4ELJjfVAUISNIiQpDCm/MpTEoEL8A2RbC1iMf0g/CJt4IGQqc9DQiVZGxRXNLlg/TitmGpoyIP63F1cOkcP1+Jrj4Ry7sOTZQwu4cu81ljgJE1ZpIWBrPev/8AwEih4rNVxOMAAAAAElFTkSuQmCC\"></td></tr>\n",
       "<tr><th style=\"text-align: right\">name</th><td style=\"text-align: left\">b1i5c</td></tr>\n",
       "<tr><th style=\"text-align: right\">origin</th><td style=\"text-align: left\">BMCL2010</td></tr>\n",
       "<tr><th style=\"text-align: right\">pIC50</th><td style=\"text-align: left\">8.699</td></tr></table>"
      ],
      "text/plain": [
       "<rdkit.Chem.rdchem.Mol at 0x7f84b825de70>"
      ]
     },
     "execution_count": 4,
     "metadata": {},
     "output_type": "execute_result"
    }
   ],
   "source": [
    "mols = [Chem.MolFromSmiles(smiles) for smiles in df[\"pubchem_smiles\"]]\n",
    "for prop_name in [\"name\", \"origin\", \"pIC50\"]:\n",
    "    for mol, prop in zip(mols, df[prop_name]):\n",
    "        mol.SetProp(prop_name, str(prop))\n",
    "mols[1]"
   ]
  },
  {
   "cell_type": "markdown",
   "id": "9470f1df-6175-4991-bb08-9c84692f3f58",
   "metadata": {},
   "source": [
    "The target values are extraxted in a separate list `y`"
   ]
  },
  {
   "cell_type": "code",
   "execution_count": 5,
   "id": "d2c32c0a-baf5-4c71-acb7-859ab016628b",
   "metadata": {},
   "outputs": [
    {
     "data": {
      "text/plain": [
       "[8.8861, 8.699, 8.699]"
      ]
     },
     "execution_count": 5,
     "metadata": {},
     "output_type": "execute_result"
    }
   ],
   "source": [
    "y = [float(mol.GetProp(\"pIC50\")) for mol in mols]\n",
    "y[:3]"
   ]
  },
  {
   "cell_type": "markdown",
   "id": "04ddb98e-9eba-45fd-be5f-5fc96eed9d86",
   "metadata": {},
   "source": [
    "### Explaining predictions with MolPipeline"
   ]
  },
  {
   "cell_type": "markdown",
   "id": "38c88eb2-2a3f-494b-8f05-2036c9f0a815",
   "metadata": {},
   "source": [
    "We start by setting up and fitting a standard Random Forest model with Morgan fingerprints on the data set"
   ]
  },
  {
   "cell_type": "code",
   "execution_count": 6,
   "id": "fe99594a-0e06-49d9-81d4-59b735a8af5e",
   "metadata": {},
   "outputs": [
    {
     "data": {
      "text/html": [
       "<style>#sk-container-id-1 {\n",
       "  /* Definition of color scheme common for light and dark mode */\n",
       "  --sklearn-color-text: black;\n",
       "  --sklearn-color-line: gray;\n",
       "  /* Definition of color scheme for unfitted estimators */\n",
       "  --sklearn-color-unfitted-level-0: #fff5e6;\n",
       "  --sklearn-color-unfitted-level-1: #f6e4d2;\n",
       "  --sklearn-color-unfitted-level-2: #ffe0b3;\n",
       "  --sklearn-color-unfitted-level-3: chocolate;\n",
       "  /* Definition of color scheme for fitted estimators */\n",
       "  --sklearn-color-fitted-level-0: #f0f8ff;\n",
       "  --sklearn-color-fitted-level-1: #d4ebff;\n",
       "  --sklearn-color-fitted-level-2: #b3dbfd;\n",
       "  --sklearn-color-fitted-level-3: cornflowerblue;\n",
       "\n",
       "  /* Specific color for light theme */\n",
       "  --sklearn-color-text-on-default-background: var(--sg-text-color, var(--theme-code-foreground, var(--jp-content-font-color1, black)));\n",
       "  --sklearn-color-background: var(--sg-background-color, var(--theme-background, var(--jp-layout-color0, white)));\n",
       "  --sklearn-color-border-box: var(--sg-text-color, var(--theme-code-foreground, var(--jp-content-font-color1, black)));\n",
       "  --sklearn-color-icon: #696969;\n",
       "\n",
       "  @media (prefers-color-scheme: dark) {\n",
       "    /* Redefinition of color scheme for dark theme */\n",
       "    --sklearn-color-text-on-default-background: var(--sg-text-color, var(--theme-code-foreground, var(--jp-content-font-color1, white)));\n",
       "    --sklearn-color-background: var(--sg-background-color, var(--theme-background, var(--jp-layout-color0, #111)));\n",
       "    --sklearn-color-border-box: var(--sg-text-color, var(--theme-code-foreground, var(--jp-content-font-color1, white)));\n",
       "    --sklearn-color-icon: #878787;\n",
       "  }\n",
       "}\n",
       "\n",
       "#sk-container-id-1 {\n",
       "  color: var(--sklearn-color-text);\n",
       "}\n",
       "\n",
       "#sk-container-id-1 pre {\n",
       "  padding: 0;\n",
       "}\n",
       "\n",
       "#sk-container-id-1 input.sk-hidden--visually {\n",
       "  border: 0;\n",
       "  clip: rect(1px 1px 1px 1px);\n",
       "  clip: rect(1px, 1px, 1px, 1px);\n",
       "  height: 1px;\n",
       "  margin: -1px;\n",
       "  overflow: hidden;\n",
       "  padding: 0;\n",
       "  position: absolute;\n",
       "  width: 1px;\n",
       "}\n",
       "\n",
       "#sk-container-id-1 div.sk-dashed-wrapped {\n",
       "  border: 1px dashed var(--sklearn-color-line);\n",
       "  margin: 0 0.4em 0.5em 0.4em;\n",
       "  box-sizing: border-box;\n",
       "  padding-bottom: 0.4em;\n",
       "  background-color: var(--sklearn-color-background);\n",
       "}\n",
       "\n",
       "#sk-container-id-1 div.sk-container {\n",
       "  /* jupyter's `normalize.less` sets `[hidden] { display: none; }`\n",
       "     but bootstrap.min.css set `[hidden] { display: none !important; }`\n",
       "     so we also need the `!important` here to be able to override the\n",
       "     default hidden behavior on the sphinx rendered scikit-learn.org.\n",
       "     See: https://github.com/scikit-learn/scikit-learn/issues/21755 */\n",
       "  display: inline-block !important;\n",
       "  position: relative;\n",
       "}\n",
       "\n",
       "#sk-container-id-1 div.sk-text-repr-fallback {\n",
       "  display: none;\n",
       "}\n",
       "\n",
       "div.sk-parallel-item,\n",
       "div.sk-serial,\n",
       "div.sk-item {\n",
       "  /* draw centered vertical line to link estimators */\n",
       "  background-image: linear-gradient(var(--sklearn-color-text-on-default-background), var(--sklearn-color-text-on-default-background));\n",
       "  background-size: 2px 100%;\n",
       "  background-repeat: no-repeat;\n",
       "  background-position: center center;\n",
       "}\n",
       "\n",
       "/* Parallel-specific style estimator block */\n",
       "\n",
       "#sk-container-id-1 div.sk-parallel-item::after {\n",
       "  content: \"\";\n",
       "  width: 100%;\n",
       "  border-bottom: 2px solid var(--sklearn-color-text-on-default-background);\n",
       "  flex-grow: 1;\n",
       "}\n",
       "\n",
       "#sk-container-id-1 div.sk-parallel {\n",
       "  display: flex;\n",
       "  align-items: stretch;\n",
       "  justify-content: center;\n",
       "  background-color: var(--sklearn-color-background);\n",
       "  position: relative;\n",
       "}\n",
       "\n",
       "#sk-container-id-1 div.sk-parallel-item {\n",
       "  display: flex;\n",
       "  flex-direction: column;\n",
       "}\n",
       "\n",
       "#sk-container-id-1 div.sk-parallel-item:first-child::after {\n",
       "  align-self: flex-end;\n",
       "  width: 50%;\n",
       "}\n",
       "\n",
       "#sk-container-id-1 div.sk-parallel-item:last-child::after {\n",
       "  align-self: flex-start;\n",
       "  width: 50%;\n",
       "}\n",
       "\n",
       "#sk-container-id-1 div.sk-parallel-item:only-child::after {\n",
       "  width: 0;\n",
       "}\n",
       "\n",
       "/* Serial-specific style estimator block */\n",
       "\n",
       "#sk-container-id-1 div.sk-serial {\n",
       "  display: flex;\n",
       "  flex-direction: column;\n",
       "  align-items: center;\n",
       "  background-color: var(--sklearn-color-background);\n",
       "  padding-right: 1em;\n",
       "  padding-left: 1em;\n",
       "}\n",
       "\n",
       "\n",
       "/* Toggleable style: style used for estimator/Pipeline/ColumnTransformer box that is\n",
       "clickable and can be expanded/collapsed.\n",
       "- Pipeline and ColumnTransformer use this feature and define the default style\n",
       "- Estimators will overwrite some part of the style using the `sk-estimator` class\n",
       "*/\n",
       "\n",
       "/* Pipeline and ColumnTransformer style (default) */\n",
       "\n",
       "#sk-container-id-1 div.sk-toggleable {\n",
       "  /* Default theme specific background. It is overwritten whether we have a\n",
       "  specific estimator or a Pipeline/ColumnTransformer */\n",
       "  background-color: var(--sklearn-color-background);\n",
       "}\n",
       "\n",
       "/* Toggleable label */\n",
       "#sk-container-id-1 label.sk-toggleable__label {\n",
       "  cursor: pointer;\n",
       "  display: block;\n",
       "  width: 100%;\n",
       "  margin-bottom: 0;\n",
       "  padding: 0.5em;\n",
       "  box-sizing: border-box;\n",
       "  text-align: center;\n",
       "}\n",
       "\n",
       "#sk-container-id-1 label.sk-toggleable__label-arrow:before {\n",
       "  /* Arrow on the left of the label */\n",
       "  content: \"▸\";\n",
       "  float: left;\n",
       "  margin-right: 0.25em;\n",
       "  color: var(--sklearn-color-icon);\n",
       "}\n",
       "\n",
       "#sk-container-id-1 label.sk-toggleable__label-arrow:hover:before {\n",
       "  color: var(--sklearn-color-text);\n",
       "}\n",
       "\n",
       "/* Toggleable content - dropdown */\n",
       "\n",
       "#sk-container-id-1 div.sk-toggleable__content {\n",
       "  max-height: 0;\n",
       "  max-width: 0;\n",
       "  overflow: hidden;\n",
       "  text-align: left;\n",
       "  /* unfitted */\n",
       "  background-color: var(--sklearn-color-unfitted-level-0);\n",
       "}\n",
       "\n",
       "#sk-container-id-1 div.sk-toggleable__content.fitted {\n",
       "  /* fitted */\n",
       "  background-color: var(--sklearn-color-fitted-level-0);\n",
       "}\n",
       "\n",
       "#sk-container-id-1 div.sk-toggleable__content pre {\n",
       "  margin: 0.2em;\n",
       "  border-radius: 0.25em;\n",
       "  color: var(--sklearn-color-text);\n",
       "  /* unfitted */\n",
       "  background-color: var(--sklearn-color-unfitted-level-0);\n",
       "}\n",
       "\n",
       "#sk-container-id-1 div.sk-toggleable__content.fitted pre {\n",
       "  /* unfitted */\n",
       "  background-color: var(--sklearn-color-fitted-level-0);\n",
       "}\n",
       "\n",
       "#sk-container-id-1 input.sk-toggleable__control:checked~div.sk-toggleable__content {\n",
       "  /* Expand drop-down */\n",
       "  max-height: 200px;\n",
       "  max-width: 100%;\n",
       "  overflow: auto;\n",
       "}\n",
       "\n",
       "#sk-container-id-1 input.sk-toggleable__control:checked~label.sk-toggleable__label-arrow:before {\n",
       "  content: \"▾\";\n",
       "}\n",
       "\n",
       "/* Pipeline/ColumnTransformer-specific style */\n",
       "\n",
       "#sk-container-id-1 div.sk-label input.sk-toggleable__control:checked~label.sk-toggleable__label {\n",
       "  color: var(--sklearn-color-text);\n",
       "  background-color: var(--sklearn-color-unfitted-level-2);\n",
       "}\n",
       "\n",
       "#sk-container-id-1 div.sk-label.fitted input.sk-toggleable__control:checked~label.sk-toggleable__label {\n",
       "  background-color: var(--sklearn-color-fitted-level-2);\n",
       "}\n",
       "\n",
       "/* Estimator-specific style */\n",
       "\n",
       "/* Colorize estimator box */\n",
       "#sk-container-id-1 div.sk-estimator input.sk-toggleable__control:checked~label.sk-toggleable__label {\n",
       "  /* unfitted */\n",
       "  background-color: var(--sklearn-color-unfitted-level-2);\n",
       "}\n",
       "\n",
       "#sk-container-id-1 div.sk-estimator.fitted input.sk-toggleable__control:checked~label.sk-toggleable__label {\n",
       "  /* fitted */\n",
       "  background-color: var(--sklearn-color-fitted-level-2);\n",
       "}\n",
       "\n",
       "#sk-container-id-1 div.sk-label label.sk-toggleable__label,\n",
       "#sk-container-id-1 div.sk-label label {\n",
       "  /* The background is the default theme color */\n",
       "  color: var(--sklearn-color-text-on-default-background);\n",
       "}\n",
       "\n",
       "/* On hover, darken the color of the background */\n",
       "#sk-container-id-1 div.sk-label:hover label.sk-toggleable__label {\n",
       "  color: var(--sklearn-color-text);\n",
       "  background-color: var(--sklearn-color-unfitted-level-2);\n",
       "}\n",
       "\n",
       "/* Label box, darken color on hover, fitted */\n",
       "#sk-container-id-1 div.sk-label.fitted:hover label.sk-toggleable__label.fitted {\n",
       "  color: var(--sklearn-color-text);\n",
       "  background-color: var(--sklearn-color-fitted-level-2);\n",
       "}\n",
       "\n",
       "/* Estimator label */\n",
       "\n",
       "#sk-container-id-1 div.sk-label label {\n",
       "  font-family: monospace;\n",
       "  font-weight: bold;\n",
       "  display: inline-block;\n",
       "  line-height: 1.2em;\n",
       "}\n",
       "\n",
       "#sk-container-id-1 div.sk-label-container {\n",
       "  text-align: center;\n",
       "}\n",
       "\n",
       "/* Estimator-specific */\n",
       "#sk-container-id-1 div.sk-estimator {\n",
       "  font-family: monospace;\n",
       "  border: 1px dotted var(--sklearn-color-border-box);\n",
       "  border-radius: 0.25em;\n",
       "  box-sizing: border-box;\n",
       "  margin-bottom: 0.5em;\n",
       "  /* unfitted */\n",
       "  background-color: var(--sklearn-color-unfitted-level-0);\n",
       "}\n",
       "\n",
       "#sk-container-id-1 div.sk-estimator.fitted {\n",
       "  /* fitted */\n",
       "  background-color: var(--sklearn-color-fitted-level-0);\n",
       "}\n",
       "\n",
       "/* on hover */\n",
       "#sk-container-id-1 div.sk-estimator:hover {\n",
       "  /* unfitted */\n",
       "  background-color: var(--sklearn-color-unfitted-level-2);\n",
       "}\n",
       "\n",
       "#sk-container-id-1 div.sk-estimator.fitted:hover {\n",
       "  /* fitted */\n",
       "  background-color: var(--sklearn-color-fitted-level-2);\n",
       "}\n",
       "\n",
       "/* Specification for estimator info (e.g. \"i\" and \"?\") */\n",
       "\n",
       "/* Common style for \"i\" and \"?\" */\n",
       "\n",
       ".sk-estimator-doc-link,\n",
       "a:link.sk-estimator-doc-link,\n",
       "a:visited.sk-estimator-doc-link {\n",
       "  float: right;\n",
       "  font-size: smaller;\n",
       "  line-height: 1em;\n",
       "  font-family: monospace;\n",
       "  background-color: var(--sklearn-color-background);\n",
       "  border-radius: 1em;\n",
       "  height: 1em;\n",
       "  width: 1em;\n",
       "  text-decoration: none !important;\n",
       "  margin-left: 1ex;\n",
       "  /* unfitted */\n",
       "  border: var(--sklearn-color-unfitted-level-1) 1pt solid;\n",
       "  color: var(--sklearn-color-unfitted-level-1);\n",
       "}\n",
       "\n",
       ".sk-estimator-doc-link.fitted,\n",
       "a:link.sk-estimator-doc-link.fitted,\n",
       "a:visited.sk-estimator-doc-link.fitted {\n",
       "  /* fitted */\n",
       "  border: var(--sklearn-color-fitted-level-1) 1pt solid;\n",
       "  color: var(--sklearn-color-fitted-level-1);\n",
       "}\n",
       "\n",
       "/* On hover */\n",
       "div.sk-estimator:hover .sk-estimator-doc-link:hover,\n",
       ".sk-estimator-doc-link:hover,\n",
       "div.sk-label-container:hover .sk-estimator-doc-link:hover,\n",
       ".sk-estimator-doc-link:hover {\n",
       "  /* unfitted */\n",
       "  background-color: var(--sklearn-color-unfitted-level-3);\n",
       "  color: var(--sklearn-color-background);\n",
       "  text-decoration: none;\n",
       "}\n",
       "\n",
       "div.sk-estimator.fitted:hover .sk-estimator-doc-link.fitted:hover,\n",
       ".sk-estimator-doc-link.fitted:hover,\n",
       "div.sk-label-container:hover .sk-estimator-doc-link.fitted:hover,\n",
       ".sk-estimator-doc-link.fitted:hover {\n",
       "  /* fitted */\n",
       "  background-color: var(--sklearn-color-fitted-level-3);\n",
       "  color: var(--sklearn-color-background);\n",
       "  text-decoration: none;\n",
       "}\n",
       "\n",
       "/* Span, style for the box shown on hovering the info icon */\n",
       ".sk-estimator-doc-link span {\n",
       "  display: none;\n",
       "  z-index: 9999;\n",
       "  position: relative;\n",
       "  font-weight: normal;\n",
       "  right: .2ex;\n",
       "  padding: .5ex;\n",
       "  margin: .5ex;\n",
       "  width: min-content;\n",
       "  min-width: 20ex;\n",
       "  max-width: 50ex;\n",
       "  color: var(--sklearn-color-text);\n",
       "  box-shadow: 2pt 2pt 4pt #999;\n",
       "  /* unfitted */\n",
       "  background: var(--sklearn-color-unfitted-level-0);\n",
       "  border: .5pt solid var(--sklearn-color-unfitted-level-3);\n",
       "}\n",
       "\n",
       ".sk-estimator-doc-link.fitted span {\n",
       "  /* fitted */\n",
       "  background: var(--sklearn-color-fitted-level-0);\n",
       "  border: var(--sklearn-color-fitted-level-3);\n",
       "}\n",
       "\n",
       ".sk-estimator-doc-link:hover span {\n",
       "  display: block;\n",
       "}\n",
       "\n",
       "/* \"?\"-specific style due to the `<a>` HTML tag */\n",
       "\n",
       "#sk-container-id-1 a.estimator_doc_link {\n",
       "  float: right;\n",
       "  font-size: 1rem;\n",
       "  line-height: 1em;\n",
       "  font-family: monospace;\n",
       "  background-color: var(--sklearn-color-background);\n",
       "  border-radius: 1rem;\n",
       "  height: 1rem;\n",
       "  width: 1rem;\n",
       "  text-decoration: none;\n",
       "  /* unfitted */\n",
       "  color: var(--sklearn-color-unfitted-level-1);\n",
       "  border: var(--sklearn-color-unfitted-level-1) 1pt solid;\n",
       "}\n",
       "\n",
       "#sk-container-id-1 a.estimator_doc_link.fitted {\n",
       "  /* fitted */\n",
       "  border: var(--sklearn-color-fitted-level-1) 1pt solid;\n",
       "  color: var(--sklearn-color-fitted-level-1);\n",
       "}\n",
       "\n",
       "/* On hover */\n",
       "#sk-container-id-1 a.estimator_doc_link:hover {\n",
       "  /* unfitted */\n",
       "  background-color: var(--sklearn-color-unfitted-level-3);\n",
       "  color: var(--sklearn-color-background);\n",
       "  text-decoration: none;\n",
       "}\n",
       "\n",
       "#sk-container-id-1 a.estimator_doc_link.fitted:hover {\n",
       "  /* fitted */\n",
       "  background-color: var(--sklearn-color-fitted-level-3);\n",
       "}\n",
       "</style><div id=\"sk-container-id-1\" class=\"sk-top-container\"><div class=\"sk-text-repr-fallback\"><pre>Pipeline(n_jobs=-1,\n",
       "         steps=[(&#x27;auto2mol&#x27;, AutoToMol()), (&#x27;morgan&#x27;, MolToMorganFP()),\n",
       "                (&#x27;rf&#x27;,\n",
       "                 RandomForestRegressor(n_estimators=500, random_state=123456))])</pre><b>In a Jupyter environment, please rerun this cell to show the HTML representation or trust the notebook. <br />On GitHub, the HTML representation is unable to render, please try loading this page with nbviewer.org.</b></div><div class=\"sk-container\" hidden><div class=\"sk-item sk-dashed-wrapped\"><div class=\"sk-label-container\"><div class=\"sk-label fitted sk-toggleable\"><input class=\"sk-toggleable__control sk-hidden--visually\" id=\"sk-estimator-id-1\" type=\"checkbox\" ><label for=\"sk-estimator-id-1\" class=\"sk-toggleable__label fitted sk-toggleable__label-arrow fitted\">&nbsp;Pipeline<span class=\"sk-estimator-doc-link fitted\">i<span>Fitted</span></span></label><div class=\"sk-toggleable__content fitted\"><pre>Pipeline(n_jobs=-1,\n",
       "         steps=[(&#x27;auto2mol&#x27;, AutoToMol()), (&#x27;morgan&#x27;, MolToMorganFP()),\n",
       "                (&#x27;rf&#x27;,\n",
       "                 RandomForestRegressor(n_estimators=500, random_state=123456))])</pre></div> </div></div><div class=\"sk-serial\"><div class=\"sk-item\"><div class=\"sk-estimator fitted sk-toggleable\"><input class=\"sk-toggleable__control sk-hidden--visually\" id=\"sk-estimator-id-2\" type=\"checkbox\" ><label for=\"sk-estimator-id-2\" class=\"sk-toggleable__label fitted sk-toggleable__label-arrow fitted\">AutoToMol</label><div class=\"sk-toggleable__content fitted\"><pre>AutoToMol()</pre></div> </div></div><div class=\"sk-item\"><div class=\"sk-estimator fitted sk-toggleable\"><input class=\"sk-toggleable__control sk-hidden--visually\" id=\"sk-estimator-id-3\" type=\"checkbox\" ><label for=\"sk-estimator-id-3\" class=\"sk-toggleable__label fitted sk-toggleable__label-arrow fitted\">MolToMorganFP</label><div class=\"sk-toggleable__content fitted\"><pre>MolToMorganFP()</pre></div> </div></div><div class=\"sk-item\"><div class=\"sk-estimator fitted sk-toggleable\"><input class=\"sk-toggleable__control sk-hidden--visually\" id=\"sk-estimator-id-4\" type=\"checkbox\" ><label for=\"sk-estimator-id-4\" class=\"sk-toggleable__label fitted sk-toggleable__label-arrow fitted\">&nbsp;RandomForestRegressor<a class=\"sk-estimator-doc-link fitted\" rel=\"noreferrer\" target=\"_blank\" href=\"https://scikit-learn.org/1.5/modules/generated/sklearn.ensemble.RandomForestRegressor.html\">?<span>Documentation for RandomForestRegressor</span></a></label><div class=\"sk-toggleable__content fitted\"><pre>RandomForestRegressor(n_estimators=500, random_state=123456)</pre></div> </div></div></div></div></div></div>"
      ],
      "text/plain": [
       "Pipeline(n_jobs=-1,\n",
       "         steps=[('auto2mol', AutoToMol()), ('morgan', MolToMorganFP()),\n",
       "                ('rf',\n",
       "                 RandomForestRegressor(n_estimators=500, random_state=123456))])"
      ]
     },
     "execution_count": 6,
     "metadata": {},
     "output_type": "execute_result"
    }
   ],
   "source": [
    "pipeline = Pipeline(\n",
    "    [\n",
    "        (\"auto2mol\", AutoToMol()),\n",
    "        (\"morgan\", MolToMorganFP(n_bits=2048, radius=2)),\n",
    "        (\"rf\", RandomForestRegressor(n_estimators=500, random_state=RANDOM_STATE)),\n",
    "    ],\n",
    "    n_jobs=-1,\n",
    ")\n",
    "\n",
    "pipeline.fit(mols, y)"
   ]
  },
  {
   "cell_type": "markdown",
   "id": "715075c3-cff8-4870-bd9c-7fd87b7bb7c3",
   "metadata": {},
   "source": [
    "After the model is trained, we can simply pass the `pipeline` into a MolPipeline explainer object and call the `explain` function to generate explanations for a list of molecules. Here we use the `SHAPTreeExplainer` which is a wrapper around [SHAP's TreeExplainer](https://shap.readthedocs.io/en/latest/generated/shap.TreeExplainer.html) that handles all necessary steps to generate explanations for molecules automatically. In addition, all molecules given to `explain` will be processed by the `pipeline` meaning all transformation, standardization and error handling steps will also be applied to explaining molecules."
   ]
  },
  {
   "cell_type": "code",
   "execution_count": 7,
   "id": "18ccba9b-42d5-4078-bc2a-b433d93d79b2",
   "metadata": {},
   "outputs": [],
   "source": [
    "explainer = SHAPTreeExplainer(pipeline)\n",
    "explanations = explainer.explain(mols)"
   ]
  },
  {
   "cell_type": "markdown",
   "id": "641c7f21-38d7-4858-ade3-f9fca6703b53",
   "metadata": {},
   "source": [
    "We can check if an explanation could be computed successfully by calling the `is_valid()` function, e.g. sometimes errors can occur for unprocessable molecules. "
   ]
  },
  {
   "cell_type": "code",
   "execution_count": 8,
   "id": "4c8a7790-39c6-462c-afd2-22a26c78afde",
   "metadata": {},
   "outputs": [],
   "source": [
    "assert all(exp for exp in explanations if not exp.is_valid())"
   ]
  },
  {
   "cell_type": "markdown",
   "id": "d7f48fd5-5cf9-4d3a-870a-4bedba58ef38",
   "metadata": {},
   "source": [
    "The algorithm behind MolPipeline's `SHAPTreeExplainer` uses [SHAP's TreeExplainer](https://shap.readthedocs.io/en/latest/generated/shap.TreeExplainer.html) to estimate Shapley Values. With the Shapley Values each feature is attributed an importance value for the prediction, which we term `feature_weights`. When computed on the Morgan fingerprint, these `feature_weigths` can be mapped to `atom_weights`. The weight of an atom is the sum of all feature weights of substructures intersecting the atom, normalized by the substructure size and occurrence in the molecule. See [Feldmann et al.](https://doi.org/10.3390/biom12040557) for more details and [Harren et al.](https://pubs.acs.org/doi/10.1021/acs.jcim.1c01263) for some alternative approaches for calculating atom weights."
   ]
  },
  {
   "cell_type": "code",
   "execution_count": 9,
   "id": "f9b515d8-b837-4277-b1cf-17ac6e890b8e",
   "metadata": {},
   "outputs": [
    {
     "data": {
      "text/plain": [
       "array([0.        , 0.00107952, 0.00228033, ..., 0.        , 0.00203279,\n",
       "       0.        ])"
      ]
     },
     "execution_count": 9,
     "metadata": {},
     "output_type": "execute_result"
    }
   ],
   "source": [
    "# feature weights for the first molecule\n",
    "explanations[0].feature_weights"
   ]
  },
  {
   "cell_type": "code",
   "execution_count": 10,
   "id": "ae932eb9-d144-4ed3-8f98-ad20fc37dfb3",
   "metadata": {},
   "outputs": [
    {
     "data": {
      "text/plain": [
       "array([0.10709252, 0.1681309 , 0.08668313, 0.16441428, 0.12145487,\n",
       "       0.07626993, 0.07847628, 0.08840573, 0.1299341 , 0.06097025,\n",
       "       0.03320983, 0.01206373, 0.01444756, 0.01949642, 0.01681818,\n",
       "       0.00290023, 0.00405506, 0.00244116, 0.00217213, 0.00244116,\n",
       "       0.00405506, 0.01249509, 0.00179475, 0.00254281, 0.00118365,\n",
       "       0.00459823, 0.00244727, 0.00375401, 0.00456337, 0.0075409 ,\n",
       "       0.00579607, 0.0075409 , 0.00456337])"
      ]
     },
     "execution_count": 10,
     "metadata": {},
     "output_type": "execute_result"
    }
   ],
   "source": [
    "# atom weights for the first molecule\n",
    "explanations[0].atom_weights"
   ]
  },
  {
   "cell_type": "markdown",
   "id": "cb21eef9-20fb-4e8d-910a-d1389f9ce09f",
   "metadata": {},
   "source": [
    "Now that we generated explanations let's depict one to understand what they can provide for interpreting predictions. "
   ]
  },
  {
   "cell_type": "markdown",
   "id": "971d77d5-bf8c-4c7a-985c-a27dd9f5316a",
   "metadata": {},
   "source": [
    "We select some molecule from the data set:"
   ]
  },
  {
   "cell_type": "code",
   "execution_count": 11,
   "id": "9b91dfea-7d87-4a2c-9d5d-1d3e7810e21a",
   "metadata": {},
   "outputs": [
    {
     "ename": "NameError",
     "evalue": "name 'explanations_dict' is not defined",
     "output_type": "error",
     "traceback": [
      "\u001b[0;31m---------------------------------------------------------------------------\u001b[0m",
      "\u001b[0;31mNameError\u001b[0m                                 Traceback (most recent call last)",
      "Cell \u001b[0;32mIn[11], line 1\u001b[0m\n\u001b[0;32m----> 1\u001b[0m \u001b[43mexplanations_dict\u001b[49m[\u001b[38;5;124m\"\u001b[39m\u001b[38;5;124mb1i5k\u001b[39m\u001b[38;5;124m\"\u001b[39m]\u001b[38;5;241m.\u001b[39mmolecule\n",
      "\u001b[0;31mNameError\u001b[0m: name 'explanations_dict' is not defined"
     ]
    }
   ],
   "source": [
    "explanations_dict[\"b1i5k\"].molecule"
   ]
  },
  {
   "cell_type": "markdown",
   "id": "4284b9d9-b1cf-4328-be1d-4f7a2c5c7fb6",
   "metadata": {},
   "source": [
    "We can illustrate MolPipeline's explanations with the `structure_heatmap_shap` as can be seen in the next cell. "
   ]
  },
  {
   "cell_type": "code",
   "execution_count": null,
   "id": "c5545ea6-ca77-48c6-9871-f84f7fdbfe88",
   "metadata": {},
   "outputs": [],
   "source": [
    "structure_heatmap_shap(\n",
    "    explanations_dict[\"b1i5k\"]\n",
    ")  # TODO als Einleitungs Beispiel vielleicht ein Random Mol mit red und blue nehmen"
   ]
  },
  {
   "cell_type": "markdown",
   "id": "f7fc7154-c29f-4bca-ad20-7b4f3e051e13",
   "metadata": {},
   "source": [
    "**Heatmap of the molecular structure**  \n",
    "Substructures associated with positive contributions by the model are highlighted in red, while substructures with negative contributions would be illustrated in blue. No color indicates no contribution. Therefore, we can interprete that substructures highlighted in red are important for high activity while blue substructures are unfavorable for activity. "
   ]
  },
  {
   "cell_type": "markdown",
   "id": "9a3baa39-95c1-4b39-a591-32ae7a145024",
   "metadata": {},
   "source": [
    "**Decomposition of the prediction**  \n",
    "In addition to the heatmap of the structure, MolPipelines also provides a breakdown of the predicted value on the bottom of the explanation image. The model predicts a pIC50 value of 8.32 for the compound. This value can be decomposed in contributions from the expected value of the model output (see [Lundberg et al.](https://doi.org/10.48550/arXiv.1705.07874) for details), the features present and features absent using the Shapley Value-based feature weights. Since we are using Morgan fingerprints, present features correspond to the substructures present in the molecule, that can be seen in the image. In contrast, absent features are features that are important for the prediction but are not in the depicted molecule. For example, some features/substructures in the training set can be important for the model and that they are missing in this particular molecule influences the prediction.  \n",
    "\n",
    "Note that this decomposition is currently only provided for binary fingerprints."
   ]
  },
  {
   "cell_type": "markdown",
   "id": "eb9cfe22-bd1e-4d40-9ff5-095a8bf646dd",
   "metadata": {},
   "source": [
    "### Reproducing explanations from Harren et al.\n",
    "\n",
    "To demonstrate the usage of MolPipeline's XAI features we will reproduce some explanation results from [Harren et al.](https://pubs.acs.org/doi/10.1021/acs.jcim.1c01263) with our Random Forest model with Morgan fingeprints based on Shapley values. This includes the heatmap illustrations of molecular structure using the calculated `atom_weights`."
   ]
  },
  {
   "cell_type": "markdown",
   "id": "9f9a402c-e184-478a-99b5-bddf165794e3",
   "metadata": {},
   "source": [
    "For convenience we store all explanations in a dict to access them by the molecules IDs or names."
   ]
  },
  {
   "cell_type": "code",
   "execution_count": null,
   "id": "f4332475-d5c1-416b-9394-f8d3d0c0b9da",
   "metadata": {},
   "outputs": [],
   "source": [
    "explanations_dict = {exp.molecule.GetProp(\"name\"): exp for exp in explanations}\n",
    "len(explanations_dict)"
   ]
  },
  {
   "cell_type": "code",
   "execution_count": null,
   "id": "c5aadaed-f55a-4fa8-a471-a64bf0e9e994",
   "metadata": {},
   "outputs": [],
   "source": [
    "# most potent compound from series (Scheiper 2010)\n",
    "explanations_dict[\"b1i5k\"].molecule"
   ]
  },
  {
   "cell_type": "code",
   "execution_count": null,
   "id": "d9048b03-6ce6-475d-b440-4f403b45cce4",
   "metadata": {},
   "outputs": [],
   "source": [
    "structure_heatmap_shap(explanations_dict[\"b1i5k\"])"
   ]
  },
  {
   "cell_type": "code",
   "execution_count": null,
   "id": "00f75eca-e30c-49cf-aa9c-6011214a852d",
   "metadata": {},
   "outputs": [],
   "source": [
    "# molecule depicted in Figure 5 of Harren et al. (mislabeled as \"5k\" in Figure caption)\n",
    "explanations_dict[\"b1i2n\"].molecule"
   ]
  },
  {
   "cell_type": "code",
   "execution_count": null,
   "id": "fe921a8b-3a80-4236-8360-115837ea36c3",
   "metadata": {},
   "outputs": [],
   "source": [
    "structure_heatmap_shap(explanations_dict[\"b1i2n\"])"
   ]
  },
  {
   "cell_type": "code",
   "execution_count": null,
   "id": "5e517213-e45b-43e4-96f8-6f5ae748ea42",
   "metadata": {},
   "outputs": [],
   "source": [
    "explanations_dict[\"b1i2n\"].molecule"
   ]
  },
  {
   "cell_type": "code",
   "execution_count": null,
   "id": "5c8867a2-926a-4458-8194-6edce7c000d5",
   "metadata": {},
   "outputs": [],
   "source": [
    "structure_heatmap_shap(explanations_dict[\"b1i2n\"])"
   ]
  },
  {
   "cell_type": "code",
   "execution_count": null,
   "id": "d47913e5-ead0-47d1-910f-3f83662338da",
   "metadata": {},
   "outputs": [],
   "source": [
    "# compound \"5b\" in Figure 6 from Harren et al.\n",
    "explanations_dict[\"b1i5b\"].molecule"
   ]
  },
  {
   "cell_type": "code",
   "execution_count": null,
   "id": "0b1e490d-2a80-4e1b-8041-d34ddabff5ed",
   "metadata": {},
   "outputs": [],
   "source": [
    "structure_heatmap_shap(explanations_dict[\"b1i5b\"])"
   ]
  }
 ],
 "metadata": {
  "kernelspec": {
   "display_name": "Python 3 (ipykernel)",
   "language": "python",
   "name": "python3"
  },
  "language_info": {
   "codemirror_mode": {
    "name": "ipython",
    "version": 3
   },
   "file_extension": ".py",
   "mimetype": "text/x-python",
   "name": "python",
   "nbconvert_exporter": "python",
   "pygments_lexer": "ipython3",
   "version": "3.11.9"
  }
 },
 "nbformat": 4,
 "nbformat_minor": 5
}
