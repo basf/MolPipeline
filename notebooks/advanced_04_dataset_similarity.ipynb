{
 "cells": [
  {
   "cell_type": "markdown",
   "id": "e6afe352-c6de-4469-9508-a24cbd914d57",
   "metadata": {},
   "source": [
    "# Analyzing similarity of molecular dataset\n",
    "\n",
    "This notebook illustrates how the `NearestNeighborsRetrieverTanimoto` can be used for analyzing the Tanimoto similarities of two datasets. \n",
    "\n",
    "Such analysis can be useful for many applications. For example, for analyzing how similar new molecules are to the training set to assess the applicability domain when making predictions. Alternatively the similarity of training and test set can be evaluated to understand how well the model generalizes. \n",
    "\n",
    "The notebook has the following sections:\n",
    "\n",
    "**How to compute dataset similarities?**\n",
    "\n",
    "**How to analyze similarities between train and test set?**\n",
    "\n",
    "**Comparison to native RDKit Tanimoto computation**"
   ]
  },
  {
   "cell_type": "code",
   "id": "4b74dcad-0865-41a5-b380-fe6fdea89506",
   "metadata": {
    "ExecuteTime": {
     "end_time": "2025-08-21T13:55:41.372634Z",
     "start_time": "2025-08-21T13:55:35.132334Z"
    }
   },
   "source": [
    "import matplotlib.pyplot as plt\n",
    "import numpy as np\n",
    "import pandas as pd\n",
    "import seaborn as sns\n",
    "from rdkit import DataStructs\n",
    "from sklearn.model_selection import train_test_split\n",
    "\n",
    "from molpipeline import ErrorFilter, Pipeline\n",
    "from molpipeline.any2mol import AutoToMol\n",
    "from molpipeline.estimators.nearest_neighbor import NearestNeighborsRetrieverTanimoto\n",
    "from molpipeline.mol2any import MolToMorganFP\n",
    "from molpipeline.utils.kernel import tanimoto_similarity_sparse"
   ],
   "outputs": [
    {
     "ename": "ModuleNotFoundError",
     "evalue": "No module named 'seaborn'",
     "output_type": "error",
     "traceback": [
      "\u001B[31m---------------------------------------------------------------------------\u001B[39m",
      "\u001B[31mModuleNotFoundError\u001B[39m                       Traceback (most recent call last)",
      "\u001B[36mCell\u001B[39m\u001B[36m \u001B[39m\u001B[32mIn[1]\u001B[39m\u001B[32m, line 4\u001B[39m\n\u001B[32m      2\u001B[39m \u001B[38;5;28;01mimport\u001B[39;00m\u001B[38;5;250m \u001B[39m\u001B[34;01mnumpy\u001B[39;00m\u001B[38;5;250m \u001B[39m\u001B[38;5;28;01mas\u001B[39;00m\u001B[38;5;250m \u001B[39m\u001B[34;01mnp\u001B[39;00m\n\u001B[32m      3\u001B[39m \u001B[38;5;28;01mimport\u001B[39;00m\u001B[38;5;250m \u001B[39m\u001B[34;01mpandas\u001B[39;00m\u001B[38;5;250m \u001B[39m\u001B[38;5;28;01mas\u001B[39;00m\u001B[38;5;250m \u001B[39m\u001B[34;01mpd\u001B[39;00m\n\u001B[32m----> \u001B[39m\u001B[32m4\u001B[39m \u001B[38;5;28;01mimport\u001B[39;00m\u001B[38;5;250m \u001B[39m\u001B[34;01mseaborn\u001B[39;00m\u001B[38;5;250m \u001B[39m\u001B[38;5;28;01mas\u001B[39;00m\u001B[38;5;250m \u001B[39m\u001B[34;01msns\u001B[39;00m\n\u001B[32m      5\u001B[39m \u001B[38;5;28;01mfrom\u001B[39;00m\u001B[38;5;250m \u001B[39m\u001B[34;01mrdkit\u001B[39;00m\u001B[38;5;250m \u001B[39m\u001B[38;5;28;01mimport\u001B[39;00m DataStructs\n\u001B[32m      6\u001B[39m \u001B[38;5;28;01mfrom\u001B[39;00m\u001B[38;5;250m \u001B[39m\u001B[34;01msklearn\u001B[39;00m\u001B[34;01m.\u001B[39;00m\u001B[34;01mmodel_selection\u001B[39;00m\u001B[38;5;250m \u001B[39m\u001B[38;5;28;01mimport\u001B[39;00m train_test_split\n",
      "\u001B[31mModuleNotFoundError\u001B[39m: No module named 'seaborn'"
     ]
    }
   ],
   "execution_count": 1
  },
  {
   "cell_type": "markdown",
   "id": "17a66d14-8a18-4363-9016-199feeefbff6",
   "metadata": {},
   "source": [
    "For this notebook we use 20k molecules from ChEMBL35 as a dataset."
   ]
  },
  {
   "cell_type": "code",
   "id": "dd318e60-226e-4fcc-a245-cbada6ac36bb",
   "metadata": {},
   "source": [
    "df = pd.read_csv(\"example_data/chembl_35_20k.smi.gz\", index_col=\"index\")"
   ],
   "outputs": [],
   "execution_count": null
  },
  {
   "cell_type": "code",
   "id": "d1013e21-f57f-4917-a764-ebf24c586b51",
   "metadata": {},
   "source": [
    "df"
   ],
   "outputs": [],
   "execution_count": null
  },
  {
   "cell_type": "markdown",
   "id": "824a47b9-2ecc-4505-bf73-df06a70795e0",
   "metadata": {},
   "source": [
    "## How to compute dataset similarities? "
   ]
  },
  {
   "cell_type": "markdown",
   "id": "8125630a-a8d0-4247-8929-bde009b6f550",
   "metadata": {},
   "source": [
    "To start the comparison we need the fingerprints as sparse matrices."
   ]
  },
  {
   "cell_type": "code",
   "id": "491e9e8b-9210-4d03-8b9b-42d8831389d8",
   "metadata": {},
   "source": [
    "%%time\n",
    "error_filter = ErrorFilter()\n",
    "\n",
    "fingerprint_pipeline = Pipeline(\n",
    "    [\n",
    "        (\"auto2mol\", AutoToMol()),\n",
    "        (\"error_filter\", error_filter),\n",
    "        (\"morgan2_2048\", MolToMorganFP(n_bits=2048, radius=2, return_as=\"sparse\")),\n",
    "    ],\n",
    "    n_jobs=-1,\n",
    ")\n",
    "\n",
    "fp_matrix = fingerprint_pipeline.transform(df[\"smiles\"])\n",
    "fp_matrix"
   ],
   "outputs": [],
   "execution_count": null
  },
  {
   "cell_type": "markdown",
   "id": "ae7865fe-67d7-441f-bd3d-1c1d7f6a4e84",
   "metadata": {},
   "source": [
    "The resulting fingerprint matrix has the shape (19999, 2048) showing that 1 molecule could not be processed."
   ]
  },
  {
   "cell_type": "markdown",
   "id": "6425965c-9263-41ca-87e2-729693bf4a2e",
   "metadata": {},
   "source": [
    "To make a data set comparison we need to define the target and the query data set. The `NearestNeighborsRetrieverTanimoto` will retrieve the k most similar molecules in the target data sets for every query fingerprint. In this example we use the same matrix as target and query data set and compute their 3-nearest neighbors using `k=3`.  "
   ]
  },
  {
   "cell_type": "code",
   "id": "18455107-0f22-479e-9359-8a81ce66934f",
   "metadata": {},
   "source": [
    "%%time\n",
    "target_fps = fp_matrix\n",
    "query_fps = target_fps\n",
    "\n",
    "retriever = NearestNeighborsRetrieverTanimoto(target_fps, k=3, n_jobs=-1)\n",
    "indices, similarities = retriever.predict(query_fps)"
   ],
   "outputs": [],
   "execution_count": null
  },
  {
   "cell_type": "markdown",
   "id": "ef7b6df2-8741-44e1-aaba-94f4534db708",
   "metadata": {},
   "source": [
    "The output of the retriever are a list of `indices` corresponding to the hits in the target dataset and a list of the hits' Tanimoto similarities"
   ]
  },
  {
   "cell_type": "code",
   "id": "f87925c5-ec5c-4a7b-8ca3-9c550cd6cd2a",
   "metadata": {},
   "source": [
    "indices"
   ],
   "outputs": [],
   "execution_count": null
  },
  {
   "cell_type": "code",
   "id": "a87fcc03-8941-4198-bc11-655b2c540ee0",
   "metadata": {},
   "source": [
    "indices.shape"
   ],
   "outputs": [],
   "execution_count": null
  },
  {
   "cell_type": "markdown",
   "id": "5fe38ce9-f778-4c68-83ee-a48e8535490b",
   "metadata": {},
   "source": [
    "The `indices` array contains one row for each query fingerprint and three columns for the 3-nearest neighbors. The hits of each query are sorted from left to right in descending order. The `similarities` array has the same shape as `indices` but contains the Tanimoto scores. "
   ]
  },
  {
   "cell_type": "code",
   "id": "b3977853-ccc3-4647-b9c5-90acb7c5fd95",
   "metadata": {},
   "source": [
    "similarities"
   ],
   "outputs": [],
   "execution_count": null
  },
  {
   "cell_type": "markdown",
   "id": "3cd1973b-4563-4dd9-8a66-1f93ef0ba4c0",
   "metadata": {},
   "source": [
    "Since we used the same dataset for the query and the target dataset, we always find a molecule with a similarity of 1.0 because the query itself is contained in the target dataset. However, sometimes there are multiple hits with the same Tanimoto score of 1.0."
   ]
  },
  {
   "cell_type": "markdown",
   "id": "d8f41e49-a307-476a-a168-4a01e3276581",
   "metadata": {},
   "source": [
    "## How to analyze similarities between train and test set?\n",
    "\n",
    "The nearest neighbors can be used for analyzing the similarity between training and test set which can be an essential tool to better understand the generalization capabilities of machine learning models. In addition, this information can be used to select an appropriate data splitting strategy."
   ]
  },
  {
   "cell_type": "markdown",
   "id": "2cd5fc30-f176-4a1e-8235-3d77bfc0ed69",
   "metadata": {},
   "source": [
    "First we make a train/test split with our ChEMBL data and a dummy y vector because we don't use the labels in this example. "
   ]
  },
  {
   "cell_type": "code",
   "id": "48c61bce-af90-48b9-9222-b0d984be6fa5",
   "metadata": {},
   "source": [
    "# let's use dummy values for y\n",
    "y = np.zeros(fp_matrix.shape[0], dtype=np.int64)\n",
    "\n",
    "X_train, X_test, y_train, y_test = train_test_split(\n",
    "    fp_matrix, y, test_size=0.33, random_state=42,\n",
    ")"
   ],
   "outputs": [],
   "execution_count": null
  },
  {
   "cell_type": "code",
   "id": "a6706966-fce9-4aca-b175-ce65827fdbb9",
   "metadata": {},
   "source": [
    "X_train"
   ],
   "outputs": [],
   "execution_count": null
  },
  {
   "cell_type": "markdown",
   "id": "e18d7248-18c5-46bd-bfcf-d15856a0871b",
   "metadata": {},
   "source": [
    "We use the `NearestNeighborsRetrieverTanimoto` to get the 1-nearest neighbors of the test compounds in the training set"
   ]
  },
  {
   "cell_type": "code",
   "id": "3d3a9ab0-891a-4990-a5f6-2ce616fd2bc6",
   "metadata": {},
   "source": [
    "retriever = NearestNeighborsRetrieverTanimoto(X_train, k=1, n_jobs=-1)\n",
    "indices, similarities = retriever.predict(X_test)\n",
    "similarities"
   ],
   "outputs": [],
   "execution_count": null
  },
  {
   "cell_type": "markdown",
   "id": "4f123918-6595-4d95-8396-fb3a8eac3185",
   "metadata": {},
   "source": [
    "Let's look at the mean similarities of the most similar compounds in the training set"
   ]
  },
  {
   "cell_type": "code",
   "id": "11b2789c-9940-4958-889c-ecf107d26516",
   "metadata": {},
   "source": [
    "np.mean(similarities)"
   ],
   "outputs": [],
   "execution_count": null
  },
  {
   "cell_type": "markdown",
   "id": "ab4e809c-ff50-4871-b4b0-1d290f71c9f7",
   "metadata": {},
   "source": [
    "We can also plot the distribution of similarities to get a better impression how similar the train and test set are to each other."
   ]
  },
  {
   "cell_type": "code",
   "id": "401ee1a7-04c7-4ac6-be9f-0eada88a1021",
   "metadata": {},
   "source": [
    "sns.histplot(pd.DataFrame({\"1nn_similarities\": similarities}), bins=50)\n",
    "plt.title(\"1-nearest neighbor Tanimoto similarities to training data\")"
   ],
   "outputs": [],
   "execution_count": null
  },
  {
   "cell_type": "markdown",
   "id": "ba609b94-1a37-4691-98cb-48533a9fa5c5",
   "metadata": {},
   "source": [
    "As the histogram shows, the similarity between the test and training set is relatively high with most compounds having a similarity >0.6 and even ~250 molecules with a Tanimoto score of 1. However, this is just a hypothetical example. If a real-world dataset would have such high similarities we would probably use cluster or time splits to reduce the similarity and data leakage. "
   ]
  },
  {
   "cell_type": "markdown",
   "id": "4439964e-d9e7-4e5c-af77-10e16db7d842",
   "metadata": {},
   "source": [
    "## Comparison to native RDKit Tanimoto computation"
   ]
  },
  {
   "cell_type": "markdown",
   "id": "61516a5d-a871-4b30-a5eb-3fe57282a9d1",
   "metadata": {},
   "source": [
    "`NearestNeighborsRetrieverTanimoto` performs an exhaustive comparison to find the k-nearest neighbors. To do this, the full similarity matrix must be computed. MolPipeline's algorithm for finding these Tanimoto similarity scores differs from the approach in RDKit. In MolPipeline, we use an implementation based on sparse matrices that exploits the sparse matrix dot product algorithm from scipy. The central function is `tanimoto_similarity_sparse` which computes the full similarity matrix."
   ]
  },
  {
   "cell_type": "code",
   "id": "d54ef845-9b6b-474e-85a8-4368b69387cf",
   "metadata": {},
   "source": [
    "%%time\n",
    "sim_matrix = tanimoto_similarity_sparse(fp_matrix, fp_matrix)\n",
    "sim_matrix.shape"
   ],
   "outputs": [],
   "execution_count": null
  },
  {
   "cell_type": "code",
   "id": "ab1a9fdf-ad68-4c53-9d66-5b26c1c4694b",
   "metadata": {},
   "source": [
    "sim_matrix"
   ],
   "outputs": [],
   "execution_count": null
  },
  {
   "cell_type": "markdown",
   "id": "7f588705-1d0e-48d8-b5df-8f987298425a",
   "metadata": {},
   "source": [
    "To get the full similarity matrix with RDKit using `BulkTanimotoSimilarity`, we have to have the fingerprints as a different datastructure, for example as `ExplicitBitVect`.  "
   ]
  },
  {
   "cell_type": "code",
   "id": "c53e1b2f-3001-49ba-bc82-152098facd0d",
   "metadata": {},
   "source": [
    "%%time\n",
    "error_filter = ErrorFilter()\n",
    "\n",
    "fingerprint_pipeline2 = Pipeline(\n",
    "    [\n",
    "        (\"auto2mol\", AutoToMol()),\n",
    "        (\"error_filter\", error_filter),\n",
    "        (\n",
    "            \"morgan2_2048\",\n",
    "            MolToMorganFP(n_bits=2048, radius=2, return_as=\"explicit_bit_vect\"),\n",
    "        ),\n",
    "    ],\n",
    "    n_jobs=-1,\n",
    ")\n",
    "\n",
    "fp_matrix_explicit = fingerprint_pipeline2.transform(df[\"smiles\"])\n",
    "fp_matrix_explicit[:4]"
   ],
   "outputs": [],
   "execution_count": null
  },
  {
   "cell_type": "markdown",
   "id": "83e28e13-b375-48d1-8160-2a9b08edba73",
   "metadata": {},
   "source": [
    "Now, let's compute the full similarity matrix using RDKit's `BulkTanimotoSimilarity`"
   ]
  },
  {
   "cell_type": "code",
   "id": "797df24b-d431-47d5-860c-7eb7bd933564",
   "metadata": {},
   "source": [
    "%%time\n",
    "sim_mat_rdkit = np.full((len(fp_matrix_explicit), len(fp_matrix_explicit)), np.nan)\n",
    "for i, query_fp in enumerate(fp_matrix_explicit):\n",
    "    sim_mat_rdkit[i, :] = DataStructs.BulkTanimotoSimilarity(\n",
    "        query_fp, fp_matrix_explicit,\n",
    "    )\n",
    "sim_mat_rdkit.shape"
   ],
   "outputs": [],
   "execution_count": null
  },
  {
   "cell_type": "code",
   "id": "92b5b3fa-7365-439a-a490-877156f039a8",
   "metadata": {},
   "source": [
    "if not np.allclose(sim_matrix, sim_mat_rdkit):\n",
    "    raise AssertionError(\"Similarities are not the same\")"
   ],
   "outputs": [],
   "execution_count": null
  },
  {
   "cell_type": "markdown",
   "id": "442e7536-2e67-4f80-938c-12b958ac2d89",
   "metadata": {},
   "source": [
    "Based on this simple comparison MolPipeline's similarity matrix computation is about ~2-3 times faster than RDKit's. However, of course there are many other things to consider that are not touched in this notebook. For example, `tanimoto_similarity_sparse` uses more memory since it needs intermediate matrices while `BulkTanimotoSimilarity` uses almost no memory. In addition, for both approaches different strategies for parallelization come to mind (one is implemented in `NearestNeighborsRetrieverTanimoto`), which can be beneficial in different scenarios. Lastly, while the here discussed functions are useful for easy analysis in Python, there are highly optimized tools for similarity search, like [Artor](https://www.nextmovesoftware.com/arthor.html) which should probably be used when search speed is essential. "
   ]
  }
 ],
 "metadata": {
  "kernelspec": {
   "display_name": "Python 3 (ipykernel)",
   "language": "python",
   "name": "python3"
  },
  "language_info": {
   "codemirror_mode": {
    "name": "ipython",
    "version": 3
   },
   "file_extension": ".py",
   "mimetype": "text/x-python",
   "name": "python",
   "nbconvert_exporter": "python",
   "pygments_lexer": "ipython3",
   "version": "3.12.8"
  }
 },
 "nbformat": 4,
 "nbformat_minor": 5
}
