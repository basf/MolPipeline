{
 "cells": [
  {
   "cell_type": "markdown",
   "id": "e6afe352-c6de-4469-9508-a24cbd914d57",
   "metadata": {},
   "source": [
    "# Analyzing similarity of molecular dataset\n",
    "\n",
    "This notebook illustrates how the `NearestNeighborsRetrieverTanimoto` can be used for analyzing the Tanimoto similarities of two datasets. \n",
    "\n",
    "Such analysis can be useful for many applications. For example, for analyzing how similar new molecules are to the training set to assess the applicability domain when making predictions. Alternatively the similarity of training and test set can be evaluated to understand how well the model generalizes. \n",
    "\n",
    "The notebook has the following sections:\n",
    "\n",
    "**How to compute dataset similarities?**\n",
    "\n",
    "**How to analyze similarities between train and test set?**\n",
    "\n",
    "**Comparison to native RDKit Tanimoto computation**"
   ]
  },
  {
   "cell_type": "code",
   "execution_count": 1,
   "id": "4b74dcad-0865-41a5-b380-fe6fdea89506",
   "metadata": {},
   "outputs": [],
   "source": [
    "import pandas as pd\n",
    "import numpy as np\n",
    "\n",
    "import matplotlib.pyplot as plt\n",
    "from rdkit import DataStructs\n",
    "from sklearn.model_selection import train_test_split\n",
    "import seaborn as sns\n",
    "\n",
    "from molpipeline import Pipeline, ErrorFilter\n",
    "from molpipeline.any2mol import AutoToMol\n",
    "from molpipeline.mol2any import MolToMorganFP\n",
    "\n",
    "from molpipeline.utils.kernel import tanimoto_similarity_sparse\n",
    "from molpipeline.estimators.nearest_neighbor import NearestNeighborsRetrieverTanimoto"
   ]
  },
  {
   "cell_type": "markdown",
   "id": "17a66d14-8a18-4363-9016-199feeefbff6",
   "metadata": {},
   "source": [
    "For this notebook we use 20k molecules from ChEMBL35 as a dataset."
   ]
  },
  {
   "cell_type": "code",
   "execution_count": 2,
   "id": "dd318e60-226e-4fcc-a245-cbada6ac36bb",
   "metadata": {},
   "outputs": [],
   "source": [
    "df = pd.read_csv(\"example_data/chembl_35_20k.smi.gz\", index_col=\"index\")"
   ]
  },
  {
   "cell_type": "code",
   "execution_count": 3,
   "id": "d1013e21-f57f-4917-a764-ebf24c586b51",
   "metadata": {},
   "outputs": [
    {
     "data": {
      "text/html": [
       "<div>\n",
       "<style scoped>\n",
       "    .dataframe tbody tr th:only-of-type {\n",
       "        vertical-align: middle;\n",
       "    }\n",
       "\n",
       "    .dataframe tbody tr th {\n",
       "        vertical-align: top;\n",
       "    }\n",
       "\n",
       "    .dataframe thead th {\n",
       "        text-align: right;\n",
       "    }\n",
       "</style>\n",
       "<table border=\"1\" class=\"dataframe\">\n",
       "  <thead>\n",
       "    <tr style=\"text-align: right;\">\n",
       "      <th></th>\n",
       "      <th>smiles</th>\n",
       "      <th>chembl_id</th>\n",
       "    </tr>\n",
       "    <tr>\n",
       "      <th>index</th>\n",
       "      <th></th>\n",
       "      <th></th>\n",
       "    </tr>\n",
       "  </thead>\n",
       "  <tbody>\n",
       "    <tr>\n",
       "      <th>0</th>\n",
       "      <td>Cc1cc(-c2csc(N=C(N)N)n2)cn1C</td>\n",
       "      <td>CHEMBL153534</td>\n",
       "    </tr>\n",
       "    <tr>\n",
       "      <th>1</th>\n",
       "      <td>CC[C@H](C)[C@H](NC(=O)[C@H](CC(C)C)NC(=O)[C@@H...</td>\n",
       "      <td>CHEMBL440060</td>\n",
       "    </tr>\n",
       "    <tr>\n",
       "      <th>2</th>\n",
       "      <td>CCCC[C@@H]1NC(=O)[C@@H](NC(=O)[C@H](CC(C)C)NC(...</td>\n",
       "      <td>CHEMBL440245</td>\n",
       "    </tr>\n",
       "    <tr>\n",
       "      <th>3</th>\n",
       "      <td>CC(C)C[C@@H]1NC(=O)CNC(=O)[C@H](c2ccc(O)cc2)NC...</td>\n",
       "      <td>CHEMBL440249</td>\n",
       "    </tr>\n",
       "    <tr>\n",
       "      <th>4</th>\n",
       "      <td>Brc1cccc(Nc2ncnc3ccncc23)c1NCCN1CCOCC1</td>\n",
       "      <td>CHEMBL405398</td>\n",
       "    </tr>\n",
       "    <tr>\n",
       "      <th>...</th>\n",
       "      <td>...</td>\n",
       "      <td>...</td>\n",
       "    </tr>\n",
       "    <tr>\n",
       "      <th>19995</th>\n",
       "      <td>NS(=O)(=O)c1ccc(NC(=O)c2ccccc2)cc1</td>\n",
       "      <td>CHEMBL23559</td>\n",
       "    </tr>\n",
       "    <tr>\n",
       "      <th>19996</th>\n",
       "      <td>Cn1cncc1C(O)(C#Cc1ccc(C#N)cc1-c1cc(Cl)cc(Cl)c1...</td>\n",
       "      <td>CHEMBL23578</td>\n",
       "    </tr>\n",
       "    <tr>\n",
       "      <th>19997</th>\n",
       "      <td>CC(C)(C)C(=O)Nc1nnc(S(N)(=O)=O)s1</td>\n",
       "      <td>CHEMBL23579</td>\n",
       "    </tr>\n",
       "    <tr>\n",
       "      <th>19998</th>\n",
       "      <td>COC(=O)NCC(=O)N[C@@H](CC(C)C)C(=O)NC(Cc1ccccc1...</td>\n",
       "      <td>CHEMBL23580</td>\n",
       "    </tr>\n",
       "    <tr>\n",
       "      <th>19999</th>\n",
       "      <td>CC(C)c1nc2sc3c(c2c(-c2ccc(F)cc2)c1/C=C/[C@@H](...</td>\n",
       "      <td>CHEMBL23581</td>\n",
       "    </tr>\n",
       "  </tbody>\n",
       "</table>\n",
       "<p>20000 rows × 2 columns</p>\n",
       "</div>"
      ],
      "text/plain": [
       "                                                  smiles     chembl_id\n",
       "index                                                                 \n",
       "0                           Cc1cc(-c2csc(N=C(N)N)n2)cn1C  CHEMBL153534\n",
       "1      CC[C@H](C)[C@H](NC(=O)[C@H](CC(C)C)NC(=O)[C@@H...  CHEMBL440060\n",
       "2      CCCC[C@@H]1NC(=O)[C@@H](NC(=O)[C@H](CC(C)C)NC(...  CHEMBL440245\n",
       "3      CC(C)C[C@@H]1NC(=O)CNC(=O)[C@H](c2ccc(O)cc2)NC...  CHEMBL440249\n",
       "4                 Brc1cccc(Nc2ncnc3ccncc23)c1NCCN1CCOCC1  CHEMBL405398\n",
       "...                                                  ...           ...\n",
       "19995                 NS(=O)(=O)c1ccc(NC(=O)c2ccccc2)cc1   CHEMBL23559\n",
       "19996  Cn1cncc1C(O)(C#Cc1ccc(C#N)cc1-c1cc(Cl)cc(Cl)c1...   CHEMBL23578\n",
       "19997                  CC(C)(C)C(=O)Nc1nnc(S(N)(=O)=O)s1   CHEMBL23579\n",
       "19998  COC(=O)NCC(=O)N[C@@H](CC(C)C)C(=O)NC(Cc1ccccc1...   CHEMBL23580\n",
       "19999  CC(C)c1nc2sc3c(c2c(-c2ccc(F)cc2)c1/C=C/[C@@H](...   CHEMBL23581\n",
       "\n",
       "[20000 rows x 2 columns]"
      ]
     },
     "execution_count": 3,
     "metadata": {},
     "output_type": "execute_result"
    }
   ],
   "source": [
    "df"
   ]
  },
  {
   "cell_type": "markdown",
   "id": "824a47b9-2ecc-4505-bf73-df06a70795e0",
   "metadata": {},
   "source": [
    "## How to compute dataset similarities? "
   ]
  },
  {
   "cell_type": "markdown",
   "id": "8125630a-a8d0-4247-8929-bde009b6f550",
   "metadata": {},
   "source": [
    "To start the comparison we need the fingerprints as sparse matrices."
   ]
  },
  {
   "cell_type": "code",
   "execution_count": 4,
   "id": "491e9e8b-9210-4d03-8b9b-42d8831389d8",
   "metadata": {},
   "outputs": [
    {
     "name": "stdout",
     "output_type": "stream",
     "text": [
      "CPU times: user 1.82 s, sys: 657 ms, total: 2.47 s\n",
      "Wall time: 16.9 s\n"
     ]
    },
    {
     "data": {
      "text/plain": [
       "<Compressed Sparse Row sparse matrix of dtype 'int64'\n",
       "\twith 979308 stored elements and shape (19999, 2048)>"
      ]
     },
     "execution_count": 4,
     "metadata": {},
     "output_type": "execute_result"
    }
   ],
   "source": [
    "%%time\n",
    "error_filter = ErrorFilter()\n",
    "\n",
    "fingerprint_pipeline = Pipeline(\n",
    "    [\n",
    "        (\"auto2mol\", AutoToMol()),\n",
    "        (\"error_filter\", error_filter),\n",
    "        (\"morgan2_2048\", MolToMorganFP(n_bits=2048, radius=2, return_as=\"sparse\")),\n",
    "    ],\n",
    "    n_jobs=-1,\n",
    ")\n",
    "\n",
    "fp_matrix = fingerprint_pipeline.transform(df[\"smiles\"])\n",
    "fp_matrix"
   ]
  },
  {
   "cell_type": "markdown",
   "id": "ae7865fe-67d7-441f-bd3d-1c1d7f6a4e84",
   "metadata": {},
   "source": [
    "The resulting fingerprint matrix has the shape (19999, 2048) showing that 1 molecule could not be processed."
   ]
  },
  {
   "cell_type": "markdown",
   "id": "6425965c-9263-41ca-87e2-729693bf4a2e",
   "metadata": {},
   "source": [
    "To make a data set comparison we need to define the target and the query data set. The `NearestNeighborsRetrieverTanimoto` will retrieve the k most similar molecules in the target data sets for every query fingerprint. In this example we use the same matrix as target and query data set and compute their 3-nearest neighbors using `k=3`.  "
   ]
  },
  {
   "cell_type": "code",
   "execution_count": 5,
   "id": "18455107-0f22-479e-9359-8a81ce66934f",
   "metadata": {},
   "outputs": [
    {
     "name": "stdout",
     "output_type": "stream",
     "text": [
      "CPU times: user 116 ms, sys: 14.2 ms, total: 130 ms\n",
      "Wall time: 6.46 s\n"
     ]
    }
   ],
   "source": [
    "%%time\n",
    "target_fps = fp_matrix\n",
    "query_fps = target_fps\n",
    "\n",
    "retriever = NearestNeighborsRetrieverTanimoto(target_fps, k=3, n_jobs=-1)\n",
    "indices, similarities = retriever.predict(query_fps)"
   ]
  },
  {
   "cell_type": "markdown",
   "id": "ef7b6df2-8741-44e1-aaba-94f4534db708",
   "metadata": {},
   "source": [
    "The output of the retriever are a list of `indices` corresponding to the hits in the target dataset and a list of the hits' Tanimoto similarities"
   ]
  },
  {
   "cell_type": "code",
   "execution_count": 6,
   "id": "f87925c5-ec5c-4a7b-8ca3-9c550cd6cd2a",
   "metadata": {},
   "outputs": [
    {
     "data": {
      "text/plain": [
       "array([[    0, 13038, 13544],\n",
       "       [ 2744,     1,   111],\n",
       "       [    2,  2984,    24],\n",
       "       ...,\n",
       "       [19996,  3854, 10457],\n",
       "       [19997, 11806,  1485],\n",
       "       [19998, 19881, 19690]])"
      ]
     },
     "execution_count": 6,
     "metadata": {},
     "output_type": "execute_result"
    }
   ],
   "source": [
    "indices"
   ]
  },
  {
   "cell_type": "code",
   "execution_count": 7,
   "id": "a87fcc03-8941-4198-bc11-655b2c540ee0",
   "metadata": {},
   "outputs": [
    {
     "data": {
      "text/plain": [
       "(19999, 3)"
      ]
     },
     "execution_count": 7,
     "metadata": {},
     "output_type": "execute_result"
    }
   ],
   "source": [
    "indices.shape"
   ]
  },
  {
   "cell_type": "markdown",
   "id": "5fe38ce9-f778-4c68-83ee-a48e8535490b",
   "metadata": {},
   "source": [
    "The `indices` array contains one row for each query fingerprint and three columns for the 3-nearest neighbors. The hits of each query are sorted from left to right in descending order. The `similarities` array has the same shape as `indices` but contains the Tanimoto scores. "
   ]
  },
  {
   "cell_type": "code",
   "execution_count": 8,
   "id": "b3977853-ccc3-4647-b9c5-90acb7c5fd95",
   "metadata": {},
   "outputs": [
    {
     "data": {
      "text/plain": [
       "array([[1.        , 0.60784314, 0.30909091],\n",
       "       [1.        , 1.        , 1.        ],\n",
       "       [1.        , 0.97986577, 0.87179487],\n",
       "       ...,\n",
       "       [1.        , 0.68571429, 0.575     ],\n",
       "       [1.        , 0.41860465, 0.41836735],\n",
       "       [1.        , 0.96969697, 0.63291139]])"
      ]
     },
     "execution_count": 8,
     "metadata": {},
     "output_type": "execute_result"
    }
   ],
   "source": [
    "similarities"
   ]
  },
  {
   "cell_type": "markdown",
   "id": "3cd1973b-4563-4dd9-8a66-1f93ef0ba4c0",
   "metadata": {},
   "source": [
    "Since we used the same dataset for the query and the target dataset, we always find a molecule with a similarity of 1.0 because the query itself is contained in the target dataset. However, sometimes there are multiple hits with the same Tanimoto score of 1.0."
   ]
  },
  {
   "cell_type": "markdown",
   "id": "d8f41e49-a307-476a-a168-4a01e3276581",
   "metadata": {},
   "source": [
    "## How to analyze similarities between train and test set?\n",
    "\n",
    "The nearest neighbors can be used for analyzing the similarity between training and test set which can be an essential tool to better understand the generalization capabilities of machine learning models. In addition, this information can be used to select an appropriate data splitting strategy."
   ]
  },
  {
   "cell_type": "markdown",
   "id": "2cd5fc30-f176-4a1e-8235-3d77bfc0ed69",
   "metadata": {},
   "source": [
    "First we make a train/test split with our ChEMBL data and a dummy y vector because we don't use the labels in this example. "
   ]
  },
  {
   "cell_type": "code",
   "execution_count": 9,
   "id": "48c61bce-af90-48b9-9222-b0d984be6fa5",
   "metadata": {},
   "outputs": [],
   "source": [
    "# let's use dummy values for y\n",
    "y = np.zeros(fp_matrix.shape[0], dtype=np.int64)\n",
    "\n",
    "X_train, X_test, y_train, y_test = train_test_split(\n",
    "    fp_matrix, y, test_size=0.33, random_state=42\n",
    ")"
   ]
  },
  {
   "cell_type": "code",
   "execution_count": 10,
   "id": "a6706966-fce9-4aca-b175-ce65827fdbb9",
   "metadata": {},
   "outputs": [
    {
     "data": {
      "text/plain": [
       "<Compressed Sparse Row sparse matrix of dtype 'int64'\n",
       "\twith 655926 stored elements and shape (13399, 2048)>"
      ]
     },
     "execution_count": 10,
     "metadata": {},
     "output_type": "execute_result"
    }
   ],
   "source": [
    "X_train"
   ]
  },
  {
   "cell_type": "markdown",
   "id": "e18d7248-18c5-46bd-bfcf-d15856a0871b",
   "metadata": {},
   "source": [
    "We use the `NearestNeighborsRetrieverTanimoto` to get the 1-nearest neighbors of the test compounds in the training set"
   ]
  },
  {
   "cell_type": "code",
   "execution_count": 11,
   "id": "3d3a9ab0-891a-4990-a5f6-2ce616fd2bc6",
   "metadata": {},
   "outputs": [
    {
     "data": {
      "text/plain": [
       "array([0.7826087 , 0.74736842, 0.85074627, ..., 0.7752809 , 0.60869565,\n",
       "       0.81538462])"
      ]
     },
     "execution_count": 11,
     "metadata": {},
     "output_type": "execute_result"
    }
   ],
   "source": [
    "retriever = NearestNeighborsRetrieverTanimoto(X_train, k=1, n_jobs=-1)\n",
    "indices, similarities = retriever.predict(X_test)\n",
    "similarities"
   ]
  },
  {
   "cell_type": "markdown",
   "id": "4f123918-6595-4d95-8396-fb3a8eac3185",
   "metadata": {},
   "source": [
    "Let's look at the mean similarities of the most similar compounds in the training set"
   ]
  },
  {
   "cell_type": "code",
   "execution_count": 12,
   "id": "11b2789c-9940-4958-889c-ecf107d26516",
   "metadata": {},
   "outputs": [
    {
     "data": {
      "text/plain": [
       "0.6575015090173907"
      ]
     },
     "execution_count": 12,
     "metadata": {},
     "output_type": "execute_result"
    }
   ],
   "source": [
    "np.mean(similarities)"
   ]
  },
  {
   "cell_type": "markdown",
   "id": "ab4e809c-ff50-4871-b4b0-1d290f71c9f7",
   "metadata": {},
   "source": [
    "We can also plot the distribution of similarities to get a better impression how similar the train and test set are to each other."
   ]
  },
  {
   "cell_type": "code",
   "execution_count": 13,
   "id": "401ee1a7-04c7-4ac6-be9f-0eada88a1021",
   "metadata": {},
   "outputs": [
    {
     "data": {
      "text/plain": [
       "Text(0.5, 1.0, '1-nearest neighbor Tanimoto similarities to training data')"
      ]
     },
     "execution_count": 13,
     "metadata": {},
     "output_type": "execute_result"
    },
    {
     "data": {
      "image/png": "[encoded data removed]",
      "text/plain": [
       "<Figure size 640x480 with 1 Axes>"
      ]
     },
     "metadata": {},
     "output_type": "display_data"
    }
   ],
   "source": [
    "sns.histplot(pd.DataFrame({\"1nn_similarities\": similarities}), bins=50)\n",
    "plt.title(f\"1-nearest neighbor Tanimoto similarities to training data\")"
   ]
  },
  {
   "cell_type": "markdown",
   "id": "ba609b94-1a37-4691-98cb-48533a9fa5c5",
   "metadata": {},
   "source": [
    "As the histogram shows, the similarity between the test and training set is relatively high with most compounds having a similarity >0.6 and even ~250 molecules with a Tanimoto score of 1. However, this is just a hypothetical example. If a real-world dataset would have such high similarities we would probably use cluster or time splits to reduce the similarity and data leakage. "
   ]
  },
  {
   "cell_type": "markdown",
   "id": "4439964e-d9e7-4e5c-af77-10e16db7d842",
   "metadata": {},
   "source": [
    "## Comparison to native RDKit Tanimoto computation"
   ]
  },
  {
   "cell_type": "markdown",
   "id": "61516a5d-a871-4b30-a5eb-3fe57282a9d1",
   "metadata": {},
   "source": [
    "`NearestNeighborsRetrieverTanimoto` performs an exhaustive comparison to find the k-nearest neighbors. To do this, the full similarity matrix must be computed. MolPipeline's algorithm for finding these Tanimoto similarity scores differs from the approach in RDKit. In MolPipeline, we use an implementation based on sparse matrices that exploits the sparse matrix dot product algorithm from scipy. The central function is `tanimoto_similarity_sparse` which computes the full similarity matrix."
   ]
  },
  {
   "cell_type": "code",
   "execution_count": 14,
   "id": "d54ef845-9b6b-474e-85a8-4368b69387cf",
   "metadata": {},
   "outputs": [
    {
     "name": "stdout",
     "output_type": "stream",
     "text": [
      "CPU times: user 19.3 s, sys: 9.39 s, total: 28.7 s\n",
      "Wall time: 28.7 s\n"
     ]
    },
    {
     "data": {
      "text/plain": [
       "(19999, 19999)"
      ]
     },
     "execution_count": 14,
     "metadata": {},
     "output_type": "execute_result"
    }
   ],
   "source": [
    "%%time\n",
    "sim_matrix = tanimoto_similarity_sparse(fp_matrix, fp_matrix)\n",
    "sim_matrix.shape"
   ]
  },
  {
   "cell_type": "code",
   "execution_count": 15,
   "id": "ab1a9fdf-ad68-4c53-9d66-5b26c1c4694b",
   "metadata": {},
   "outputs": [
    {
     "data": {
      "text/plain": [
       "array([[1.        , 0.08783784, 0.05747126, ..., 0.09836066, 0.06730769,\n",
       "        0.08602151],\n",
       "       [0.08783784, 1.        , 0.45212766, ..., 0.05405405, 0.19760479,\n",
       "        0.10465116],\n",
       "       [0.05747126, 0.45212766, 1.        , ..., 0.04678363, 0.17368421,\n",
       "        0.09230769],\n",
       "       ...,\n",
       "       [0.09836066, 0.05405405, 0.04678363, ..., 1.        , 0.07070707,\n",
       "        0.10344828],\n",
       "       [0.06730769, 0.19760479, 0.17368421, ..., 0.07070707, 1.        ,\n",
       "        0.12903226],\n",
       "       [0.08602151, 0.10465116, 0.09230769, ..., 0.10344828, 0.12903226,\n",
       "        1.        ]])"
      ]
     },
     "execution_count": 15,
     "metadata": {},
     "output_type": "execute_result"
    }
   ],
   "source": [
    "sim_matrix"
   ]
  },
  {
   "cell_type": "markdown",
   "id": "7f588705-1d0e-48d8-b5df-8f987298425a",
   "metadata": {},
   "source": [
    "To get the full similarity matrix with RDKit using `BulkTanimotoSimilarity`, we have to have the fingerprints as a different datastructure, for example as `ExplicitBitVect`.  "
   ]
  },
  {
   "cell_type": "code",
   "execution_count": 16,
   "id": "c53e1b2f-3001-49ba-bc82-152098facd0d",
   "metadata": {},
   "outputs": [
    {
     "name": "stdout",
     "output_type": "stream",
     "text": [
      "CPU times: user 1.27 s, sys: 143 ms, total: 1.42 s\n",
      "Wall time: 1.73 s\n"
     ]
    },
    {
     "data": {
      "text/plain": [
       "[<rdkit.DataStructs.cDataStructs.ExplicitBitVect at 0x7fbbed22acf0>,\n",
       " <rdkit.DataStructs.cDataStructs.ExplicitBitVect at 0x7fbd2c90a660>,\n",
       " <rdkit.DataStructs.cDataStructs.ExplicitBitVect at 0x7fbd2c90a390>,\n",
       " <rdkit.DataStructs.cDataStructs.ExplicitBitVect at 0x7fbd2c91ade0>]"
      ]
     },
     "execution_count": 16,
     "metadata": {},
     "output_type": "execute_result"
    }
   ],
   "source": [
    "%%time\n",
    "error_filter = ErrorFilter()\n",
    "\n",
    "fingerprint_pipeline2 = Pipeline(\n",
    "    [\n",
    "        (\"auto2mol\", AutoToMol()),\n",
    "        (\"error_filter\", error_filter),\n",
    "        (\n",
    "            \"morgan2_2048\",\n",
    "            MolToMorganFP(n_bits=2048, radius=2, return_as=\"explicit_bit_vect\"),\n",
    "        ),\n",
    "    ],\n",
    "    n_jobs=-1,\n",
    ")\n",
    "\n",
    "fp_matrix_explicit = fingerprint_pipeline2.transform(df[\"smiles\"])\n",
    "fp_matrix_explicit[:4]"
   ]
  },
  {
   "cell_type": "markdown",
   "id": "83e28e13-b375-48d1-8160-2a9b08edba73",
   "metadata": {},
   "source": [
    "Now, let's compute the full similarity matrix using RDKit's `BulkTanimotoSimilarity`"
   ]
  },
  {
   "cell_type": "code",
   "execution_count": 17,
   "id": "797df24b-d431-47d5-860c-7eb7bd933564",
   "metadata": {},
   "outputs": [
    {
     "name": "stdout",
     "output_type": "stream",
     "text": [
      "CPU times: user 1min 9s, sys: 245 ms, total: 1min 10s\n",
      "Wall time: 1min 10s\n"
     ]
    },
    {
     "data": {
      "text/plain": [
       "(19999, 19999)"
      ]
     },
     "execution_count": 17,
     "metadata": {},
     "output_type": "execute_result"
    }
   ],
   "source": [
    "%%time\n",
    "sim_mat_rdkit = np.full((len(fp_matrix_explicit), len(fp_matrix_explicit)), np.nan)\n",
    "for i, query_fp in enumerate(fp_matrix_explicit):\n",
    "    sim_mat_rdkit[i, :] = DataStructs.BulkTanimotoSimilarity(\n",
    "        query_fp, fp_matrix_explicit\n",
    "    )\n",
    "sim_mat_rdkit.shape"
   ]
  },
  {
   "cell_type": "code",
   "execution_count": 18,
   "id": "92b5b3fa-7365-439a-a490-877156f039a8",
   "metadata": {},
   "outputs": [],
   "source": [
    "assert np.allclose(sim_matrix, sim_mat_rdkit)"
   ]
  },
  {
   "cell_type": "markdown",
   "id": "442e7536-2e67-4f80-938c-12b958ac2d89",
   "metadata": {},
   "source": [
    "Based on this simple comparison MolPipeline's similarity matrix computation is about ~2-3 times faster than RDKit's. However, of course there are many other things to consider that are not touched in this notebook. For example, `tanimoto_similarity_sparse` uses more memory since it needs intermediate matrices while `BulkTanimotoSimilarity` uses almost no memory. In addition, for both approaches different strategies for parallelization come to mind (one is implemented in `NearestNeighborsRetrieverTanimoto`), which can be beneficial in different scenarios. Lastly, while the here discussed functions are useful for easy analysis in Python, there are highly optimized tools for similarity search, like [Artor](https://www.nextmovesoftware.com/arthor.html) which should probably be used when search speed is essential. "
   ]
  }
 ],
 "metadata": {
  "kernelspec": {
   "display_name": "Python 3 (ipykernel)",
   "language": "python",
   "name": "python3"
  },
  "language_info": {
   "codemirror_mode": {
    "name": "ipython",
    "version": 3
   },
   "file_extension": ".py",
   "mimetype": "text/x-python",
   "name": "python",
   "nbconvert_exporter": "python",
   "pygments_lexer": "ipython3",
   "version": "3.12.8"
  }
 },
 "nbformat": 4,
 "nbformat_minor": 5
}
