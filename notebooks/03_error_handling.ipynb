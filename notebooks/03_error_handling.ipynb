{
 "cells": [
  {
   "cell_type": "markdown",
   "id": "c8faa675-30bf-4730-a511-66458de428b1",
   "metadata": {},
   "source": [
    "# Error handling in MolPipeline\n",
    "\n",
    "MolPipeline comes with error handling because in real-world molecular data sets the data can be heterogenous and data processing can fail for various reasons. A robust pipeline must handle these cases automatically to avoid manual intervention.\n",
    "\n",
    "A simple example is when an erroneous SMILES can not be parsed or a pysico-chemical descriptor for a given molecule can not be calculated. In general, all kinds of processing steps might fail. This becomes especially limiting for pipelines with many processing steps that are applied on large data sets.\n",
    "\n",
    "In this notebooks we show on a simple examples how the error handling in MolPipline works. This includes:\n",
    "* Filtering not processable molecules\n",
    "* Replacing erroneous molecules with a fill value"
   ]
  },
  {
   "cell_type": "code",
   "execution_count": 1,
   "id": "89005692-d43a-4128-97e2-77d1d1f50830",
   "metadata": {},
   "outputs": [],
   "source": [
    "import numpy as np\n",
    "\n",
    "from molpipeline.pipeline import Pipeline\n",
    "from molpipeline.pipeline_elements.any2mol import AutoToMolPipelineElement\n",
    "\n",
    "from molpipeline.pipeline_elements.error_handling import (\n",
    "    ErrorFilter,\n",
    "    ErrorReplacer,\n",
    ")\n",
    "\n",
    "from molpipeline.pipeline_elements.mol2any import MolToFoldedMorganFingerprint"
   ]
  },
  {
   "cell_type": "markdown",
   "id": "a0ed7856-8939-4e5e-8f27-644cab5580a7",
   "metadata": {},
   "source": [
    " When we try to feed in the following string as SMILES our pipeline will fail\n",
    "```python\n",
    "pipeline.predict([\"NotAValidSMILES\"])\n",
    "```\n",
    "\n",
    "MolPipeline can handle such cases gracefully without the programm to stop and having to manually remove the SMILES from the data set. The instance-based processing in MolPipeline handles these cases as `InvalidInstances`, a custom object, which marks the failing SMILES as invalid. When possible, `InvalidInstances` are just passed through the pipeline without doing computation, like:\n",
    "\n",
    "```python\n",
    "if isinstance(sample, InvalidInstance):\n",
    "    return sample\n",
    "# computation code ...\n",
    "```"
   ]
  },
  {
   "cell_type": "markdown",
   "id": "c18921a9-caa6-4085-8984-99dfd4ed1ee1",
   "metadata": {},
   "source": [
    "#### Handle errors in molecule processing"
   ]
  },
  {
   "cell_type": "code",
   "execution_count": 2,
   "id": "1c684627-2760-4982-aee6-a43b59d9a622",
   "metadata": {},
   "outputs": [
    {
     "name": "stderr",
     "output_type": "stream",
     "text": [
      "[11:39:59] SMILES Parse Error: syntax error while parsing: NotAValidSMILES\n",
      "[11:39:59] SMILES Parse Error: Failed parsing SMILES 'NotAValidSMILES' for input: 'NotAValidSMILES'\n"
     ]
    },
    {
     "data": {
      "text/plain": [
       "[<rdkit.Chem.rdchem.Mol at 0x7f80921e8e40>,\n",
       " <rdkit.Chem.rdchem.Mol at 0x7f80921e9000>,\n",
       " InvalidInstance(auto2mol, Not readable input molecule: NotAValidSMILES)]"
      ]
     },
     "execution_count": 2,
     "metadata": {},
     "output_type": "execute_result"
    }
   ],
   "source": [
    "pipeline = Pipeline([(\"auto2mol\", AutoToMolPipelineElement())])\n",
    "pipeline.fit_transform([\"CCCCC\", \"c1ccccc1\", \"NotAValidSMILES\"])"
   ]
  },
  {
   "cell_type": "markdown",
   "id": "4500056b-b6d6-4866-9086-00535cf1c109",
   "metadata": {},
   "source": [
    "With the `ErrorFilter` we can remove `InvalidInstances` from the output"
   ]
  },
  {
   "cell_type": "code",
   "execution_count": 3,
   "id": "d9d494a7-73bb-4357-bfc7-8bcb6737eeeb",
   "metadata": {},
   "outputs": [
    {
     "name": "stderr",
     "output_type": "stream",
     "text": [
      "[11:39:59] SMILES Parse Error: syntax error while parsing: NotAValidSMILES\n",
      "[11:39:59] SMILES Parse Error: Failed parsing SMILES 'NotAValidSMILES' for input: 'NotAValidSMILES'\n"
     ]
    },
    {
     "data": {
      "text/plain": [
       "[<rdkit.Chem.rdchem.Mol at 0x7f80921eb920>,\n",
       " <rdkit.Chem.rdchem.Mol at 0x7f80921e9070>]"
      ]
     },
     "execution_count": 3,
     "metadata": {},
     "output_type": "execute_result"
    }
   ],
   "source": [
    "pipeline = Pipeline(\n",
    "    [(\"auto2mol\", AutoToMolPipelineElement()), (\"error_filter\", ErrorFilter())]\n",
    ")\n",
    "pipeline.fit_transform([\"CCCCC\", \"c1ccccc1\", \"NotAValidSMILES\"])"
   ]
  },
  {
   "cell_type": "markdown",
   "id": "66e4cf2b-2cfb-4576-9da6-b721aa84caab",
   "metadata": {},
   "source": [
    "Alternatively, by using the `ErrorFilter` and `ErrorReplacer` the `InvalidInstances` can be replaced with a fill value."
   ]
  },
  {
   "cell_type": "code",
   "execution_count": 4,
   "id": "70b1d203-a80e-4b9d-b634-bcaaffda3b1b",
   "metadata": {},
   "outputs": [
    {
     "name": "stderr",
     "output_type": "stream",
     "text": [
      "[11:39:59] SMILES Parse Error: syntax error while parsing: NotAValidSMILES\n",
      "[11:39:59] SMILES Parse Error: Failed parsing SMILES 'NotAValidSMILES' for input: 'NotAValidSMILES'\n"
     ]
    },
    {
     "data": {
      "text/plain": [
       "[<rdkit.Chem.rdchem.Mol at 0x7f80921ebbc0>,\n",
       " <rdkit.Chem.rdchem.Mol at 0x7f80921ebc30>,\n",
       " nan]"
      ]
     },
     "execution_count": 4,
     "metadata": {},
     "output_type": "execute_result"
    }
   ],
   "source": [
    "# The ErrorFilter tracks all InvalidInstances of the registered pipeline elements.\n",
    "error_filter = ErrorFilter()\n",
    "\n",
    "# The ErrorReplacer takes out invalid instances and replaces them with a user specified value\n",
    "error_replacer = ErrorReplacer.from_error_filter(error_filter, np.nan)\n",
    "\n",
    "pipeline = Pipeline(\n",
    "    [\n",
    "        (\"auto2mol\", AutoToMolPipelineElement()),\n",
    "        (\"error_filter\", error_filter),  # removes InvalidInstances\n",
    "        (\n",
    "            \"error_replacer\",\n",
    "            error_replacer,\n",
    "        ),  # fills an replacement value at the respective positions\n",
    "    ]\n",
    ")\n",
    "pipeline.fit_transform([\"CCCCC\", \"c1ccccc1\", \"NotAValidSMILES\"])"
   ]
  },
  {
   "cell_type": "markdown",
   "id": "edf6cde7-b205-4a59-9757-29a57d440cb6",
   "metadata": {},
   "source": [
    "#### Handle errors in matrices and other assembled outputs"
   ]
  },
  {
   "cell_type": "markdown",
   "id": "eba2151d-05aa-4945-8bdd-97f4a1002a62",
   "metadata": {},
   "source": [
    "While InvalidInstances can be just passed through the pipeline sometimes, certain situations require them to be filtered out. For example, when the morgan fingerprints of individual molecules need to be assembled in a numpy feature matrix. In these cases we want to remove the InvalidInstances and create the feature matrix without the failed cases."
   ]
  },
  {
   "cell_type": "code",
   "execution_count": 5,
   "id": "8980431c-49f9-44d9-844e-985867b75638",
   "metadata": {},
   "outputs": [
    {
     "name": "stderr",
     "output_type": "stream",
     "text": [
      "[11:39:59] SMILES Parse Error: syntax error while parsing: NotAValidSMILES\n",
      "[11:39:59] SMILES Parse Error: Failed parsing SMILES 'NotAValidSMILES' for input: 'NotAValidSMILES'\n"
     ]
    },
    {
     "data": {
      "text/plain": [
       "array([[0, 0, 0, ..., 0, 0, 0],\n",
       "       [0, 0, 0, ..., 0, 0, 0]], dtype=uint8)"
      ]
     },
     "execution_count": 5,
     "metadata": {},
     "output_type": "execute_result"
    }
   ],
   "source": [
    "pipeline = Pipeline(\n",
    "    [\n",
    "        (\"auto2mol\", AutoToMolPipelineElement()),\n",
    "        (\n",
    "            \"error_filter\",\n",
    "            ErrorFilter(),\n",
    "        ),  # at this step all invalid instances are filtered out\n",
    "        (\n",
    "            \"morgan\",\n",
    "            MolToFoldedMorganFingerprint(\n",
    "                n_bits=2048, radius=2, output_datatype=\"dense\"\n",
    "            ),\n",
    "        ),\n",
    "    ]\n",
    ")\n",
    "\n",
    "# The resulting feature matrix contains only fingerprints for the two valid SMILES\n",
    "pipeline.fit_transform([\"CCCCC\", \"c1ccccc1\", \"NotAValidSMILES\"])"
   ]
  },
  {
   "cell_type": "markdown",
   "id": "4f4ff53a-f3cd-437f-9f89-22365f1f5144",
   "metadata": {},
   "source": [
    "Instead of filtering out the molecules completely from the feature matrix, when can also fill the rows of failed molecules with nan. This retains the shape of the matrix and enables the mapping between feature matrix rows and the SMILES input list. "
   ]
  },
  {
   "cell_type": "code",
   "execution_count": 6,
   "id": "76fef58e-b1b7-4dfe-99ce-f035ca5fe389",
   "metadata": {},
   "outputs": [
    {
     "name": "stderr",
     "output_type": "stream",
     "text": [
      "[11:39:59] SMILES Parse Error: syntax error while parsing: NotAValidSMILES\n",
      "[11:39:59] SMILES Parse Error: Failed parsing SMILES 'NotAValidSMILES' for input: 'NotAValidSMILES'\n"
     ]
    },
    {
     "data": {
      "text/plain": [
       "array([[ 0.,  0.,  0., ...,  0.,  0.,  0.],\n",
       "       [ 0.,  0.,  0., ...,  0.,  0.,  0.],\n",
       "       [nan, nan, nan, ..., nan, nan, nan]])"
      ]
     },
     "execution_count": 6,
     "metadata": {},
     "output_type": "execute_result"
    }
   ],
   "source": [
    "error_filter = ErrorFilter()\n",
    "\n",
    "# The ErrorReplacer takes out invalid instances and replaces them with a user specified value\n",
    "error_replacer = ErrorReplacer.from_error_filter(error_filter, np.nan)\n",
    "\n",
    "pipeline = Pipeline(\n",
    "    [\n",
    "        (\"auto2mol\", AutoToMolPipelineElement()),\n",
    "        (\"error_filter\", error_filter),\n",
    "        (\n",
    "            \"morgan2\",\n",
    "            MolToFoldedMorganFingerprint(\n",
    "                n_bits=2048, radius=2, output_datatype=\"dense\"\n",
    "            ),\n",
    "        ),\n",
    "        (\n",
    "            \"error_replacer\",\n",
    "            error_replacer,\n",
    "        ),  # here the filtered out elements are replaced with the fill value\n",
    "    ]\n",
    ")\n",
    "\n",
    "# The resulting feature matrix contains only fingerprints for the two valid SMILES\n",
    "pipeline.fit_transform([\"CCCCC\", \"c1ccccc1\", \"NotAValidSMILES\"])"
   ]
  }
 ],
 "metadata": {
  "kernelspec": {
   "display_name": "Python 3 (ipykernel)",
   "language": "python",
   "name": "python3"
  },
  "language_info": {
   "codemirror_mode": {
    "name": "ipython",
    "version": 3
   },
   "file_extension": ".py",
   "mimetype": "text/x-python",
   "name": "python",
   "nbconvert_exporter": "python",
   "pygments_lexer": "ipython3",
   "version": "3.11.7"
  }
 },
 "nbformat": 4,
 "nbformat_minor": 5
}
