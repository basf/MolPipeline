{
 "cells": [
  {
   "cell_type": "markdown",
   "id": "0e42cb1a-5514-41a1-a44d-d5e5016bdbc8",
   "metadata": {},
   "source": [
    "# Getting started with MolPipeline\n",
    "\n",
    "This notebook shows how to use MolPipeline for training a machine learning model for molecular property prediction. \n",
    "MolPipeline combines RDKit with Sklearn using Sklearn's [Pipeline](https://scikit-learn.org/stable/modules/compose.html) conecpts for consistent molecular machine learning. This includes:\n",
    "\n",
    "[**Setting up a simple pipeline for property prediction**](#simplepipeline)\n",
    "* Reading molecule data files\n",
    "* Standardizing molecules\n",
    "* Featurization\n",
    "* Machine learning model training\n",
    "\n",
    "[**Error handling in MolPipeline**](#errorhandling)\n",
    "* Filtering not processable molecules\n",
    "* Replacing erroneous molecules with a fill value"
   ]
  },
  {
   "cell_type": "code",
   "execution_count": 1,
   "id": "7dd6bb01-e778-4791-b8a0-9273b675852c",
   "metadata": {},
   "outputs": [
    {
     "name": "stderr",
     "output_type": "stream",
     "text": [
      "Failed to find the pandas get_adjustment() function to patch\n",
      "Failed to patch pandas - PandasTools will have limited functionality\n"
     ]
    }
   ],
   "source": [
    "import numpy as np\n",
    "\n",
    "from molpipeline.pipeline import Pipeline\n",
    "from molpipeline.pipeline_elements.any2mol import AutoToMolPipelineElement\n",
    "\n",
    "from molpipeline.pipeline_elements.mol2mol import (\n",
    "    CanonicalizeTautomerPipelineElement,\n",
    "    MetalDisconnectorPipelineElement,\n",
    "    RemoveStereoInformationPipelineElement,\n",
    "    SaltRemoverPipelineElement,\n",
    "    UnchargePipelineElement,\n",
    "    SolventRemoverPipelineElement,\n",
    ")\n",
    "\n",
    "from molpipeline.pipeline_elements.mol2mol.mol2mol_filter import (\n",
    "    ElementFilterPipelineElement,\n",
    ")\n",
    "\n",
    "from molpipeline.pipeline_elements.mol2any import MolToFoldedMorganFingerprint\n",
    "\n",
    "from molpipeline.sklearn_estimators.murcko_scaffold_clustering import (\n",
    "    MurckoScaffoldClustering,\n",
    ")\n",
    "\n",
    "import pandas as pd\n",
    "from rdkit import Chem\n",
    "from rdkit.Chem import PandasTools\n",
    "\n",
    "from sklearn.ensemble import RandomForestClassifier, RandomForestRegressor\n",
    "from sklearn.metrics import roc_auc_score"
   ]
  },
  {
   "cell_type": "markdown",
   "id": "b503edcd-5fee-485d-b9dd-51147b93a0a8",
   "metadata": {},
   "source": [
    "## Setting up a simple pipeline for property prediction <a class=\"anchor\" id=\"simplepipeline\"></a>"
   ]
  },
  {
   "cell_type": "markdown",
   "id": "57839826-ae15-4804-a5b1-f9144bf7fd77",
   "metadata": {},
   "source": [
    "A pipeline consist of pipeline elements. Each pipeline element complies with Sklearn API. Therefore, Molpipeline's elements are implementing the well-known fit, fit_transform, predict, etc. functions of the Sklearn interface.\n",
    "\n",
    "In the following example we first introduce the different pipeline elements and then compose them in a Pipeline that we can execute."
   ]
  },
  {
   "cell_type": "markdown",
   "id": "fac44226-95e2-4148-8468-2f9ffb5775c1",
   "metadata": {},
   "source": [
    "### Reading molecular data"
   ]
  },
  {
   "cell_type": "markdown",
   "id": "3d5f3b1f-4d15-451d-bbf6-03cd83a52800",
   "metadata": {},
   "source": [
    "Using RDKit's rich functionalities MolPipeline can read various molecular input formats. The AutoToMolPipelineElement creates RDKit molecules automatically without the need to specify the input format manually. For example, SMILES, SDF or binary serialized molecules (coming from RDKit's mol.ToBinary() function) are supported. But there are also dedicated pipeline elements like SmilesToMolPipelineElement to read molecules from SMILES."
   ]
  },
  {
   "cell_type": "code",
   "execution_count": 2,
   "id": "97249070-e879-4c8b-bd1f-74a66c0241d0",
   "metadata": {},
   "outputs": [],
   "source": [
    "auto2mol = AutoToMolPipelineElement()"
   ]
  },
  {
   "cell_type": "markdown",
   "id": "67fa86d4-e0d9-43fd-87cf-b1492a5027b1",
   "metadata": {},
   "source": [
    "Transformer pipeline elements transform a given input list to an ouput list. All we have to do is call the transform function"
   ]
  },
  {
   "cell_type": "code",
   "execution_count": 3,
   "id": "55fd275c-5439-4e49-8ceb-bbec0958299e",
   "metadata": {},
   "outputs": [
    {
     "data": {
      "image/png": "[encoded data removed]",
      "text/html": [
       "<table><tr><td colspan=\"2\" style=\"text-align: center;\"><image src=\"data:image/png;base64,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\"></td></tr>\n",
       "<tr><th style=\"text-align: right\">identifier</th><td style=\"text-align: left\">c1ccccc1</td></tr></table>"
      ],
      "text/plain": [
       "<rdkit.Chem.rdchem.Mol at 0x7f56f9250270>"
      ]
     },
     "execution_count": 3,
     "metadata": {},
     "output_type": "execute_result"
    }
   ],
   "source": [
    "mols = auto2mol.transform([\"c1ccccc1\"])\n",
    "mols[0]"
   ]
  },
  {
   "cell_type": "markdown",
   "id": "d7674f28-e92e-4dc1-ac44-c19a47acd5e6",
   "metadata": {},
   "source": [
    "The AutoToMol element can also read other molecule formats like SDF  "
   ]
  },
  {
   "cell_type": "code",
   "execution_count": 4,
   "id": "f0aec489-00c6-4fe0-ada5-927056a8bc13",
   "metadata": {},
   "outputs": [
    {
     "data": {
      "image/png": "[encoded data removed]",
      "text/plain": [
       "<rdkit.Chem.rdchem.Mol at 0x7f56f92502e0>"
      ]
     },
     "execution_count": 4,
     "metadata": {},
     "output_type": "execute_result"
    }
   ],
   "source": [
    "from io import StringIO\n",
    "from rdkit import rdBase\n",
    "\n",
    "sio = StringIO()\n",
    "with rdBase.BlockLogs():\n",
    "    with Chem.SDWriter(sio) as w:\n",
    "        w.write(Chem.MolFromSmiles(\"c1ccccc1N\"))\n",
    "    sdf_string = sio.getvalue()\n",
    "    mol2 = auto2mol.fit_transform([sdf_string])[0]\n",
    "mol2"
   ]
  },
  {
   "cell_type": "markdown",
   "id": "024d8937-1996-4587-8c7c-235bd6519694",
   "metadata": {},
   "source": [
    "Let's add the created element to a list for later."
   ]
  },
  {
   "cell_type": "code",
   "execution_count": 5,
   "id": "027f9685-187a-4bf7-8aa5-cbc4fb2792dc",
   "metadata": {},
   "outputs": [],
   "source": [
    "read_elements = [(\"auto2mol\", AutoToMolPipelineElement())]"
   ]
  },
  {
   "cell_type": "markdown",
   "id": "5e0fcd70-c921-4518-9599-977acc64ec45",
   "metadata": {},
   "source": [
    "### Standardizing molecules"
   ]
  },
  {
   "cell_type": "markdown",
   "id": "b5b530ba-7a1a-4521-bfed-b5fc9cdaf938",
   "metadata": {},
   "source": [
    "Usually, many applications and algorithms requiere that molecules are in a particular form. However, molecule data comes in diverse forms and with heterogenous annotations. Therefore, molecule standardization is often necessary. In MolPipeline there are pipeline elements that directly wrap certain RDKit functionalities for standardization which can be used to simply setup custom standardization pipelines. "
   ]
  },
  {
   "cell_type": "markdown",
   "id": "08535390-3c63-4fed-9b02-0a2928108d2f",
   "metadata": {},
   "source": [
    "We can filter molecules by the elements they contain with the ElementFilterPipelineElement."
   ]
  },
  {
   "cell_type": "code",
   "execution_count": 6,
   "id": "a8cef834-6473-4f52-8271-b6f32df9bc7b",
   "metadata": {},
   "outputs": [],
   "source": [
    "# we can say that we only want molecules with carbon, nitrogen and oxygen\n",
    "element_filter = ElementFilterPipelineElement(allowed_element_numbers=[6, 7, 8])"
   ]
  },
  {
   "cell_type": "markdown",
   "id": "930667cb-1e6f-47e2-bf42-0a1752bc8333",
   "metadata": {},
   "source": [
    "The following will substitute the second molecule with the Flour atom with a `InvalidInstance` which marks the molecule as invalid (see the notebook on error handling for more details)."
   ]
  },
  {
   "cell_type": "code",
   "execution_count": 7,
   "id": "1ead8d4c-dc3e-4a59-94e6-71c387d505e8",
   "metadata": {},
   "outputs": [
    {
     "data": {
      "text/plain": [
       "[<rdkit.Chem.rdchem.Mol at 0x7f56fa4ba2d0>,\n",
       " InvalidInstance(ElementFilterPipelineElement, Molecule contains following forbidden elements: {9})]"
      ]
     },
     "execution_count": 7,
     "metadata": {},
     "output_type": "execute_result"
    }
   ],
   "source": [
    "mols = auto2mol.transform([\"CCC\", \"CCCF\"])\n",
    "element_filter.transform(mols)"
   ]
  },
  {
   "cell_type": "markdown",
   "id": "41c4fd94-12f2-4cca-aa7b-7124dd797033",
   "metadata": {},
   "source": [
    "We can also standardize the molecules by removing unwanted metals, salts, stereo information and the molecules' charge and compute a canonical tautomer. In contrast to the ElementFilter these pipeline element don't filter out molecules but transform them to different molecules (if possible)."
   ]
  },
  {
   "cell_type": "code",
   "execution_count": 8,
   "id": "2d387a07-d54e-4bcb-b93e-eb8b1cfa8634",
   "metadata": {},
   "outputs": [],
   "source": [
    "metal_disconnector = MetalDisconnectorPipelineElement()\n",
    "salt_remover = SaltRemoverPipelineElement()\n",
    "uncharge = UnchargePipelineElement()\n",
    "canonical_tautomer = CanonicalizeTautomerPipelineElement()\n",
    "stereo_remover = RemoveStereoInformationPipelineElement()"
   ]
  },
  {
   "cell_type": "code",
   "execution_count": 16,
   "id": "d01bae8b-16e7-49e1-95ee-d362dfb41d2a",
   "metadata": {},
   "outputs": [
    {
     "ename": "SyntaxError",
     "evalue": "invalid syntax (3082906152.py, line 1)",
     "output_type": "error",
     "traceback": [
      "\u001b[0;36m  Cell \u001b[0;32mIn[16], line 1\u001b[0;36m\u001b[0m\n\u001b[0;31m    TODO: example of mol2mol elements above\u001b[0m\n\u001b[0m                  ^\u001b[0m\n\u001b[0;31mSyntaxError\u001b[0m\u001b[0;31m:\u001b[0m invalid syntax\n"
     ]
    }
   ],
   "source": [
    "TODO: example of mol2mol elements above"
   ]
  },
  {
   "cell_type": "code",
   "execution_count": 9,
   "id": "227eb73e-e967-45b5-af44-606f0fb8dd04",
   "metadata": {},
   "outputs": [],
   "source": [
    "standardization_elements = [\n",
    "    (\"element_filter\", ElementFilterPipelineElement()),\n",
    "    (\"metal_disconnector\", MetalDisconnectorPipelineElement()),\n",
    "    (\"salt_remover\", SaltRemoverPipelineElement()),\n",
    "    (\"uncharge\", UnchargePipelineElement()),\n",
    "    (\"canonical_tautomer\", CanonicalizeTautomerPipelineElement()),\n",
    "    (\"stereo_remover\", RemoveStereoInformationPipelineElement()),\n",
    "]"
   ]
  },
  {
   "cell_type": "markdown",
   "id": "7b2cf3cf-b067-4886-b84d-a028df16da59",
   "metadata": {},
   "source": [
    "### Feature computation\n",
    "\n",
    "RDKit provides a wealth of useful molecular descriptors. Here we use the popular Morgan (or ECFP) fingerprints."
   ]
  },
  {
   "cell_type": "code",
   "execution_count": 10,
   "id": "6b0f36db-77ab-411a-89d9-afcab8b063f9",
   "metadata": {},
   "outputs": [],
   "source": [
    "morgan2_2048 = MolToFoldedMorganFingerprint(n_bits=2048, radius=2)"
   ]
  },
  {
   "cell_type": "code",
   "execution_count": 11,
   "id": "d7af1caa-1af7-4eb3-9458-50856da5321e",
   "metadata": {},
   "outputs": [],
   "source": [
    "featurization_elements = [(\"morgan2_2048\", morgan2_2048)]"
   ]
  },
  {
   "cell_type": "markdown",
   "id": "04466922-7aac-462f-b497-0f008d6c3da8",
   "metadata": {},
   "source": [
    "### Machine learning model\n",
    "\n",
    "We can use machine learning estimators from Sklearn natively in MolPipeline."
   ]
  },
  {
   "cell_type": "code",
   "execution_count": 12,
   "id": "d88e69d6-9919-40ab-bbe9-0921786dbe6d",
   "metadata": {},
   "outputs": [],
   "source": [
    "ml_models = [(\"RandomForestRegressor\", RandomForestRegressor())]"
   ]
  },
  {
   "cell_type": "markdown",
   "id": "d5052be0-2d5e-4e25-8913-b9420082a719",
   "metadata": {},
   "source": [
    "### Putting the pipeline together\n",
    "\n",
    "We compose a Pipeline from the pipeline elements. The elements in the pipeline will be executed subsequently. First, the given input SMILES will be read to RDKit molecules, then they are standardized and fingerprints are computed. The fingerprints are finally used to fit the RandomForestRegressor."
   ]
  },
  {
   "cell_type": "code",
   "execution_count": 13,
   "id": "4be409bb-71c1-46a9-9568-de2fde38bf20",
   "metadata": {},
   "outputs": [
    {
     "data": {
      "text/html": [
       "<style>#sk-container-id-1 {\n",
       "  /* Definition of color scheme common for light and dark mode */\n",
       "  --sklearn-color-text: black;\n",
       "  --sklearn-color-line: gray;\n",
       "  /* Definition of color scheme for unfitted estimators */\n",
       "  --sklearn-color-unfitted-level-0: #fff5e6;\n",
       "  --sklearn-color-unfitted-level-1: #f6e4d2;\n",
       "  --sklearn-color-unfitted-level-2: #ffe0b3;\n",
       "  --sklearn-color-unfitted-level-3: chocolate;\n",
       "  /* Definition of color scheme for fitted estimators */\n",
       "  --sklearn-color-fitted-level-0: #f0f8ff;\n",
       "  --sklearn-color-fitted-level-1: #d4ebff;\n",
       "  --sklearn-color-fitted-level-2: #b3dbfd;\n",
       "  --sklearn-color-fitted-level-3: cornflowerblue;\n",
       "\n",
       "  /* Specific color for light theme */\n",
       "  --sklearn-color-text-on-default-background: var(--sg-text-color, var(--theme-code-foreground, var(--jp-content-font-color1, black)));\n",
       "  --sklearn-color-background: var(--sg-background-color, var(--theme-background, var(--jp-layout-color0, white)));\n",
       "  --sklearn-color-border-box: var(--sg-text-color, var(--theme-code-foreground, var(--jp-content-font-color1, black)));\n",
       "  --sklearn-color-icon: #696969;\n",
       "\n",
       "  @media (prefers-color-scheme: dark) {\n",
       "    /* Redefinition of color scheme for dark theme */\n",
       "    --sklearn-color-text-on-default-background: var(--sg-text-color, var(--theme-code-foreground, var(--jp-content-font-color1, white)));\n",
       "    --sklearn-color-background: var(--sg-background-color, var(--theme-background, var(--jp-layout-color0, #111)));\n",
       "    --sklearn-color-border-box: var(--sg-text-color, var(--theme-code-foreground, var(--jp-content-font-color1, white)));\n",
       "    --sklearn-color-icon: #878787;\n",
       "  }\n",
       "}\n",
       "\n",
       "#sk-container-id-1 {\n",
       "  color: var(--sklearn-color-text);\n",
       "}\n",
       "\n",
       "#sk-container-id-1 pre {\n",
       "  padding: 0;\n",
       "}\n",
       "\n",
       "#sk-container-id-1 input.sk-hidden--visually {\n",
       "  border: 0;\n",
       "  clip: rect(1px 1px 1px 1px);\n",
       "  clip: rect(1px, 1px, 1px, 1px);\n",
       "  height: 1px;\n",
       "  margin: -1px;\n",
       "  overflow: hidden;\n",
       "  padding: 0;\n",
       "  position: absolute;\n",
       "  width: 1px;\n",
       "}\n",
       "\n",
       "#sk-container-id-1 div.sk-dashed-wrapped {\n",
       "  border: 1px dashed var(--sklearn-color-line);\n",
       "  margin: 0 0.4em 0.5em 0.4em;\n",
       "  box-sizing: border-box;\n",
       "  padding-bottom: 0.4em;\n",
       "  background-color: var(--sklearn-color-background);\n",
       "}\n",
       "\n",
       "#sk-container-id-1 div.sk-container {\n",
       "  /* jupyter's `normalize.less` sets `[hidden] { display: none; }`\n",
       "     but bootstrap.min.css set `[hidden] { display: none !important; }`\n",
       "     so we also need the `!important` here to be able to override the\n",
       "     default hidden behavior on the sphinx rendered scikit-learn.org.\n",
       "     See: https://github.com/scikit-learn/scikit-learn/issues/21755 */\n",
       "  display: inline-block !important;\n",
       "  position: relative;\n",
       "}\n",
       "\n",
       "#sk-container-id-1 div.sk-text-repr-fallback {\n",
       "  display: none;\n",
       "}\n",
       "\n",
       "div.sk-parallel-item,\n",
       "div.sk-serial,\n",
       "div.sk-item {\n",
       "  /* draw centered vertical line to link estimators */\n",
       "  background-image: linear-gradient(var(--sklearn-color-text-on-default-background), var(--sklearn-color-text-on-default-background));\n",
       "  background-size: 2px 100%;\n",
       "  background-repeat: no-repeat;\n",
       "  background-position: center center;\n",
       "}\n",
       "\n",
       "/* Parallel-specific style estimator block */\n",
       "\n",
       "#sk-container-id-1 div.sk-parallel-item::after {\n",
       "  content: \"\";\n",
       "  width: 100%;\n",
       "  border-bottom: 2px solid var(--sklearn-color-text-on-default-background);\n",
       "  flex-grow: 1;\n",
       "}\n",
       "\n",
       "#sk-container-id-1 div.sk-parallel {\n",
       "  display: flex;\n",
       "  align-items: stretch;\n",
       "  justify-content: center;\n",
       "  background-color: var(--sklearn-color-background);\n",
       "  position: relative;\n",
       "}\n",
       "\n",
       "#sk-container-id-1 div.sk-parallel-item {\n",
       "  display: flex;\n",
       "  flex-direction: column;\n",
       "}\n",
       "\n",
       "#sk-container-id-1 div.sk-parallel-item:first-child::after {\n",
       "  align-self: flex-end;\n",
       "  width: 50%;\n",
       "}\n",
       "\n",
       "#sk-container-id-1 div.sk-parallel-item:last-child::after {\n",
       "  align-self: flex-start;\n",
       "  width: 50%;\n",
       "}\n",
       "\n",
       "#sk-container-id-1 div.sk-parallel-item:only-child::after {\n",
       "  width: 0;\n",
       "}\n",
       "\n",
       "/* Serial-specific style estimator block */\n",
       "\n",
       "#sk-container-id-1 div.sk-serial {\n",
       "  display: flex;\n",
       "  flex-direction: column;\n",
       "  align-items: center;\n",
       "  background-color: var(--sklearn-color-background);\n",
       "  padding-right: 1em;\n",
       "  padding-left: 1em;\n",
       "}\n",
       "\n",
       "\n",
       "/* Toggleable style: style used for estimator/Pipeline/ColumnTransformer box that is\n",
       "clickable and can be expanded/collapsed.\n",
       "- Pipeline and ColumnTransformer use this feature and define the default style\n",
       "- Estimators will overwrite some part of the style using the `sk-estimator` class\n",
       "*/\n",
       "\n",
       "/* Pipeline and ColumnTransformer style (default) */\n",
       "\n",
       "#sk-container-id-1 div.sk-toggleable {\n",
       "  /* Default theme specific background. It is overwritten whether we have a\n",
       "  specific estimator or a Pipeline/ColumnTransformer */\n",
       "  background-color: var(--sklearn-color-background);\n",
       "}\n",
       "\n",
       "/* Toggleable label */\n",
       "#sk-container-id-1 label.sk-toggleable__label {\n",
       "  cursor: pointer;\n",
       "  display: block;\n",
       "  width: 100%;\n",
       "  margin-bottom: 0;\n",
       "  padding: 0.5em;\n",
       "  box-sizing: border-box;\n",
       "  text-align: center;\n",
       "}\n",
       "\n",
       "#sk-container-id-1 label.sk-toggleable__label-arrow:before {\n",
       "  /* Arrow on the left of the label */\n",
       "  content: \"▸\";\n",
       "  float: left;\n",
       "  margin-right: 0.25em;\n",
       "  color: var(--sklearn-color-icon);\n",
       "}\n",
       "\n",
       "#sk-container-id-1 label.sk-toggleable__label-arrow:hover:before {\n",
       "  color: var(--sklearn-color-text);\n",
       "}\n",
       "\n",
       "/* Toggleable content - dropdown */\n",
       "\n",
       "#sk-container-id-1 div.sk-toggleable__content {\n",
       "  max-height: 0;\n",
       "  max-width: 0;\n",
       "  overflow: hidden;\n",
       "  text-align: left;\n",
       "  /* unfitted */\n",
       "  background-color: var(--sklearn-color-unfitted-level-0);\n",
       "}\n",
       "\n",
       "#sk-container-id-1 div.sk-toggleable__content.fitted {\n",
       "  /* fitted */\n",
       "  background-color: var(--sklearn-color-fitted-level-0);\n",
       "}\n",
       "\n",
       "#sk-container-id-1 div.sk-toggleable__content pre {\n",
       "  margin: 0.2em;\n",
       "  border-radius: 0.25em;\n",
       "  color: var(--sklearn-color-text);\n",
       "  /* unfitted */\n",
       "  background-color: var(--sklearn-color-unfitted-level-0);\n",
       "}\n",
       "\n",
       "#sk-container-id-1 div.sk-toggleable__content.fitted pre {\n",
       "  /* unfitted */\n",
       "  background-color: var(--sklearn-color-fitted-level-0);\n",
       "}\n",
       "\n",
       "#sk-container-id-1 input.sk-toggleable__control:checked~div.sk-toggleable__content {\n",
       "  /* Expand drop-down */\n",
       "  max-height: 200px;\n",
       "  max-width: 100%;\n",
       "  overflow: auto;\n",
       "}\n",
       "\n",
       "#sk-container-id-1 input.sk-toggleable__control:checked~label.sk-toggleable__label-arrow:before {\n",
       "  content: \"▾\";\n",
       "}\n",
       "\n",
       "/* Pipeline/ColumnTransformer-specific style */\n",
       "\n",
       "#sk-container-id-1 div.sk-label input.sk-toggleable__control:checked~label.sk-toggleable__label {\n",
       "  color: var(--sklearn-color-text);\n",
       "  background-color: var(--sklearn-color-unfitted-level-2);\n",
       "}\n",
       "\n",
       "#sk-container-id-1 div.sk-label.fitted input.sk-toggleable__control:checked~label.sk-toggleable__label {\n",
       "  background-color: var(--sklearn-color-fitted-level-2);\n",
       "}\n",
       "\n",
       "/* Estimator-specific style */\n",
       "\n",
       "/* Colorize estimator box */\n",
       "#sk-container-id-1 div.sk-estimator input.sk-toggleable__control:checked~label.sk-toggleable__label {\n",
       "  /* unfitted */\n",
       "  background-color: var(--sklearn-color-unfitted-level-2);\n",
       "}\n",
       "\n",
       "#sk-container-id-1 div.sk-estimator.fitted input.sk-toggleable__control:checked~label.sk-toggleable__label {\n",
       "  /* fitted */\n",
       "  background-color: var(--sklearn-color-fitted-level-2);\n",
       "}\n",
       "\n",
       "#sk-container-id-1 div.sk-label label.sk-toggleable__label,\n",
       "#sk-container-id-1 div.sk-label label {\n",
       "  /* The background is the default theme color */\n",
       "  color: var(--sklearn-color-text-on-default-background);\n",
       "}\n",
       "\n",
       "/* On hover, darken the color of the background */\n",
       "#sk-container-id-1 div.sk-label:hover label.sk-toggleable__label {\n",
       "  color: var(--sklearn-color-text);\n",
       "  background-color: var(--sklearn-color-unfitted-level-2);\n",
       "}\n",
       "\n",
       "/* Label box, darken color on hover, fitted */\n",
       "#sk-container-id-1 div.sk-label.fitted:hover label.sk-toggleable__label.fitted {\n",
       "  color: var(--sklearn-color-text);\n",
       "  background-color: var(--sklearn-color-fitted-level-2);\n",
       "}\n",
       "\n",
       "/* Estimator label */\n",
       "\n",
       "#sk-container-id-1 div.sk-label label {\n",
       "  font-family: monospace;\n",
       "  font-weight: bold;\n",
       "  display: inline-block;\n",
       "  line-height: 1.2em;\n",
       "}\n",
       "\n",
       "#sk-container-id-1 div.sk-label-container {\n",
       "  text-align: center;\n",
       "}\n",
       "\n",
       "/* Estimator-specific */\n",
       "#sk-container-id-1 div.sk-estimator {\n",
       "  font-family: monospace;\n",
       "  border: 1px dotted var(--sklearn-color-border-box);\n",
       "  border-radius: 0.25em;\n",
       "  box-sizing: border-box;\n",
       "  margin-bottom: 0.5em;\n",
       "  /* unfitted */\n",
       "  background-color: var(--sklearn-color-unfitted-level-0);\n",
       "}\n",
       "\n",
       "#sk-container-id-1 div.sk-estimator.fitted {\n",
       "  /* fitted */\n",
       "  background-color: var(--sklearn-color-fitted-level-0);\n",
       "}\n",
       "\n",
       "/* on hover */\n",
       "#sk-container-id-1 div.sk-estimator:hover {\n",
       "  /* unfitted */\n",
       "  background-color: var(--sklearn-color-unfitted-level-2);\n",
       "}\n",
       "\n",
       "#sk-container-id-1 div.sk-estimator.fitted:hover {\n",
       "  /* fitted */\n",
       "  background-color: var(--sklearn-color-fitted-level-2);\n",
       "}\n",
       "\n",
       "/* Specification for estimator info (e.g. \"i\" and \"?\") */\n",
       "\n",
       "/* Common style for \"i\" and \"?\" */\n",
       "\n",
       ".sk-estimator-doc-link,\n",
       "a:link.sk-estimator-doc-link,\n",
       "a:visited.sk-estimator-doc-link {\n",
       "  float: right;\n",
       "  font-size: smaller;\n",
       "  line-height: 1em;\n",
       "  font-family: monospace;\n",
       "  background-color: var(--sklearn-color-background);\n",
       "  border-radius: 1em;\n",
       "  height: 1em;\n",
       "  width: 1em;\n",
       "  text-decoration: none !important;\n",
       "  margin-left: 1ex;\n",
       "  /* unfitted */\n",
       "  border: var(--sklearn-color-unfitted-level-1) 1pt solid;\n",
       "  color: var(--sklearn-color-unfitted-level-1);\n",
       "}\n",
       "\n",
       ".sk-estimator-doc-link.fitted,\n",
       "a:link.sk-estimator-doc-link.fitted,\n",
       "a:visited.sk-estimator-doc-link.fitted {\n",
       "  /* fitted */\n",
       "  border: var(--sklearn-color-fitted-level-1) 1pt solid;\n",
       "  color: var(--sklearn-color-fitted-level-1);\n",
       "}\n",
       "\n",
       "/* On hover */\n",
       "div.sk-estimator:hover .sk-estimator-doc-link:hover,\n",
       ".sk-estimator-doc-link:hover,\n",
       "div.sk-label-container:hover .sk-estimator-doc-link:hover,\n",
       ".sk-estimator-doc-link:hover {\n",
       "  /* unfitted */\n",
       "  background-color: var(--sklearn-color-unfitted-level-3);\n",
       "  color: var(--sklearn-color-background);\n",
       "  text-decoration: none;\n",
       "}\n",
       "\n",
       "div.sk-estimator.fitted:hover .sk-estimator-doc-link.fitted:hover,\n",
       ".sk-estimator-doc-link.fitted:hover,\n",
       "div.sk-label-container:hover .sk-estimator-doc-link.fitted:hover,\n",
       ".sk-estimator-doc-link.fitted:hover {\n",
       "  /* fitted */\n",
       "  background-color: var(--sklearn-color-fitted-level-3);\n",
       "  color: var(--sklearn-color-background);\n",
       "  text-decoration: none;\n",
       "}\n",
       "\n",
       "/* Span, style for the box shown on hovering the info icon */\n",
       ".sk-estimator-doc-link span {\n",
       "  display: none;\n",
       "  z-index: 9999;\n",
       "  position: relative;\n",
       "  font-weight: normal;\n",
       "  right: .2ex;\n",
       "  padding: .5ex;\n",
       "  margin: .5ex;\n",
       "  width: min-content;\n",
       "  min-width: 20ex;\n",
       "  max-width: 50ex;\n",
       "  color: var(--sklearn-color-text);\n",
       "  box-shadow: 2pt 2pt 4pt #999;\n",
       "  /* unfitted */\n",
       "  background: var(--sklearn-color-unfitted-level-0);\n",
       "  border: .5pt solid var(--sklearn-color-unfitted-level-3);\n",
       "}\n",
       "\n",
       ".sk-estimator-doc-link.fitted span {\n",
       "  /* fitted */\n",
       "  background: var(--sklearn-color-fitted-level-0);\n",
       "  border: var(--sklearn-color-fitted-level-3);\n",
       "}\n",
       "\n",
       ".sk-estimator-doc-link:hover span {\n",
       "  display: block;\n",
       "}\n",
       "\n",
       "/* \"?\"-specific style due to the `<a>` HTML tag */\n",
       "\n",
       "#sk-container-id-1 a.estimator_doc_link {\n",
       "  float: right;\n",
       "  font-size: 1rem;\n",
       "  line-height: 1em;\n",
       "  font-family: monospace;\n",
       "  background-color: var(--sklearn-color-background);\n",
       "  border-radius: 1rem;\n",
       "  height: 1rem;\n",
       "  width: 1rem;\n",
       "  text-decoration: none;\n",
       "  /* unfitted */\n",
       "  color: var(--sklearn-color-unfitted-level-1);\n",
       "  border: var(--sklearn-color-unfitted-level-1) 1pt solid;\n",
       "}\n",
       "\n",
       "#sk-container-id-1 a.estimator_doc_link.fitted {\n",
       "  /* fitted */\n",
       "  border: var(--sklearn-color-fitted-level-1) 1pt solid;\n",
       "  color: var(--sklearn-color-fitted-level-1);\n",
       "}\n",
       "\n",
       "/* On hover */\n",
       "#sk-container-id-1 a.estimator_doc_link:hover {\n",
       "  /* unfitted */\n",
       "  background-color: var(--sklearn-color-unfitted-level-3);\n",
       "  color: var(--sklearn-color-background);\n",
       "  text-decoration: none;\n",
       "}\n",
       "\n",
       "#sk-container-id-1 a.estimator_doc_link.fitted:hover {\n",
       "  /* fitted */\n",
       "  background-color: var(--sklearn-color-fitted-level-3);\n",
       "}\n",
       "</style><div id=\"sk-container-id-1\" class=\"sk-top-container\"><div class=\"sk-text-repr-fallback\"><pre>Pipeline(steps=[(&#x27;auto2mol&#x27;, AutoToMolPipelineElement()),\n",
       "                (&#x27;element_filter&#x27;,\n",
       "                 ElementFilterPipelineElement(allowed_element_numbers={1, 34, 35, 5, 6, 7, 8, 9, 14, 15, 16, 17, 53})),\n",
       "                (&#x27;metal_disconnector&#x27;, MetalDisconnectorPipelineElement()),\n",
       "                (&#x27;salt_remover&#x27;, SaltRemoverPipelineElement()),\n",
       "                (&#x27;uncharge&#x27;, UnchargePipelineElement()),\n",
       "                (&#x27;canonical_tautomer&#x27;, CanonicalizeTautomerPipelineElement()),\n",
       "                (&#x27;stereo_remover&#x27;, RemoveStereoInformationPipelineElement()),\n",
       "                (&#x27;morgan2_2048&#x27;, MolToFoldedMorganFingerprint()),\n",
       "                (&#x27;RandomForestRegressor&#x27;, RandomForestRegressor())])</pre><b>In a Jupyter environment, please rerun this cell to show the HTML representation or trust the notebook. <br />On GitHub, the HTML representation is unable to render, please try loading this page with nbviewer.org.</b></div><div class=\"sk-container\" hidden><div class=\"sk-item sk-dashed-wrapped\"><div class=\"sk-label-container\"><div class=\"sk-label fitted sk-toggleable\"><input class=\"sk-toggleable__control sk-hidden--visually\" id=\"sk-estimator-id-1\" type=\"checkbox\" ><label for=\"sk-estimator-id-1\" class=\"sk-toggleable__label fitted sk-toggleable__label-arrow fitted\">&nbsp;Pipeline<span class=\"sk-estimator-doc-link fitted\">i<span>Fitted</span></span></label><div class=\"sk-toggleable__content fitted\"><pre>Pipeline(steps=[(&#x27;auto2mol&#x27;, AutoToMolPipelineElement()),\n",
       "                (&#x27;element_filter&#x27;,\n",
       "                 ElementFilterPipelineElement(allowed_element_numbers={1, 34, 35, 5, 6, 7, 8, 9, 14, 15, 16, 17, 53})),\n",
       "                (&#x27;metal_disconnector&#x27;, MetalDisconnectorPipelineElement()),\n",
       "                (&#x27;salt_remover&#x27;, SaltRemoverPipelineElement()),\n",
       "                (&#x27;uncharge&#x27;, UnchargePipelineElement()),\n",
       "                (&#x27;canonical_tautomer&#x27;, CanonicalizeTautomerPipelineElement()),\n",
       "                (&#x27;stereo_remover&#x27;, RemoveStereoInformationPipelineElement()),\n",
       "                (&#x27;morgan2_2048&#x27;, MolToFoldedMorganFingerprint()),\n",
       "                (&#x27;RandomForestRegressor&#x27;, RandomForestRegressor())])</pre></div> </div></div><div class=\"sk-serial\"><div class=\"sk-item\"><div class=\"sk-estimator fitted sk-toggleable\"><input class=\"sk-toggleable__control sk-hidden--visually\" id=\"sk-estimator-id-2\" type=\"checkbox\" ><label for=\"sk-estimator-id-2\" class=\"sk-toggleable__label fitted sk-toggleable__label-arrow fitted\">AutoToMolPipelineElement</label><div class=\"sk-toggleable__content fitted\"><pre>AutoToMolPipelineElement()</pre></div> </div></div><div class=\"sk-item\"><div class=\"sk-estimator fitted sk-toggleable\"><input class=\"sk-toggleable__control sk-hidden--visually\" id=\"sk-estimator-id-3\" type=\"checkbox\" ><label for=\"sk-estimator-id-3\" class=\"sk-toggleable__label fitted sk-toggleable__label-arrow fitted\">ElementFilterPipelineElement</label><div class=\"sk-toggleable__content fitted\"><pre>ElementFilterPipelineElement(allowed_element_numbers={1, 34, 35, 5, 6, 7, 8, 9, 14, 15, 16, 17, 53})</pre></div> </div></div><div class=\"sk-item\"><div class=\"sk-estimator fitted sk-toggleable\"><input class=\"sk-toggleable__control sk-hidden--visually\" id=\"sk-estimator-id-4\" type=\"checkbox\" ><label for=\"sk-estimator-id-4\" class=\"sk-toggleable__label fitted sk-toggleable__label-arrow fitted\">MetalDisconnectorPipelineElement</label><div class=\"sk-toggleable__content fitted\"><pre>MetalDisconnectorPipelineElement()</pre></div> </div></div><div class=\"sk-item\"><div class=\"sk-estimator fitted sk-toggleable\"><input class=\"sk-toggleable__control sk-hidden--visually\" id=\"sk-estimator-id-5\" type=\"checkbox\" ><label for=\"sk-estimator-id-5\" class=\"sk-toggleable__label fitted sk-toggleable__label-arrow fitted\">SaltRemoverPipelineElement</label><div class=\"sk-toggleable__content fitted\"><pre>SaltRemoverPipelineElement()</pre></div> </div></div><div class=\"sk-item\"><div class=\"sk-estimator fitted sk-toggleable\"><input class=\"sk-toggleable__control sk-hidden--visually\" id=\"sk-estimator-id-6\" type=\"checkbox\" ><label for=\"sk-estimator-id-6\" class=\"sk-toggleable__label fitted sk-toggleable__label-arrow fitted\">UnchargePipelineElement</label><div class=\"sk-toggleable__content fitted\"><pre>UnchargePipelineElement()</pre></div> </div></div><div class=\"sk-item\"><div class=\"sk-estimator fitted sk-toggleable\"><input class=\"sk-toggleable__control sk-hidden--visually\" id=\"sk-estimator-id-7\" type=\"checkbox\" ><label for=\"sk-estimator-id-7\" class=\"sk-toggleable__label fitted sk-toggleable__label-arrow fitted\">CanonicalizeTautomerPipelineElement</label><div class=\"sk-toggleable__content fitted\"><pre>CanonicalizeTautomerPipelineElement()</pre></div> </div></div><div class=\"sk-item\"><div class=\"sk-estimator fitted sk-toggleable\"><input class=\"sk-toggleable__control sk-hidden--visually\" id=\"sk-estimator-id-8\" type=\"checkbox\" ><label for=\"sk-estimator-id-8\" class=\"sk-toggleable__label fitted sk-toggleable__label-arrow fitted\">RemoveStereoInformationPipelineElement</label><div class=\"sk-toggleable__content fitted\"><pre>RemoveStereoInformationPipelineElement()</pre></div> </div></div><div class=\"sk-item\"><div class=\"sk-estimator fitted sk-toggleable\"><input class=\"sk-toggleable__control sk-hidden--visually\" id=\"sk-estimator-id-9\" type=\"checkbox\" ><label for=\"sk-estimator-id-9\" class=\"sk-toggleable__label fitted sk-toggleable__label-arrow fitted\">MolToFoldedMorganFingerprint</label><div class=\"sk-toggleable__content fitted\"><pre>MolToFoldedMorganFingerprint()</pre></div> </div></div><div class=\"sk-item\"><div class=\"sk-estimator fitted sk-toggleable\"><input class=\"sk-toggleable__control sk-hidden--visually\" id=\"sk-estimator-id-10\" type=\"checkbox\" ><label for=\"sk-estimator-id-10\" class=\"sk-toggleable__label fitted sk-toggleable__label-arrow fitted\">&nbsp;RandomForestRegressor<a class=\"sk-estimator-doc-link fitted\" rel=\"noreferrer\" target=\"_blank\" href=\"https://scikit-learn.org/1.4/modules/generated/sklearn.ensemble.RandomForestRegressor.html\">?<span>Documentation for RandomForestRegressor</span></a></label><div class=\"sk-toggleable__content fitted\"><pre>RandomForestRegressor()</pre></div> </div></div></div></div></div></div>"
      ],
      "text/plain": [
       "Pipeline(steps=[('auto2mol', AutoToMolPipelineElement()),\n",
       "                ('element_filter',\n",
       "                 ElementFilterPipelineElement(allowed_element_numbers={1, 34, 35, 5, 6, 7, 8, 9, 14, 15, 16, 17, 53})),\n",
       "                ('metal_disconnector', MetalDisconnectorPipelineElement()),\n",
       "                ('salt_remover', SaltRemoverPipelineElement()),\n",
       "                ('uncharge', UnchargePipelineElement()),\n",
       "                ('canonical_tautomer', CanonicalizeTautomerPipelineElement()),\n",
       "                ('stereo_remover', RemoveStereoInformationPipelineElement()),\n",
       "                ('morgan2_2048', MolToFoldedMorganFingerprint()),\n",
       "                ('RandomForestRegressor', RandomForestRegressor())])"
      ]
     },
     "execution_count": 13,
     "metadata": {},
     "output_type": "execute_result"
    }
   ],
   "source": [
    "pipeline = Pipeline(\n",
    "    read_elements + standardization_elements + featurization_elements + ml_models\n",
    ")\n",
    "pipeline.fit(X=[\"CCCCCC\", \"c1ccccc1\"], y=[0.2, 0.4])"
   ]
  },
  {
   "cell_type": "markdown",
   "id": "2d307717-2d5b-4a7c-b707-bc29f693b85f",
   "metadata": {},
   "source": [
    "Just like in Sklearn we now have an estimator as a pipeline that not only contains the machine learning model but also the transformation steps to go from the raw molecular data to the trained model. We now can make predictions for new molecules:"
   ]
  },
  {
   "cell_type": "code",
   "execution_count": 14,
   "id": "a6ed79b3-be31-4222-afa0-bcdfbde584ab",
   "metadata": {},
   "outputs": [
    {
     "data": {
      "text/plain": [
       "array([0.266])"
      ]
     },
     "execution_count": 14,
     "metadata": {},
     "output_type": "execute_result"
    }
   ],
   "source": [
    "pipeline.predict([\"CCCCC\"])"
   ]
  },
  {
   "cell_type": "markdown",
   "id": "28c50ba6-9c99-4f49-b935-a87d44903c75",
   "metadata": {},
   "source": [
    "Instead of training a machine learning model, we can also compose the elements to make a pipeline that computes the molecular fingerprint matrix."
   ]
  },
  {
   "cell_type": "code",
   "execution_count": 15,
   "id": "96a776f6-8860-4fb7-988a-137c30a12f06",
   "metadata": {},
   "outputs": [
    {
     "data": {
      "text/plain": [
       "matrix([[0, 0, 0, ..., 0, 0, 0],\n",
       "        [0, 0, 0, ..., 0, 0, 0]])"
      ]
     },
     "execution_count": 15,
     "metadata": {},
     "output_type": "execute_result"
    }
   ],
   "source": [
    "feature_pipeline = Pipeline(\n",
    "    read_elements + standardization_elements + featurization_elements\n",
    ")\n",
    "feature_pipeline.fit_transform([\"CCCCCC\", \"c1ccccc1\"]).todense()"
   ]
  }
 ],
 "metadata": {
  "kernelspec": {
   "display_name": "Python 3 (ipykernel)",
   "language": "python",
   "name": "python3"
  },
  "language_info": {
   "codemirror_mode": {
    "name": "ipython",
    "version": 3
   },
   "file_extension": ".py",
   "mimetype": "text/x-python",
   "name": "python",
   "nbconvert_exporter": "python",
   "pygments_lexer": "ipython3",
   "version": "3.11.7"
  }
 },
 "nbformat": 4,
 "nbformat_minor": 5
}
