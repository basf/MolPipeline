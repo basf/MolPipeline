{
 "cells": [
  {
   "cell_type": "markdown",
   "id": "f623d875-4b23-4fa4-9115-83fd5be390a7",
   "metadata": {},
   "source": [
    "# Hyperparameter search on the BBBP data set\n",
    "\n",
    "This is a more advanced example of how to use MolPipeline in combination with Sklearn to make molecular machine learning experiments. In this notebook we show how hyperparameter optimization can be performed using MolPipeline and Sklearn's [GridSearchCV](https://scikit-learn.org/stable/modules/generated/sklearn.model_selection.GridSearchCV.html#sklearn.model_selection.GridSearchCV). We will train multiple Sklearn estimators (like RandomForest) with Morgan fingerprints and scaffold splits and select the best performing model.\n",
    "\n",
    "We selected the BBBP data sets from [MoleculeNet](https://moleculenet.org/) because it is a widely used data sets for benchmarking molecular property prediction methods and it contains some problematic molecules that are erroneous which highlights the error handling capabilities of MolPipeline. See [the blog post](http://practicalcheminformatics.blogspot.com/2023/08/we-need-better-benchmarks-for-machine.html) by Patrick Walters for details on the erroneous molecules."
   ]
  },
  {
   "cell_type": "code",
   "execution_count": 1,
   "id": "da554c7b-2dc4-4efd-8774-a8a3a9628293",
   "metadata": {},
   "outputs": [],
   "source": [
    "%matplotlib inline\n",
    "\n",
    "import sys\n",
    "import os\n",
    "import pandas as pd\n",
    "import numpy as np\n",
    "import matplotlib.pyplot as plt\n",
    "import seaborn as sns\n",
    "\n",
    "from molpipeline import Pipeline\n",
    "from molpipeline.estimators import MurckoScaffoldClustering\n",
    "from molpipeline.pipeline_elements.any2mol import AutoToMol\n",
    "from molpipeline.pipeline_elements.mol2mol import (\n",
    "    TautomerCanonicalizer,\n",
    "    MetalDisconnector,\n",
    "    StereoRemover,\n",
    "    SaltRemover,\n",
    "    Uncharger,\n",
    "    SolventRemover,\n",
    ")\n",
    "from molpipeline.pipeline_elements.mol2mol.mol2mol_filter import (\n",
    "    ElementFilter,\n",
    ")\n",
    "from molpipeline.pipeline_elements.mol2any import MolToFoldedMorgan\n",
    "from molpipeline.pipeline_elements.error_handling import (\n",
    "    ErrorFilter,\n",
    "    FilterReinserter,\n",
    ")\n",
    "from molpipeline.pipeline_elements.post_prediction import PostPredictionWrapper\n",
    "\n",
    "\n",
    "from sklearn.ensemble import RandomForestClassifier, RandomForestRegressor\n",
    "from sklearn.linear_model import LogisticRegression\n",
    "from sklearn.metrics import roc_auc_score\n",
    "from sklearn.model_selection import GridSearchCV, GroupShuffleSplit\n",
    "from sklearn.neighbors import KNeighborsClassifier"
   ]
  },
  {
   "cell_type": "code",
   "execution_count": 2,
   "id": "ae49e047-cf6c-457a-867a-e9613268a95b",
   "metadata": {},
   "outputs": [],
   "source": [
    "N_JOBS = 16\n",
    "RANDOM_STATE = 67056"
   ]
  },
  {
   "cell_type": "markdown",
   "id": "ab18103b-3ede-43d4-a909-446058b91e82",
   "metadata": {},
   "source": [
    "Let's start by getting the data set"
   ]
  },
  {
   "cell_type": "code",
   "execution_count": 3,
   "id": "39da2bef-0aa7-4078-ae9e-bd66bafc964a",
   "metadata": {},
   "outputs": [
    {
     "data": {
      "text/html": [
       "<div>\n",
       "<style scoped>\n",
       "    .dataframe tbody tr th:only-of-type {\n",
       "        vertical-align: middle;\n",
       "    }\n",
       "\n",
       "    .dataframe tbody tr th {\n",
       "        vertical-align: top;\n",
       "    }\n",
       "\n",
       "    .dataframe thead th {\n",
       "        text-align: right;\n",
       "    }\n",
       "</style>\n",
       "<table border=\"1\" class=\"dataframe\">\n",
       "  <thead>\n",
       "    <tr style=\"text-align: right;\">\n",
       "      <th></th>\n",
       "      <th>name</th>\n",
       "      <th>p_np</th>\n",
       "      <th>smiles</th>\n",
       "    </tr>\n",
       "  </thead>\n",
       "  <tbody>\n",
       "    <tr>\n",
       "      <th>0</th>\n",
       "      <td>Propanolol</td>\n",
       "      <td>1</td>\n",
       "      <td>[Cl].CC(C)NCC(O)COc1cccc2ccccc12</td>\n",
       "    </tr>\n",
       "    <tr>\n",
       "      <th>1</th>\n",
       "      <td>Terbutylchlorambucil</td>\n",
       "      <td>1</td>\n",
       "      <td>C(=O)(OC(C)(C)C)CCCc1ccc(cc1)N(CCCl)CCCl</td>\n",
       "    </tr>\n",
       "    <tr>\n",
       "      <th>2</th>\n",
       "      <td>40730</td>\n",
       "      <td>1</td>\n",
       "      <td>c12c3c(N4CCN(C)CC4)c(F)cc1c(c(C(O)=O)cn2C(C)CO...</td>\n",
       "    </tr>\n",
       "    <tr>\n",
       "      <th>3</th>\n",
       "      <td>24</td>\n",
       "      <td>1</td>\n",
       "      <td>C1CCN(CC1)Cc1cccc(c1)OCCCNC(=O)C</td>\n",
       "    </tr>\n",
       "    <tr>\n",
       "      <th>4</th>\n",
       "      <td>cloxacillin</td>\n",
       "      <td>1</td>\n",
       "      <td>Cc1onc(c2ccccc2Cl)c1C(=O)N[C@H]3[C@H]4SC(C)(C)...</td>\n",
       "    </tr>\n",
       "    <tr>\n",
       "      <th>...</th>\n",
       "      <td>...</td>\n",
       "      <td>...</td>\n",
       "      <td>...</td>\n",
       "    </tr>\n",
       "    <tr>\n",
       "      <th>2045</th>\n",
       "      <td>licostinel</td>\n",
       "      <td>1</td>\n",
       "      <td>C1=C(Cl)C(=C(C2=C1NC(=O)C(N2)=O)[N+](=O)[O-])Cl</td>\n",
       "    </tr>\n",
       "    <tr>\n",
       "      <th>2046</th>\n",
       "      <td>ademetionine(adenosyl-methionine)</td>\n",
       "      <td>1</td>\n",
       "      <td>[C@H]3([N]2C1=C(C(=NC=N1)N)N=C2)[C@@H]([C@@H](...</td>\n",
       "    </tr>\n",
       "    <tr>\n",
       "      <th>2047</th>\n",
       "      <td>mesocarb</td>\n",
       "      <td>1</td>\n",
       "      <td>[O+]1=N[N](C=C1[N-]C(NC2=CC=CC=C2)=O)C(CC3=CC=...</td>\n",
       "    </tr>\n",
       "    <tr>\n",
       "      <th>2048</th>\n",
       "      <td>tofisoline</td>\n",
       "      <td>1</td>\n",
       "      <td>C1=C(OC)C(=CC2=C1C(=[N+](C(=C2CC)C)[NH-])C3=CC...</td>\n",
       "    </tr>\n",
       "    <tr>\n",
       "      <th>2049</th>\n",
       "      <td>azidamfenicol</td>\n",
       "      <td>1</td>\n",
       "      <td>[N+](=NCC(=O)N[C@@H]([C@H](O)C1=CC=C([N+]([O-]...</td>\n",
       "    </tr>\n",
       "  </tbody>\n",
       "</table>\n",
       "<p>2050 rows × 3 columns</p>\n",
       "</div>"
      ],
      "text/plain": [
       "                                   name  p_np  \\\n",
       "0                            Propanolol     1   \n",
       "1                  Terbutylchlorambucil     1   \n",
       "2                                 40730     1   \n",
       "3                                    24     1   \n",
       "4                           cloxacillin     1   \n",
       "...                                 ...   ...   \n",
       "2045                         licostinel     1   \n",
       "2046  ademetionine(adenosyl-methionine)     1   \n",
       "2047                           mesocarb     1   \n",
       "2048                         tofisoline     1   \n",
       "2049                      azidamfenicol     1   \n",
       "\n",
       "                                                 smiles  \n",
       "0                      [Cl].CC(C)NCC(O)COc1cccc2ccccc12  \n",
       "1              C(=O)(OC(C)(C)C)CCCc1ccc(cc1)N(CCCl)CCCl  \n",
       "2     c12c3c(N4CCN(C)CC4)c(F)cc1c(c(C(O)=O)cn2C(C)CO...  \n",
       "3                      C1CCN(CC1)Cc1cccc(c1)OCCCNC(=O)C  \n",
       "4     Cc1onc(c2ccccc2Cl)c1C(=O)N[C@H]3[C@H]4SC(C)(C)...  \n",
       "...                                                 ...  \n",
       "2045    C1=C(Cl)C(=C(C2=C1NC(=O)C(N2)=O)[N+](=O)[O-])Cl  \n",
       "2046  [C@H]3([N]2C1=C(C(=NC=N1)N)N=C2)[C@@H]([C@@H](...  \n",
       "2047  [O+]1=N[N](C=C1[N-]C(NC2=CC=CC=C2)=O)C(CC3=CC=...  \n",
       "2048  C1=C(OC)C(=CC2=C1C(=[N+](C(=C2CC)C)[NH-])C3=CC...  \n",
       "2049  [N+](=NCC(=O)N[C@@H]([C@H](O)C1=CC=C([N+]([O-]...  \n",
       "\n",
       "[2050 rows x 3 columns]"
      ]
     },
     "execution_count": 3,
     "metadata": {},
     "output_type": "execute_result"
    }
   ],
   "source": [
    "df = pd.read_csv(\n",
    "    \"https://deepchemdata.s3-us-west-1.amazonaws.com/datasets/BBBP.csv\",\n",
    "    usecols=lambda col: col != \"num\",\n",
    ")\n",
    "df"
   ]
  },
  {
   "cell_type": "markdown",
   "id": "3009a4ae-f519-4b39-9787-879486bacd05",
   "metadata": {},
   "source": [
    "Make a function to setup some pipeline elements for standardization that we will use later"
   ]
  },
  {
   "cell_type": "code",
   "execution_count": 4,
   "id": "6d6f5fd3-4ba6-42ce-a742-4fecffae1ed2",
   "metadata": {},
   "outputs": [],
   "source": [
    "def make_standardization_elements():\n",
    "    \"\"\"Make a new list of pipeline elements for molecular standardization.\"\"\"\n",
    "    return [\n",
    "        (\n",
    "            \"element_filter\",\n",
    "            ElementFilter(\n",
    "                allowed_element_numbers=[\n",
    "                    1,\n",
    "                    3,\n",
    "                    5,\n",
    "                    6,\n",
    "                    7,\n",
    "                    8,\n",
    "                    9,\n",
    "                    11,\n",
    "                    12,\n",
    "                    14,\n",
    "                    15,\n",
    "                    16,\n",
    "                    17,\n",
    "                    19,\n",
    "                    20,\n",
    "                    34,\n",
    "                    35,\n",
    "                    53,\n",
    "                ]\n",
    "            ),\n",
    "        ),\n",
    "        (\"metal_disconnector\", MetalDisconnector()),\n",
    "        (\"salt_remover\", SaltRemover()),\n",
    "        (\"uncharge\", Uncharger()),\n",
    "        (\"canonical_tautomer\", TautomerCanonicalizer()),\n",
    "        (\"stereo_remover\", StereoRemover()),\n",
    "    ]"
   ]
  },
  {
   "cell_type": "markdown",
   "id": "b3abb637-ac6b-4e7f-bd87-f676060d430a",
   "metadata": {},
   "source": [
    "### Make a clustering pipeline"
   ]
  },
  {
   "cell_type": "markdown",
   "id": "31cfbec2-9384-4d87-9861-f20e4941c9b0",
   "metadata": {},
   "source": [
    "We first setup a pipeline that will do the scaffold clustering for us using [Murcko scaffolds](https://www.rdkit.org/docs/GettingStartedInPython.html#murcko-decomposition).\n",
    "\n",
    "In this example we also use Molpipelines error handling to detect and filter out all invalid molecules before clustering. After clustering we will re-add fill-values(np.nan in this case) at the corresponding positions of the invalid molecules. This keeps the resulting list of cluster labels (also called 'groups') in the same shape as the input molecule list. "
   ]
  },
  {
   "cell_type": "code",
   "execution_count": 5,
   "id": "13a5feab-d4ac-4896-91a1-8055342d5614",
   "metadata": {},
   "outputs": [
    {
     "data": {
      "text/plain": [
       "0        993.0\n",
       "1       1001.0\n",
       "2        671.0\n",
       "3        828.0\n",
       "4        258.0\n",
       "         ...  \n",
       "2045     616.0\n",
       "2046    1028.0\n",
       "2047     324.0\n",
       "2048     715.0\n",
       "2049    1001.0\n",
       "Name: groups, Length: 2050, dtype: float64"
      ]
     },
     "execution_count": 5,
     "metadata": {},
     "output_type": "execute_result"
    }
   ],
   "source": [
    "# create an error filter and reinserter.\n",
    "error_filter = ErrorFilter()\n",
    "# the Reinserter is wrapped into a PostPredictionWrapper because we execute\n",
    "# the re-insertion step at the end of the pipeline, even after the clustering.\n",
    "error_reinserter = PostPredictionWrapper(\n",
    "    FilterReinserter.from_error_filter(error_filter, np.nan)\n",
    ")\n",
    "\n",
    "# set up the clustering pipeline\n",
    "pipeline_clustering = Pipeline(\n",
    "    [(\"auto2mol\", AutoToMol())]\n",
    "    + make_standardization_elements()\n",
    "    + [\n",
    "        (\"error_filter\", error_filter),  # filter out invalid samples before clustering\n",
    "        (\n",
    "            \"scaffoldClustering\",\n",
    "            MurckoScaffoldClustering(linear_molecules_strategy=\"own_cluster\"),\n",
    "        ),\n",
    "        (\n",
    "            \"error_reinserter\",\n",
    "            error_reinserter,\n",
    "        ),  # re-add fill values to invalid samples to keep the input shape\n",
    "    ],\n",
    "    n_jobs=N_JOBS,\n",
    ")\n",
    "\n",
    "# cluster the smiles by their murcko scaffold\n",
    "df[\"groups\"] = pipeline_clustering.fit_predict(df[\"smiles\"])\n",
    "\n",
    "# the 'groups' are the cluster labels\n",
    "df[\"groups\"]"
   ]
  },
  {
   "cell_type": "markdown",
   "id": "3e4b0659-957c-4d14-9e29-5096857fae1b",
   "metadata": {},
   "source": [
    "We can have a look at the clustering results by plotting the distribution of cluster sizes."
   ]
  },
  {
   "cell_type": "code",
   "execution_count": 6,
   "id": "4f8fa876-f26c-4728-9fe6-8ed9176c9812",
   "metadata": {
    "scrolled": true
   },
   "outputs": [
    {
     "name": "stdout",
     "output_type": "stream",
     "text": [
      "Number of cluster: 1033\n"
     ]
    },
    {
     "data": {
      "image/png": "[encoded data removed]",
      "text/plain": [
       "<Figure size 640x480 with 1 Axes>"
      ]
     },
     "metadata": {},
     "output_type": "display_data"
    }
   ],
   "source": [
    "values, counts = np.unique(df[\"groups\"], return_counts=True)\n",
    "print(\"Number of cluster:\", len(values))\n",
    "plt.bar(range(len(counts)), sorted(counts))\n",
    "plt.xlabel(\"Cluster rank by size\")\n",
    "plt.ylabel(\"Number of molecules in cluster\")\n",
    "_ = plt.title(\"Sorted distribution of cluster sizes\")"
   ]
  },
  {
   "cell_type": "markdown",
   "id": "e092303b-a165-4967-8049-6d340335afb3",
   "metadata": {},
   "source": [
    "### Analyzing failed molecules\n",
    "\n",
    "For the BBBP data sets some molecules fail the processing by the clustering pipeline.\n",
    "Analysing the molecules that failed is an optional step but can give interesting insights."
   ]
  },
  {
   "cell_type": "markdown",
   "id": "642c53ff-3e61-42b4-ac3a-fb2e4f1f1883",
   "metadata": {},
   "source": [
    "Since we replaced all failed molecules with np.nan we can count them with numpy's isnan function "
   ]
  },
  {
   "cell_type": "code",
   "execution_count": 7,
   "id": "7e53e730-328e-42d4-a719-c054b83bad4a",
   "metadata": {},
   "outputs": [
    {
     "data": {
      "text/plain": [
       "11"
      ]
     },
     "execution_count": 7,
     "metadata": {},
     "output_type": "execute_result"
    }
   ],
   "source": [
    "df[\"groups\"].isna().sum()"
   ]
  },
  {
   "cell_type": "markdown",
   "id": "e2de6b36-5ef9-4c0f-b718-bbe4c6a86598",
   "metadata": {},
   "source": [
    "Using the nan values in the `df[\"groups\"]` array we can map back to the original molecules in the BBBP data set."
   ]
  },
  {
   "cell_type": "code",
   "execution_count": 8,
   "id": "52784f83-0de3-49f6-94a1-81cd459b9258",
   "metadata": {},
   "outputs": [
    {
     "data": {
      "text/html": [
       "<div>\n",
       "<style scoped>\n",
       "    .dataframe tbody tr th:only-of-type {\n",
       "        vertical-align: middle;\n",
       "    }\n",
       "\n",
       "    .dataframe tbody tr th {\n",
       "        vertical-align: top;\n",
       "    }\n",
       "\n",
       "    .dataframe thead th {\n",
       "        text-align: right;\n",
       "    }\n",
       "</style>\n",
       "<table border=\"1\" class=\"dataframe\">\n",
       "  <thead>\n",
       "    <tr style=\"text-align: right;\">\n",
       "      <th></th>\n",
       "      <th>smiles</th>\n",
       "    </tr>\n",
       "  </thead>\n",
       "  <tbody>\n",
       "    <tr>\n",
       "      <th>59</th>\n",
       "      <td>O=N([O-])C1=C(CN=C1NCCSCc2ncccc2)Cc3ccccc3</td>\n",
       "    </tr>\n",
       "    <tr>\n",
       "      <th>61</th>\n",
       "      <td>c1(nc(NC(N)=[NH2])sc1)CSCCNC(=[NH]C#N)NC</td>\n",
       "    </tr>\n",
       "    <tr>\n",
       "      <th>391</th>\n",
       "      <td>Cc1nc(sc1)\\[NH]=C(\\N)N</td>\n",
       "    </tr>\n",
       "    <tr>\n",
       "      <th>614</th>\n",
       "      <td>s1cc(CSCCN\\C(NC)=[NH]\\C#N)nc1\\[NH]=C(\\N)N</td>\n",
       "    </tr>\n",
       "    <tr>\n",
       "      <th>642</th>\n",
       "      <td>c1c(c(ncc1)CSCCN\\C(=[NH]\\C#N)NCC)Br</td>\n",
       "    </tr>\n",
       "    <tr>\n",
       "      <th>645</th>\n",
       "      <td>n1c(csc1\\[NH]=C(\\N)N)c1ccccc1</td>\n",
       "    </tr>\n",
       "    <tr>\n",
       "      <th>646</th>\n",
       "      <td>n1c(csc1\\[NH]=C(\\N)N)c1cccc(c1)N</td>\n",
       "    </tr>\n",
       "    <tr>\n",
       "      <th>647</th>\n",
       "      <td>n1c(csc1\\[NH]=C(\\N)N)c1cccc(c1)NC(C)=O</td>\n",
       "    </tr>\n",
       "    <tr>\n",
       "      <th>648</th>\n",
       "      <td>n1c(csc1\\[NH]=C(\\N)N)c1cccc(c1)N\\C(NC)=[NH]\\C#N</td>\n",
       "    </tr>\n",
       "    <tr>\n",
       "      <th>649</th>\n",
       "      <td>s1cc(nc1\\[NH]=C(\\N)N)C</td>\n",
       "    </tr>\n",
       "    <tr>\n",
       "      <th>685</th>\n",
       "      <td>c1(cc(N\\C(=[NH]\\c2cccc(c2)CC)C)ccc1)CC</td>\n",
       "    </tr>\n",
       "  </tbody>\n",
       "</table>\n",
       "</div>"
      ],
      "text/plain": [
       "                                              smiles\n",
       "59        O=N([O-])C1=C(CN=C1NCCSCc2ncccc2)Cc3ccccc3\n",
       "61          c1(nc(NC(N)=[NH2])sc1)CSCCNC(=[NH]C#N)NC\n",
       "391                           Cc1nc(sc1)\\[NH]=C(\\N)N\n",
       "614        s1cc(CSCCN\\C(NC)=[NH]\\C#N)nc1\\[NH]=C(\\N)N\n",
       "642              c1c(c(ncc1)CSCCN\\C(=[NH]\\C#N)NCC)Br\n",
       "645                    n1c(csc1\\[NH]=C(\\N)N)c1ccccc1\n",
       "646                 n1c(csc1\\[NH]=C(\\N)N)c1cccc(c1)N\n",
       "647           n1c(csc1\\[NH]=C(\\N)N)c1cccc(c1)NC(C)=O\n",
       "648  n1c(csc1\\[NH]=C(\\N)N)c1cccc(c1)N\\C(NC)=[NH]\\C#N\n",
       "649                           s1cc(nc1\\[NH]=C(\\N)N)C\n",
       "685           c1(cc(N\\C(=[NH]\\c2cccc(c2)CC)C)ccc1)CC"
      ]
     },
     "execution_count": 8,
     "metadata": {},
     "output_type": "execute_result"
    }
   ],
   "source": [
    "df.loc[df[\"groups\"].isna(), [\"smiles\"]]"
   ]
  },
  {
   "cell_type": "markdown",
   "id": "7916de94-248d-4a9f-815f-39ef0126574f",
   "metadata": {},
   "source": [
    "These molecules contain uncharged tetravalent nitrogen atoms which is not correct. Therefore, these SMILES represent invalid structures and RDKit can't read them. See [Pat Walters great blog post](http://practicalcheminformatics.blogspot.com/2023/08/we-need-better-benchmarks-for-machine.html) for more details. Molpipeline can automatically handle these cases through it's error handling. Without the error handling the execution of the pipeline would fail and we would have to make manually interventions.   "
   ]
  },
  {
   "cell_type": "markdown",
   "id": "67cafdb7-4f3c-419a-9727-c24f8f7c91ff",
   "metadata": {},
   "source": [
    "### Group clusters into train/valid/test split"
   ]
  },
  {
   "cell_type": "markdown",
   "id": "d73a32b5-1d9e-478f-b097-c1541eb54fe6",
   "metadata": {},
   "source": [
    "We now will group the computed clusters into train/valid/test splits that we can use with Sklearn's GridSearchCV. The split ratio we choose is 80/10/10."
   ]
  },
  {
   "cell_type": "code",
   "execution_count": 9,
   "id": "6fc46a83-2c7f-41c0-ad08-b0155c33766e",
   "metadata": {},
   "outputs": [
    {
     "data": {
      "text/html": [
       "<div>\n",
       "<style scoped>\n",
       "    .dataframe tbody tr th:only-of-type {\n",
       "        vertical-align: middle;\n",
       "    }\n",
       "\n",
       "    .dataframe tbody tr th {\n",
       "        vertical-align: top;\n",
       "    }\n",
       "\n",
       "    .dataframe thead th {\n",
       "        text-align: right;\n",
       "    }\n",
       "</style>\n",
       "<table border=\"1\" class=\"dataframe\">\n",
       "  <thead>\n",
       "    <tr style=\"text-align: right;\">\n",
       "      <th></th>\n",
       "      <th>name</th>\n",
       "      <th>p_np</th>\n",
       "      <th>smiles</th>\n",
       "      <th>groups</th>\n",
       "    </tr>\n",
       "  </thead>\n",
       "  <tbody>\n",
       "    <tr>\n",
       "      <th>1</th>\n",
       "      <td>Terbutylchlorambucil</td>\n",
       "      <td>1</td>\n",
       "      <td>C(=O)(OC(C)(C)C)CCCc1ccc(cc1)N(CCCl)CCCl</td>\n",
       "      <td>1001.0</td>\n",
       "    </tr>\n",
       "    <tr>\n",
       "      <th>2</th>\n",
       "      <td>40730</td>\n",
       "      <td>1</td>\n",
       "      <td>c12c3c(N4CCN(C)CC4)c(F)cc1c(c(C(O)=O)cn2C(C)CO...</td>\n",
       "      <td>671.0</td>\n",
       "    </tr>\n",
       "    <tr>\n",
       "      <th>3</th>\n",
       "      <td>24</td>\n",
       "      <td>1</td>\n",
       "      <td>C1CCN(CC1)Cc1cccc(c1)OCCCNC(=O)C</td>\n",
       "      <td>828.0</td>\n",
       "    </tr>\n",
       "    <tr>\n",
       "      <th>4</th>\n",
       "      <td>cloxacillin</td>\n",
       "      <td>1</td>\n",
       "      <td>Cc1onc(c2ccccc2Cl)c1C(=O)N[C@H]3[C@H]4SC(C)(C)...</td>\n",
       "      <td>258.0</td>\n",
       "    </tr>\n",
       "    <tr>\n",
       "      <th>5</th>\n",
       "      <td>cefoperazone</td>\n",
       "      <td>1</td>\n",
       "      <td>CCN1CCN(C(=O)N[C@@H](C(=O)N[C@H]2[C@H]3SCC(=C(...</td>\n",
       "      <td>546.0</td>\n",
       "    </tr>\n",
       "    <tr>\n",
       "      <th>...</th>\n",
       "      <td>...</td>\n",
       "      <td>...</td>\n",
       "      <td>...</td>\n",
       "      <td>...</td>\n",
       "    </tr>\n",
       "    <tr>\n",
       "      <th>2043</th>\n",
       "      <td>zometapine</td>\n",
       "      <td>1</td>\n",
       "      <td>C3=C(C1=NCCN=C2N(NC(=C12)C)C)C=CC=C3Cl</td>\n",
       "      <td>765.0</td>\n",
       "    </tr>\n",
       "    <tr>\n",
       "      <th>2044</th>\n",
       "      <td>nitrous-oxide</td>\n",
       "      <td>1</td>\n",
       "      <td>[N+](=[N-])=O</td>\n",
       "      <td>1031.0</td>\n",
       "    </tr>\n",
       "    <tr>\n",
       "      <th>2045</th>\n",
       "      <td>licostinel</td>\n",
       "      <td>1</td>\n",
       "      <td>C1=C(Cl)C(=C(C2=C1NC(=O)C(N2)=O)[N+](=O)[O-])Cl</td>\n",
       "      <td>616.0</td>\n",
       "    </tr>\n",
       "    <tr>\n",
       "      <th>2047</th>\n",
       "      <td>mesocarb</td>\n",
       "      <td>1</td>\n",
       "      <td>[O+]1=N[N](C=C1[N-]C(NC2=CC=CC=C2)=O)C(CC3=CC=...</td>\n",
       "      <td>324.0</td>\n",
       "    </tr>\n",
       "    <tr>\n",
       "      <th>2049</th>\n",
       "      <td>azidamfenicol</td>\n",
       "      <td>1</td>\n",
       "      <td>[N+](=NCC(=O)N[C@@H]([C@H](O)C1=CC=C([N+]([O-]...</td>\n",
       "      <td>1001.0</td>\n",
       "    </tr>\n",
       "  </tbody>\n",
       "</table>\n",
       "<p>1828 rows × 4 columns</p>\n",
       "</div>"
      ],
      "text/plain": [
       "                      name  p_np  \\\n",
       "1     Terbutylchlorambucil     1   \n",
       "2                    40730     1   \n",
       "3                       24     1   \n",
       "4              cloxacillin     1   \n",
       "5             cefoperazone     1   \n",
       "...                    ...   ...   \n",
       "2043            zometapine     1   \n",
       "2044         nitrous-oxide     1   \n",
       "2045            licostinel     1   \n",
       "2047              mesocarb     1   \n",
       "2049         azidamfenicol     1   \n",
       "\n",
       "                                                 smiles  groups  \n",
       "1              C(=O)(OC(C)(C)C)CCCc1ccc(cc1)N(CCCl)CCCl  1001.0  \n",
       "2     c12c3c(N4CCN(C)CC4)c(F)cc1c(c(C(O)=O)cn2C(C)CO...   671.0  \n",
       "3                      C1CCN(CC1)Cc1cccc(c1)OCCCNC(=O)C   828.0  \n",
       "4     Cc1onc(c2ccccc2Cl)c1C(=O)N[C@H]3[C@H]4SC(C)(C)...   258.0  \n",
       "5     CCN1CCN(C(=O)N[C@@H](C(=O)N[C@H]2[C@H]3SCC(=C(...   546.0  \n",
       "...                                                 ...     ...  \n",
       "2043             C3=C(C1=NCCN=C2N(NC(=C12)C)C)C=CC=C3Cl   765.0  \n",
       "2044                                      [N+](=[N-])=O  1031.0  \n",
       "2045    C1=C(Cl)C(=C(C2=C1NC(=O)C(N2)=O)[N+](=O)[O-])Cl   616.0  \n",
       "2047  [O+]1=N[N](C=C1[N-]C(NC2=CC=CC=C2)=O)C(CC3=CC=...   324.0  \n",
       "2049  [N+](=NCC(=O)N[C@@H]([C@H](O)C1=CC=C([N+]([O-]...  1001.0  \n",
       "\n",
       "[1828 rows x 4 columns]"
      ]
     },
     "execution_count": 9,
     "metadata": {},
     "output_type": "execute_result"
    }
   ],
   "source": [
    "TEST_SET_SIZE = 0.1  # 10%\n",
    "VALID_SET_SIZE = 0.1  # 10%\n",
    "\n",
    "# create a mask to remove invalid samples from all data\n",
    "df_has_grouping = df.query(\"groups.notna()\")\n",
    "\n",
    "# we first do a 90/10 split to create the hold-out test set\n",
    "grouper_test = GroupShuffleSplit(n_splits=1, test_size=0.10, random_state=RANDOM_STATE)\n",
    "\n",
    "# test_indices are the indices of the hold-out test set.\n",
    "tmp_indices, test_indices = next(\n",
    "    grouper_test.split(\n",
    "        df_has_grouping[\"smiles\"],\n",
    "        df_has_grouping[\"p_np\"],\n",
    "        groups=df_has_grouping[\"groups\"],\n",
    "    )\n",
    ")\n",
    "\n",
    "# calculate what 10% of the full data set is on the 90% chunk\n",
    "propotion_valid_set = df[\"smiles\"].shape[0] * VALID_SET_SIZE / len(tmp_indices)\n",
    "\n",
    "# then, we split the 90% of the data again to create a train and a valid set.\n",
    "grouper_valid = GroupShuffleSplit(\n",
    "    n_splits=1, test_size=propotion_valid_set, random_state=RANDOM_STATE\n",
    ")\n",
    "\n",
    "# the 10% as hold-out test set\n",
    "df_test = df_has_grouping.iloc[test_indices, :]\n",
    "\n",
    "# the 90% containing both train and valid set (will be used later with the grouper_valid)\n",
    "df_train_and_valid = df_has_grouping.iloc[tmp_indices, :]\n",
    "df_train_and_valid"
   ]
  },
  {
   "cell_type": "markdown",
   "id": "c18106f8-85ac-4512-addf-853db01c8c84",
   "metadata": {},
   "source": [
    "### Hyperparameter search and model selection\n",
    "\n",
    "Here we will use Sklearn's GridSearchCV with Molpipeline to determine the best hyperparameter configuration on BBBP using the train and valid data sets. Afterwards we can determine the best models' performance on the hold-out test set."
   ]
  },
  {
   "cell_type": "markdown",
   "id": "cb5c49cf-3e01-432e-aa5c-5bbda44aa964",
   "metadata": {},
   "source": [
    "Before starting the actual hyperparameter search we pre-compute the standardized molecules. While this pre-computation is not strictly necessary this gives a speed up of about 5-6x for the whole hyperparameter search. The slowest step in the standardization is finding a canonical tautomer. By pre-computation the canonical tautomer is determined once and not for each hyperparameter combination."
   ]
  },
  {
   "cell_type": "code",
   "execution_count": 10,
   "id": "b55094d2-d07d-43b6-87f9-026bc2f87caf",
   "metadata": {},
   "outputs": [
    {
     "name": "stdout",
     "output_type": "stream",
     "text": [
      "CPU times: user 455 ms, sys: 229 ms, total: 684 ms\n",
      "Wall time: 12.9 s\n"
     ]
    }
   ],
   "source": [
    "%%time\n",
    "\n",
    "# Let's pre-compute the molecular standardization\n",
    "pipeline_standardization = Pipeline(\n",
    "    [(\"auto2mol\", AutoToMol())] + make_standardization_elements(),\n",
    "    n_jobs=N_JOBS,\n",
    ")\n",
    "\n",
    "stand_mols = pipeline_standardization.transform(df_train_and_valid[\"smiles\"])"
   ]
  },
  {
   "cell_type": "markdown",
   "id": "2bab5bd1-5cf8-4bb3-a01d-912b0b9b1dc1",
   "metadata": {},
   "source": [
    "Let's do the hyperparameter search"
   ]
  },
  {
   "cell_type": "code",
   "execution_count": 11,
   "id": "91e40fb7-79ca-4487-81cb-887bb2121557",
   "metadata": {},
   "outputs": [
    {
     "name": "stderr",
     "output_type": "stream",
     "text": [
      "/home/siegjo/miniconda3/envs/ml24_1/lib/python3.11/site-packages/sklearn/metrics/pairwise.py:2317: DataConversionWarning: Data was converted to boolean for metric jaccard\n",
      "  warnings.warn(msg, DataConversionWarning)\n",
      "/home/siegjo/miniconda3/envs/ml24_1/lib/python3.11/site-packages/sklearn/metrics/pairwise.py:2317: DataConversionWarning: Data was converted to boolean for metric jaccard\n",
      "  warnings.warn(msg, DataConversionWarning)\n",
      "/home/siegjo/miniconda3/envs/ml24_1/lib/python3.11/site-packages/sklearn/metrics/pairwise.py:2317: DataConversionWarning: Data was converted to boolean for metric jaccard\n",
      "  warnings.warn(msg, DataConversionWarning)\n",
      "/home/siegjo/miniconda3/envs/ml24_1/lib/python3.11/site-packages/sklearn/metrics/pairwise.py:2317: DataConversionWarning: Data was converted to boolean for metric jaccard\n",
      "  warnings.warn(msg, DataConversionWarning)\n",
      "/home/siegjo/miniconda3/envs/ml24_1/lib/python3.11/site-packages/sklearn/metrics/pairwise.py:2317: DataConversionWarning: Data was converted to boolean for metric jaccard\n",
      "  warnings.warn(msg, DataConversionWarning)\n",
      "/home/siegjo/miniconda3/envs/ml24_1/lib/python3.11/site-packages/sklearn/metrics/pairwise.py:2317: DataConversionWarning: Data was converted to boolean for metric jaccard\n",
      "  warnings.warn(msg, DataConversionWarning)\n",
      "/home/siegjo/miniconda3/envs/ml24_1/lib/python3.11/site-packages/sklearn/metrics/pairwise.py:2317: DataConversionWarning: Data was converted to boolean for metric jaccard\n",
      "  warnings.warn(msg, DataConversionWarning)\n",
      "/home/siegjo/miniconda3/envs/ml24_1/lib/python3.11/site-packages/sklearn/metrics/pairwise.py:2317: DataConversionWarning: Data was converted to boolean for metric jaccard\n",
      "  warnings.warn(msg, DataConversionWarning)\n",
      "/home/siegjo/miniconda3/envs/ml24_1/lib/python3.11/site-packages/sklearn/metrics/pairwise.py:2317: DataConversionWarning: Data was converted to boolean for metric jaccard\n",
      "  warnings.warn(msg, DataConversionWarning)\n",
      "/home/siegjo/miniconda3/envs/ml24_1/lib/python3.11/site-packages/sklearn/metrics/pairwise.py:2317: DataConversionWarning: Data was converted to boolean for metric jaccard\n",
      "  warnings.warn(msg, DataConversionWarning)\n",
      "/home/siegjo/miniconda3/envs/ml24_1/lib/python3.11/site-packages/sklearn/metrics/pairwise.py:2317: DataConversionWarning: Data was converted to boolean for metric jaccard\n",
      "  warnings.warn(msg, DataConversionWarning)\n",
      "/home/siegjo/miniconda3/envs/ml24_1/lib/python3.11/site-packages/sklearn/metrics/pairwise.py:2317: DataConversionWarning: Data was converted to boolean for metric jaccard\n",
      "  warnings.warn(msg, DataConversionWarning)\n",
      "/home/siegjo/miniconda3/envs/ml24_1/lib/python3.11/site-packages/sklearn/metrics/pairwise.py:2317: DataConversionWarning: Data was converted to boolean for metric jaccard\n",
      "  warnings.warn(msg, DataConversionWarning)\n",
      "/home/siegjo/miniconda3/envs/ml24_1/lib/python3.11/site-packages/sklearn/metrics/pairwise.py:2317: DataConversionWarning: Data was converted to boolean for metric jaccard\n",
      "  warnings.warn(msg, DataConversionWarning)\n",
      "/home/siegjo/miniconda3/envs/ml24_1/lib/python3.11/site-packages/sklearn/metrics/pairwise.py:2317: DataConversionWarning: Data was converted to boolean for metric jaccard\n",
      "  warnings.warn(msg, DataConversionWarning)\n",
      "/home/siegjo/miniconda3/envs/ml24_1/lib/python3.11/site-packages/sklearn/metrics/pairwise.py:2317: DataConversionWarning: Data was converted to boolean for metric jaccard\n",
      "  warnings.warn(msg, DataConversionWarning)\n"
     ]
    },
    {
     "name": "stdout",
     "output_type": "stream",
     "text": [
      "CPU times: user 1min 30s, sys: 1.91 s, total: 1min 32s\n",
      "Wall time: 3min 31s\n"
     ]
    }
   ],
   "source": [
    "%%time\n",
    "\n",
    "# setup the estimators and their hyperparameters we want to consider in the grid search\n",
    "estimator_dict = {\n",
    "    \"RF\": {\n",
    "        \"model\": RandomForestClassifier(),\n",
    "        \"hyperparameters\": {\n",
    "            \"n_estimators\": [200, 1000],\n",
    "            \"max_depth\": [8, 32, 128, None],\n",
    "            \"min_samples_split\": [2, 5, 7],\n",
    "            \"min_samples_leaf\": [1, 3, 5],\n",
    "            \"random_state\": [RANDOM_STATE],\n",
    "        },\n",
    "    },\n",
    "    \"KNN\": {\n",
    "        \"model\": KNeighborsClassifier(),\n",
    "        \"hyperparameters\": {\n",
    "            \"n_neighbors\": [3, 5],\n",
    "            \"metric\": [\"jaccard\"],\n",
    "            \"weights\": [\"uniform\", \"distance\"],\n",
    "        },\n",
    "    },\n",
    "    \"Logit\": {\n",
    "        \"model\": LogisticRegression(),\n",
    "        \"hyperparameters\": {\n",
    "            \"C\": [0.001, 0.1, 1, 10, 100, 1000],\n",
    "            \"max_iter\": [1000],\n",
    "            \"random_state\": [RANDOM_STATE],\n",
    "        },\n",
    "    },\n",
    "}\n",
    "\n",
    "# Molpipline lets you also natively include hyperparameters of the descriptor\n",
    "morgan_grid_spaces = {\"morgan__n_bits\": [1024, 2048], \"morgan__radius\": [1, 2]}\n",
    "\n",
    "# we loop over all estimators and do a grid search separately\n",
    "cv_dict = {}\n",
    "for model_name, model_dict in estimator_dict.items():\n",
    "\n",
    "    pipeline_estimator = Pipeline(\n",
    "        [(\"auto2mol\", AutoToMol())]\n",
    "        + [(\"morgan\", MolToFoldedMorgan(output_datatype=\"dense\"))]\n",
    "        + [(\"estimator\", model_dict[\"model\"])],\n",
    "        n_jobs=N_JOBS,\n",
    "    )\n",
    "\n",
    "    pipeline_param_grid = {\n",
    "        f\"estimator__{k}\": v for k, v in model_dict[\"hyperparameters\"].items()\n",
    "    }\n",
    "    pipeline_param_grid.update(morgan_grid_spaces)\n",
    "\n",
    "    cv = GridSearchCV(\n",
    "        estimator=pipeline_estimator,\n",
    "        param_grid=pipeline_param_grid,\n",
    "        cv=grouper_valid,\n",
    "        scoring=\"roc_auc\",\n",
    "        n_jobs=N_JOBS,\n",
    "    )\n",
    "\n",
    "    cv.fit(\n",
    "        X=stand_mols,\n",
    "        y=df_train_and_valid[\"p_np\"],\n",
    "        groups=df_train_and_valid[\"groups\"],\n",
    "    )\n",
    "\n",
    "    cv_dict[model_name] = cv"
   ]
  },
  {
   "cell_type": "markdown",
   "id": "146f0dbf-4f50-4b34-97e5-b1fb2eea8090",
   "metadata": {},
   "source": [
    "Let's have a look at the best estimators selected with the grid search"
   ]
  },
  {
   "cell_type": "code",
   "execution_count": 12,
   "id": "64ec2757-fe0a-4a5d-b589-99231fd8c713",
   "metadata": {},
   "outputs": [
    {
     "data": {
      "text/plain": [
       "[Pipeline(n_jobs=16,\n",
       "          steps=[('auto2mol', AutoToMol()),\n",
       "                 ('morgan', MolToFoldedMorgan(radius=1, output_datatype=dense)),\n",
       "                 ('estimator',\n",
       "                  RandomForestClassifier(max_depth=128, n_estimators=200,\n",
       "                                         random_state=67056))]),\n",
       " Pipeline(n_jobs=16,\n",
       "          steps=[('auto2mol', AutoToMol()),\n",
       "                 ('morgan', MolToFoldedMorgan(radius=1, output_datatype=dense)),\n",
       "                 ('estimator', KNeighborsClassifier(metric='jaccard'))]),\n",
       " Pipeline(n_jobs=16,\n",
       "          steps=[('auto2mol', AutoToMol()),\n",
       "                 ('morgan',\n",
       "                  MolToFoldedMorgan(radius=1, n_bits=1024, output_datatype=dense)),\n",
       "                 ('estimator',\n",
       "                  LogisticRegression(C=1, max_iter=1000, random_state=67056))])]"
      ]
     },
     "execution_count": 12,
     "metadata": {},
     "output_type": "execute_result"
    }
   ],
   "source": [
    "best_estimators = [cv.best_estimator_ for cv in cv_dict.values()]\n",
    "best_estimators"
   ]
  },
  {
   "cell_type": "markdown",
   "id": "10dff86b-caf3-4c71-93ad-d1a944b86bf8",
   "metadata": {},
   "source": [
    "The three estimators achieved the following ROC AUCs on the validation set"
   ]
  },
  {
   "cell_type": "code",
   "execution_count": 13,
   "id": "5338c16f-e970-45a7-b82b-5992379bf22c",
   "metadata": {},
   "outputs": [
    {
     "data": {
      "text/plain": [
       "[0.8882653061224489, 0.843452380952381, 0.8710034013605442]"
      ]
     },
     "execution_count": 13,
     "metadata": {},
     "output_type": "execute_result"
    }
   ],
   "source": [
    "best_valid_scores = [cv.best_score_ for cv in cv_dict.values()]\n",
    "best_valid_scores"
   ]
  },
  {
   "cell_type": "markdown",
   "id": "15b72672-2999-4ad7-8967-ccc66e786b97",
   "metadata": {},
   "source": [
    "### Determine performance on the hold-out test set\n",
    "\n",
    "After selecting the best predictors on the valid set we want to see an estimate of their performance on the hold-out test set  "
   ]
  },
  {
   "cell_type": "code",
   "execution_count": 14,
   "id": "c0387335-ea6d-4541-83e3-8acfb8a891e0",
   "metadata": {},
   "outputs": [],
   "source": [
    "# pre-compute standardized molecules\n",
    "pipeline_standardization = Pipeline(\n",
    "    [(\"auto2mol\", AutoToMol())] + make_standardization_elements(),\n",
    "    n_jobs=N_JOBS,\n",
    ")\n",
    "test_smiles_standardized = pipeline_standardization.transform(df_test[\"smiles\"])"
   ]
  },
  {
   "cell_type": "code",
   "execution_count": 15,
   "id": "fe30a622-de78-4b71-90af-d98ee24d368d",
   "metadata": {},
   "outputs": [
    {
     "name": "stdout",
     "output_type": "stream",
     "text": [
      "RF valid_roc_auc: 0.89 test_roc_auc: 0.91\n"
     ]
    },
    {
     "name": "stderr",
     "output_type": "stream",
     "text": [
      "/home/siegjo/miniconda3/envs/ml24_1/lib/python3.11/site-packages/sklearn/metrics/pairwise.py:2317: DataConversionWarning: Data was converted to boolean for metric jaccard\n",
      "  warnings.warn(msg, DataConversionWarning)\n"
     ]
    },
    {
     "name": "stdout",
     "output_type": "stream",
     "text": [
      "KNN valid_roc_auc: 0.84 test_roc_auc: 0.92\n",
      "Logit valid_roc_auc: 0.87 test_roc_auc: 0.86\n"
     ]
    }
   ],
   "source": [
    "test_roc_aucs = {}\n",
    "for model_name, cv in cv_dict.items():\n",
    "    best_estimator = cv.best_estimator_\n",
    "    test_predictions = best_estimator.predict_proba(test_smiles_standardized)\n",
    "    test_roc_aucs[model_name] = roc_auc_score(df_test[\"p_np\"], test_predictions[:, 1])\n",
    "    print(\n",
    "        model_name,\n",
    "        f\"valid_roc_auc: {cv.best_score_:.2f}\",\n",
    "        f\"test_roc_auc: {test_roc_aucs[model_name]:.2f}\",\n",
    "    )"
   ]
  },
  {
   "cell_type": "markdown",
   "id": "3b004220-01e9-4f72-a16c-1a0544274e2e",
   "metadata": {},
   "source": [
    "As shown above the best model on the validation set is RandomForestClassifier with an ROC AUC of 0.89, however on the hold-out test set KNeighborsClassifier is slightly better. "
   ]
  },
  {
   "cell_type": "markdown",
   "id": "55fb7c57-61a0-413b-9dc8-d326ff029ec7",
   "metadata": {},
   "source": [
    "### Plot the performances on the validation set"
   ]
  },
  {
   "cell_type": "markdown",
   "id": "095b0288-40c2-4808-9658-14b2785d82dc",
   "metadata": {},
   "source": [
    "Let's extract the result on the validation set from all hyperparameter combinations we tried in a DataFrame for plotting."
   ]
  },
  {
   "cell_type": "code",
   "execution_count": 16,
   "id": "169cfe81-5c83-45c1-a5db-a4ecde295bdc",
   "metadata": {},
   "outputs": [
    {
     "data": {
      "text/html": [
       "<div>\n",
       "<style scoped>\n",
       "    .dataframe tbody tr th:only-of-type {\n",
       "        vertical-align: middle;\n",
       "    }\n",
       "\n",
       "    .dataframe tbody tr th {\n",
       "        vertical-align: top;\n",
       "    }\n",
       "\n",
       "    .dataframe thead th {\n",
       "        text-align: right;\n",
       "    }\n",
       "</style>\n",
       "<table border=\"1\" class=\"dataframe\">\n",
       "  <thead>\n",
       "    <tr style=\"text-align: right;\">\n",
       "      <th></th>\n",
       "      <th>mean_test_score</th>\n",
       "      <th>estimator</th>\n",
       "    </tr>\n",
       "  </thead>\n",
       "  <tbody>\n",
       "    <tr>\n",
       "      <th>0</th>\n",
       "      <td>0.833588</td>\n",
       "      <td>RandomForest</td>\n",
       "    </tr>\n",
       "    <tr>\n",
       "      <th>1</th>\n",
       "      <td>0.848980</td>\n",
       "      <td>RandomForest</td>\n",
       "    </tr>\n",
       "    <tr>\n",
       "      <th>2</th>\n",
       "      <td>0.856293</td>\n",
       "      <td>RandomForest</td>\n",
       "    </tr>\n",
       "    <tr>\n",
       "      <th>3</th>\n",
       "      <td>0.819813</td>\n",
       "      <td>RandomForest</td>\n",
       "    </tr>\n",
       "    <tr>\n",
       "      <th>4</th>\n",
       "      <td>0.843197</td>\n",
       "      <td>RandomForest</td>\n",
       "    </tr>\n",
       "    <tr>\n",
       "      <th>...</th>\n",
       "      <td>...</td>\n",
       "      <td>...</td>\n",
       "    </tr>\n",
       "    <tr>\n",
       "      <th>323</th>\n",
       "      <td>0.830102</td>\n",
       "      <td>LogisticRegression</td>\n",
       "    </tr>\n",
       "    <tr>\n",
       "      <th>324</th>\n",
       "      <td>0.825425</td>\n",
       "      <td>LogisticRegression</td>\n",
       "    </tr>\n",
       "    <tr>\n",
       "      <th>325</th>\n",
       "      <td>0.782738</td>\n",
       "      <td>LogisticRegression</td>\n",
       "    </tr>\n",
       "    <tr>\n",
       "      <th>326</th>\n",
       "      <td>0.785969</td>\n",
       "      <td>LogisticRegression</td>\n",
       "    </tr>\n",
       "    <tr>\n",
       "      <th>327</th>\n",
       "      <td>0.842092</td>\n",
       "      <td>LogisticRegression</td>\n",
       "    </tr>\n",
       "  </tbody>\n",
       "</table>\n",
       "<p>328 rows × 2 columns</p>\n",
       "</div>"
      ],
      "text/plain": [
       "     mean_test_score           estimator\n",
       "0           0.833588        RandomForest\n",
       "1           0.848980        RandomForest\n",
       "2           0.856293        RandomForest\n",
       "3           0.819813        RandomForest\n",
       "4           0.843197        RandomForest\n",
       "..               ...                 ...\n",
       "323         0.830102  LogisticRegression\n",
       "324         0.825425  LogisticRegression\n",
       "325         0.782738  LogisticRegression\n",
       "326         0.785969  LogisticRegression\n",
       "327         0.842092  LogisticRegression\n",
       "\n",
       "[328 rows x 2 columns]"
      ]
     },
     "execution_count": 16,
     "metadata": {},
     "output_type": "execute_result"
    }
   ],
   "source": [
    "dict_data = {\"mean_test_score\": [], \"estimator\": []}\n",
    "for model_name, cv in cv_dict.items():\n",
    "    dict_data[\"mean_test_score\"].extend(cv.cv_results_[\"mean_test_score\"])\n",
    "    dict_data[\"estimator\"].extend([model_name] * len(cv.cv_results_[\"mean_test_score\"]))\n",
    "\n",
    "rename_dict = {\n",
    "    \"RF\": \"RandomForest\",\n",
    "    \"KNN\": \"K-NearestNeigbor\",\n",
    "    \"Logit\": \"LogisticRegression\",\n",
    "}\n",
    "\n",
    "df_cv = pd.DataFrame(dict_data)\n",
    "df_cv[\"estimator\"] = df_cv[\"estimator\"].replace(rename_dict)\n",
    "df_cv"
   ]
  },
  {
   "cell_type": "markdown",
   "id": "a9cdc2f7-b81c-449b-a5dd-ef5ca4a4380b",
   "metadata": {},
   "source": [
    "Now, let's plot the performances of all tried hyperparameter configurations of the three models. The red X's are the performances of the best estimators on the hold-out test set. We can see that RandomForest and KNN are relatively on par on the test set, while logistic regression still has an excellent but lower ROC AUC."
   ]
  },
  {
   "cell_type": "code",
   "execution_count": 17,
   "id": "6938bc29-a2f2-45a2-a5b5-f5fab7f94f69",
   "metadata": {},
   "outputs": [
    {
     "data": {
      "image/png": "[encoded data removed]",
      "text/plain": [
       "<Figure size 800x900 with 1 Axes>"
      ]
     },
     "metadata": {},
     "output_type": "display_data"
    }
   ],
   "source": [
    "plt.figure(figsize=(8, 9))\n",
    "\n",
    "# plot the validation set performance\n",
    "ax = sns.boxplot(\n",
    "    data=df_cv,\n",
    "    x=\"estimator\",\n",
    "    y=\"mean_test_score\",\n",
    "    hue=\"estimator\",\n",
    "    boxprops={\"alpha\": 0.4},\n",
    "    showmeans=False,\n",
    ")\n",
    "sns.stripplot(\n",
    "    data=df_cv,\n",
    "    x=\"estimator\",\n",
    "    y=\"mean_test_score\",\n",
    "    hue=\"estimator\",\n",
    "    ax=ax,\n",
    ")\n",
    "\n",
    "# plot the test set performance of the best models\n",
    "for model_name, metric_value in test_roc_aucs.items():\n",
    "    plt.scatter(rename_dict[model_name], metric_value, marker=\"x\", color=\"red\")\n",
    "\n",
    "plt.title(\"Performance on the validation set\", fontsize=16)\n",
    "plt.ylabel(\"ROC AUC\", fontsize=13)\n",
    "plt.xlabel(\"Estimators\", fontsize=13)\n",
    "plt.xticks(fontsize=12)\n",
    "plt.show()"
   ]
  }
 ],
 "metadata": {
  "kernelspec": {
   "display_name": "Python 3 (ipykernel)",
   "language": "python",
   "name": "python3"
  },
  "language_info": {
   "codemirror_mode": {
    "name": "ipython",
    "version": 3
   },
   "file_extension": ".py",
   "mimetype": "text/x-python",
   "name": "python",
   "nbconvert_exporter": "python",
   "pygments_lexer": "ipython3",
   "version": "3.11.7"
  }
 },
 "nbformat": 4,
 "nbformat_minor": 5
}
