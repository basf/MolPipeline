{
 "cells": [
  {
   "cell_type": "markdown",
   "id": "8d6c1c47-76b8-4e43-95d2-e081f7b364fc",
   "metadata": {},
   "source": [
    "This notebook gives a short introduction on how to write your own MolPipeline pipeline elements.\n",
    "\n"
   ]
  },
  {
   "cell_type": "markdown",
   "id": "04590bb3-eaeb-4948-b7e1-1693c7332ee9",
   "metadata": {},
   "source": [
    "# How to add custom molecular featurization?\n",
    "\n",
    "In MolPipeline, molecular descriptors or featurization methods are implemented as `MolToAnyPipelineElement` because they transform an RDKit molecule data structure to some other representation, e.g., a feature vector.\n",
    "\n",
    "## Example using `MolToDescriptorPipelineElement`\n",
    "\n",
    "The `MolToDescriptorPipelineElement` is a specification of `MolToAnyPipelineElement` adding useful functionality to the interface, like the number of features, the names of features and optional feature normalization. Analogously, the `MolToFingerprintPipelineElement` provides some useful functions for molecular fingerprint featurization.\n",
    "\n",
    "In the following example, we demonstrate how to implement a new molecular descriptor representing the composition of a molecule using the counts of chemical element symbols. "
   ]
  },
  {
   "cell_type": "code",
   "execution_count": 1,
   "id": "7000425d-6ea9-4057-b554-b6a9954f51da",
   "metadata": {},
   "outputs": [],
   "source": [
    "import numpy as np\n",
    "import numpy.typing as npt\n",
    "\n",
    "from molpipeline.abstract_pipeline_elements.mol2any import (\n",
    "    MolToDescriptorPipelineElement,\n",
    ")\n",
    "from molpipeline.utils.molpipeline_types import AnyTransformer, RDKitMol\n",
    "\n",
    "\n",
    "class ElementCountDescriptor(MolToDescriptorPipelineElement):\n",
    "    \"\"\"Element count descriptor.\"\"\"\n",
    "\n",
    "    def __init__(\n",
    "        self,\n",
    "        elements_to_count: list[int],\n",
    "        standardizer: AnyTransformer | None = None,\n",
    "        name: str = \"ElementCountDescriptor\",\n",
    "        n_jobs: int = 1,\n",
    "        uuid: str | None = None,\n",
    "    ) -> None:\n",
    "        \"\"\"Construct a new ElementCountDescriptor.\n",
    "\n",
    "        Parameters\n",
    "        ----------\n",
    "        elements_to_count : list[int]\n",
    "            List of atomic numbers to count in the molecule.\n",
    "        standardizer : AnyTransformer | None, optional\n",
    "            Standardizer to apply to the feature vector.\n",
    "        name : str, default=\"ElementCountDescriptor\"\n",
    "            Name of the descriptor.\n",
    "        n_jobs : int, default=1\n",
    "            Number of jobs to run in parallel.\n",
    "        uuid : str, optional\n",
    "            Unique identifier for the descriptor.\n",
    "\n",
    "        \"\"\"\n",
    "        super().__init__(\n",
    "            standardizer=standardizer,\n",
    "            name=name,\n",
    "            n_jobs=n_jobs,\n",
    "            uuid=uuid,\n",
    "        )\n",
    "\n",
    "        # Defines which chemical elements are to count in a molecule.\n",
    "        # The keys are the atomic number and the values their position in the feature vector.\n",
    "        self.elements_dict = {element: i for i, element in enumerate(elements_to_count)}\n",
    "\n",
    "    @property\n",
    "    def n_features(self) -> int:\n",
    "        \"\"\"Return the number of features.\"\"\"\n",
    "        return len(self.elements_dict)\n",
    "\n",
    "    @property\n",
    "    def descriptor_list(self) -> list[str]:\n",
    "        \"\"\"Return a copy of the descriptor list.\"\"\"\n",
    "        return [f\"atom_count_{atom_number}\" for atom_number in self.elements_dict]\n",
    "\n",
    "    def pretransform_single(self, value: RDKitMol) -> npt.NDArray[np.float64]:\n",
    "        \"\"\"Transform an RDKit molecule to the element count feature vector.\"\"\"\n",
    "        feature_vector = np.zeros(len(self.elements_dict))\n",
    "        for atom in value.GetAtoms():\n",
    "            atomic_number = atom.GetAtomicNum()\n",
    "            if atomic_number in self.elements_dict:\n",
    "                feature_vector[self.elements_dict[atomic_number]] += 1\n",
    "        return feature_vector"
   ]
  },
  {
   "cell_type": "code",
   "execution_count": 2,
   "id": "9b10eb7f-7d10-4435-ba1c-9594ae1f27bb",
   "metadata": {},
   "outputs": [
    {
     "data": {
      "text/plain": [
       "array([[2., 0., 1., 0.]])"
      ]
     },
     "execution_count": 2,
     "metadata": {},
     "output_type": "execute_result"
    }
   ],
   "source": [
    "from rdkit import Chem\n",
    "\n",
    "# let's create a new ElementCountDescriptor counting carbon, nitrogen, oxygen and fluor atoms in the molecule\n",
    "counter = ElementCountDescriptor(elements_to_count=[6, 7, 8, 9])\n",
    "\n",
    "# let's transform the molecule to our descriptor\n",
    "counter.transform([Chem.MolFromSmiles(\"CCO\")])"
   ]
  },
  {
   "cell_type": "markdown",
   "id": "867ce38d-ea34-4db3-8d79-b2637abacbee",
   "metadata": {},
   "source": [
    "The resulting feature vector shows 2 carbons, 0 nitrogens, 1 oxygen and 0 fluorines."
   ]
  },
  {
   "cell_type": "markdown",
   "id": "caa290aa-fc19-4764-b19a-7d511d43f442",
   "metadata": {},
   "source": [
    "Now create a pipeline transforming a list of SMILES strings to a numpy matrix of our new descriptor.  "
   ]
  },
  {
   "cell_type": "code",
   "execution_count": 3,
   "id": "1a951cf7-0d59-4cb3-9cd7-51d1e919580a",
   "metadata": {},
   "outputs": [],
   "source": [
    "from molpipeline import Pipeline\n",
    "from molpipeline.any2mol import AutoToMol\n",
    "\n",
    "# create a pipeline\n",
    "pipeline_feat = Pipeline(\n",
    "    [\n",
    "        (\"auto2mol\", AutoToMol()),\n",
    "        (\n",
    "            \"ElementCountDescriptor\",\n",
    "            ElementCountDescriptor(elements_to_count=[6, 7, 8, 9]),\n",
    "        ),\n",
    "    ]\n",
    ")"
   ]
  },
  {
   "cell_type": "code",
   "execution_count": 4,
   "id": "91edef18-8de3-4ba4-bcf9-9324cceffb87",
   "metadata": {},
   "outputs": [
    {
     "data": {
      "text/plain": [
       "array([[3., 0., 1., 0.],\n",
       "       [6., 1., 0., 0.],\n",
       "       [8., 4., 2., 0.]])"
      ]
     },
     "execution_count": 4,
     "metadata": {},
     "output_type": "execute_result"
    }
   ],
   "source": [
    "pipeline_feat.fit_transform([\"CCCO\", \"c1ccccc1N\", \"CN1C=NC2=C1C(=O)N(C(=O)N2C)C\"])"
   ]
  },
  {
   "cell_type": "markdown",
   "id": "c65a0dfa-48eb-4b70-b1db-f8a49da68edc",
   "metadata": {},
   "source": [
    "# How to add a new machine learning model\n",
    "\n",
    "Adding a new machine learning model is the same procedure as adding a new machine learning model to scikit-learn because of MolPipeline's seamless interoperability with scikit-learn. The [Developing scikit-learn estimators](https://scikit-learn.org/stable/developers/develop.html) guide is a great resource for this with many technical details.\n",
    "\n",
    "Here in this notebook, we will give a short example of how to implement your own simplified logistic regression estimator."
   ]
  },
  {
   "cell_type": "code",
   "execution_count": 5,
   "id": "b55ff3fa-1f2b-4701-ae6a-c97d702fd6c7",
   "metadata": {},
   "outputs": [],
   "source": [
    "from sklearn.base import BaseEstimator, ClassifierMixin\n",
    "\n",
    "\n",
    "class SimplifiedLogisticRegression(BaseEstimator, ClassifierMixin):\n",
    "    \"\"\"Example estimator for the simplified logistic regression algorithm.\"\"\"\n",
    "\n",
    "    def __init__(self, lr=0.01, num_iter=10000):\n",
    "        self.lr = lr\n",
    "        self.num_iter = num_iter\n",
    "\n",
    "    def _sigmoid(self, z):\n",
    "        return 1 / (1 + np.exp(-z))\n",
    "\n",
    "    def fit(self, X, y):\n",
    "        self.theta = np.zeros(X.shape[1])\n",
    "        for _ in range(self.num_iter):\n",
    "            z = np.dot(X, self.theta)\n",
    "            h = self._sigmoid(z)\n",
    "            gradient = np.dot(X.T, (h - y)) / y.size\n",
    "            self.theta -= self.lr * gradient\n",
    "\n",
    "    def predict_proba(self, X):\n",
    "        return self._sigmoid(np.dot(X, self.theta))\n",
    "\n",
    "    def predict(self, X):\n",
    "        return np.array(self.predict_proba(X) > 0.5, dtype=np.int64)"
   ]
  },
  {
   "cell_type": "markdown",
   "id": "8468ec63-284e-4e3a-82cf-cb82c9645ceb",
   "metadata": {},
   "source": [
    "Let's perform a simple test using the presence of oxygen as our target."
   ]
  },
  {
   "cell_type": "code",
   "execution_count": 6,
   "id": "5dd51b89-1897-4c4f-be12-85bb507b4cce",
   "metadata": {},
   "outputs": [],
   "source": [
    "smiles_data = [\"CCCO\", \"c1ccccc1N\", \"CN1C=NC2=C1C(=O)N(C(=O)N2C)C\"]\n",
    "y_has_oxygen = np.array([1, 0, 1])"
   ]
  },
  {
   "cell_type": "code",
   "execution_count": 7,
   "id": "578a1da8-f478-45e0-a37d-dde92e136cdc",
   "metadata": {},
   "outputs": [
    {
     "data": {
      "text/plain": [
       "array([1, 0, 1])"
      ]
     },
     "execution_count": 7,
     "metadata": {},
     "output_type": "execute_result"
    }
   ],
   "source": [
    "# define the pipeline\n",
    "pipeline = Pipeline(\n",
    "    [\n",
    "        (\"auto2mol\", AutoToMol()),\n",
    "        (\n",
    "            \"ElementCountDescriptor\",\n",
    "            ElementCountDescriptor(elements_to_count=[6, 7, 8, 9]),\n",
    "        ),\n",
    "        (\"logistic_regression\", SimplifiedLogisticRegression()),\n",
    "    ]\n",
    ")\n",
    "\n",
    "# fit the model\n",
    "pipeline.fit(smiles_data, y_has_oxygen)\n",
    "\n",
    "# check the predictions on the training set\n",
    "predictions = pipeline.predict(smiles_data)\n",
    "predictions"
   ]
  }
 ],
 "metadata": {
  "kernelspec": {
   "display_name": "Python 3 (ipykernel)",
   "language": "python",
   "name": "python3"
  },
  "language_info": {
   "codemirror_mode": {
    "name": "ipython",
    "version": 3
   },
   "file_extension": ".py",
   "mimetype": "text/x-python",
   "name": "python",
   "nbconvert_exporter": "python",
   "pygments_lexer": "ipython3",
   "version": "3.11.9"
  }
 },
 "nbformat": 4,
 "nbformat_minor": 5
}
